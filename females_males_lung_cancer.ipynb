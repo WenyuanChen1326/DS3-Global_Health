{
 "cells": [
  {
   "cell_type": "code",
   "execution_count": 12,
   "id": "ce3b5436",
   "metadata": {},
   "outputs": [],
   "source": [
    "import pandas as pd\n",
    "import numpy as np\n",
    "import matplotlib.pyplot as plt"
   ]
  },
  {
   "cell_type": "code",
   "execution_count": 13,
   "id": "31dce182",
   "metadata": {},
   "outputs": [],
   "source": [
    "import plotly.express as px"
   ]
  },
  {
   "cell_type": "code",
   "execution_count": 14,
   "id": "7c77ae50",
   "metadata": {},
   "outputs": [
    {
     "data": {
      "text/html": [
       "<div>\n",
       "<style scoped>\n",
       "    .dataframe tbody tr th:only-of-type {\n",
       "        vertical-align: middle;\n",
       "    }\n",
       "\n",
       "    .dataframe tbody tr th {\n",
       "        vertical-align: top;\n",
       "    }\n",
       "\n",
       "    .dataframe thead th {\n",
       "        text-align: right;\n",
       "    }\n",
       "</style>\n",
       "<table border=\"1\" class=\"dataframe\">\n",
       "  <thead>\n",
       "    <tr style=\"text-align: right;\">\n",
       "      <th></th>\n",
       "      <th>country</th>\n",
       "      <th>1989</th>\n",
       "      <th>1990</th>\n",
       "      <th>1991</th>\n",
       "      <th>1992</th>\n",
       "      <th>1993</th>\n",
       "      <th>1994</th>\n",
       "      <th>1995</th>\n",
       "      <th>1996</th>\n",
       "      <th>1997</th>\n",
       "      <th>...</th>\n",
       "      <th>2006</th>\n",
       "      <th>2007</th>\n",
       "      <th>2008</th>\n",
       "      <th>2009</th>\n",
       "      <th>2010</th>\n",
       "      <th>2011</th>\n",
       "      <th>2012</th>\n",
       "      <th>2013</th>\n",
       "      <th>2014</th>\n",
       "      <th>2015</th>\n",
       "    </tr>\n",
       "  </thead>\n",
       "  <tbody>\n",
       "    <tr>\n",
       "      <th>0</th>\n",
       "      <td>Afghanistan</td>\n",
       "      <td>220</td>\n",
       "      <td>233</td>\n",
       "      <td>250</td>\n",
       "      <td>270</td>\n",
       "      <td>289</td>\n",
       "      <td>308</td>\n",
       "      <td>317</td>\n",
       "      <td>324</td>\n",
       "      <td>330</td>\n",
       "      <td>...</td>\n",
       "      <td>468</td>\n",
       "      <td>489</td>\n",
       "      <td>511</td>\n",
       "      <td>535</td>\n",
       "      <td>559</td>\n",
       "      <td>586</td>\n",
       "      <td>617</td>\n",
       "      <td>648</td>\n",
       "      <td>679</td>\n",
       "      <td>712</td>\n",
       "    </tr>\n",
       "    <tr>\n",
       "      <th>1</th>\n",
       "      <td>Angola</td>\n",
       "      <td>125</td>\n",
       "      <td>128</td>\n",
       "      <td>132</td>\n",
       "      <td>138</td>\n",
       "      <td>146</td>\n",
       "      <td>151</td>\n",
       "      <td>152</td>\n",
       "      <td>155</td>\n",
       "      <td>166</td>\n",
       "      <td>...</td>\n",
       "      <td>233</td>\n",
       "      <td>244</td>\n",
       "      <td>255</td>\n",
       "      <td>266</td>\n",
       "      <td>279</td>\n",
       "      <td>294</td>\n",
       "      <td>310</td>\n",
       "      <td>327</td>\n",
       "      <td>345</td>\n",
       "      <td>364</td>\n",
       "    </tr>\n",
       "    <tr>\n",
       "      <th>2</th>\n",
       "      <td>Albania</td>\n",
       "      <td>95.2</td>\n",
       "      <td>99.1</td>\n",
       "      <td>102</td>\n",
       "      <td>106</td>\n",
       "      <td>112</td>\n",
       "      <td>118</td>\n",
       "      <td>125</td>\n",
       "      <td>133</td>\n",
       "      <td>140</td>\n",
       "      <td>...</td>\n",
       "      <td>169</td>\n",
       "      <td>170</td>\n",
       "      <td>172</td>\n",
       "      <td>174</td>\n",
       "      <td>176</td>\n",
       "      <td>179</td>\n",
       "      <td>183</td>\n",
       "      <td>186</td>\n",
       "      <td>190</td>\n",
       "      <td>193</td>\n",
       "    </tr>\n",
       "    <tr>\n",
       "      <th>3</th>\n",
       "      <td>Andorra</td>\n",
       "      <td>4.34</td>\n",
       "      <td>4.7</td>\n",
       "      <td>5.01</td>\n",
       "      <td>5.35</td>\n",
       "      <td>5.59</td>\n",
       "      <td>5.53</td>\n",
       "      <td>5.53</td>\n",
       "      <td>5.59</td>\n",
       "      <td>5.67</td>\n",
       "      <td>...</td>\n",
       "      <td>7.51</td>\n",
       "      <td>7.84</td>\n",
       "      <td>8.19</td>\n",
       "      <td>8.41</td>\n",
       "      <td>8.58</td>\n",
       "      <td>8.74</td>\n",
       "      <td>8.88</td>\n",
       "      <td>9.02</td>\n",
       "      <td>9.16</td>\n",
       "      <td>9.2</td>\n",
       "    </tr>\n",
       "    <tr>\n",
       "      <th>4</th>\n",
       "      <td>United Arab Emirates</td>\n",
       "      <td>7.21</td>\n",
       "      <td>7.72</td>\n",
       "      <td>8.3</td>\n",
       "      <td>8.91</td>\n",
       "      <td>9.6</td>\n",
       "      <td>10.4</td>\n",
       "      <td>11.1</td>\n",
       "      <td>11.8</td>\n",
       "      <td>12.5</td>\n",
       "      <td>...</td>\n",
       "      <td>23.2</td>\n",
       "      <td>26.9</td>\n",
       "      <td>31</td>\n",
       "      <td>35.9</td>\n",
       "      <td>39.1</td>\n",
       "      <td>42.1</td>\n",
       "      <td>45.3</td>\n",
       "      <td>48.8</td>\n",
       "      <td>53</td>\n",
       "      <td>57.7</td>\n",
       "    </tr>\n",
       "    <tr>\n",
       "      <th>...</th>\n",
       "      <td>...</td>\n",
       "      <td>...</td>\n",
       "      <td>...</td>\n",
       "      <td>...</td>\n",
       "      <td>...</td>\n",
       "      <td>...</td>\n",
       "      <td>...</td>\n",
       "      <td>...</td>\n",
       "      <td>...</td>\n",
       "      <td>...</td>\n",
       "      <td>...</td>\n",
       "      <td>...</td>\n",
       "      <td>...</td>\n",
       "      <td>...</td>\n",
       "      <td>...</td>\n",
       "      <td>...</td>\n",
       "      <td>...</td>\n",
       "      <td>...</td>\n",
       "      <td>...</td>\n",
       "      <td>...</td>\n",
       "      <td>...</td>\n",
       "    </tr>\n",
       "    <tr>\n",
       "      <th>191</th>\n",
       "      <td>Samoa</td>\n",
       "      <td>1.76</td>\n",
       "      <td>1.8</td>\n",
       "      <td>1.85</td>\n",
       "      <td>1.89</td>\n",
       "      <td>1.93</td>\n",
       "      <td>1.96</td>\n",
       "      <td>1.98</td>\n",
       "      <td>2</td>\n",
       "      <td>2.01</td>\n",
       "      <td>...</td>\n",
       "      <td>2.39</td>\n",
       "      <td>2.44</td>\n",
       "      <td>2.5</td>\n",
       "      <td>2.57</td>\n",
       "      <td>2.63</td>\n",
       "      <td>2.69</td>\n",
       "      <td>2.74</td>\n",
       "      <td>2.8</td>\n",
       "      <td>2.86</td>\n",
       "      <td>2.92</td>\n",
       "    </tr>\n",
       "    <tr>\n",
       "      <th>192</th>\n",
       "      <td>Yemen</td>\n",
       "      <td>142</td>\n",
       "      <td>149</td>\n",
       "      <td>156</td>\n",
       "      <td>163</td>\n",
       "      <td>171</td>\n",
       "      <td>179</td>\n",
       "      <td>186</td>\n",
       "      <td>193</td>\n",
       "      <td>198</td>\n",
       "      <td>...</td>\n",
       "      <td>279</td>\n",
       "      <td>292</td>\n",
       "      <td>305</td>\n",
       "      <td>320</td>\n",
       "      <td>331</td>\n",
       "      <td>344</td>\n",
       "      <td>359</td>\n",
       "      <td>375</td>\n",
       "      <td>389</td>\n",
       "      <td>403</td>\n",
       "    </tr>\n",
       "    <tr>\n",
       "      <th>193</th>\n",
       "      <td>South Africa</td>\n",
       "      <td>1160</td>\n",
       "      <td>1170</td>\n",
       "      <td>1200</td>\n",
       "      <td>1210</td>\n",
       "      <td>1230</td>\n",
       "      <td>1240</td>\n",
       "      <td>1310</td>\n",
       "      <td>1420</td>\n",
       "      <td>1480</td>\n",
       "      <td>...</td>\n",
       "      <td>1710</td>\n",
       "      <td>1730</td>\n",
       "      <td>1770</td>\n",
       "      <td>1800</td>\n",
       "      <td>1850</td>\n",
       "      <td>1900</td>\n",
       "      <td>1950</td>\n",
       "      <td>2020</td>\n",
       "      <td>2100</td>\n",
       "      <td>2170</td>\n",
       "    </tr>\n",
       "    <tr>\n",
       "      <th>194</th>\n",
       "      <td>Zambia</td>\n",
       "      <td>50.6</td>\n",
       "      <td>53.2</td>\n",
       "      <td>55.8</td>\n",
       "      <td>58.2</td>\n",
       "      <td>61</td>\n",
       "      <td>63.7</td>\n",
       "      <td>66.1</td>\n",
       "      <td>68.2</td>\n",
       "      <td>70.3</td>\n",
       "      <td>...</td>\n",
       "      <td>86.2</td>\n",
       "      <td>89.7</td>\n",
       "      <td>93.3</td>\n",
       "      <td>96.7</td>\n",
       "      <td>101</td>\n",
       "      <td>106</td>\n",
       "      <td>111</td>\n",
       "      <td>116</td>\n",
       "      <td>122</td>\n",
       "      <td>129</td>\n",
       "    </tr>\n",
       "    <tr>\n",
       "      <th>195</th>\n",
       "      <td>Zimbabwe</td>\n",
       "      <td>230</td>\n",
       "      <td>224</td>\n",
       "      <td>211</td>\n",
       "      <td>201</td>\n",
       "      <td>192</td>\n",
       "      <td>184</td>\n",
       "      <td>188</td>\n",
       "      <td>189</td>\n",
       "      <td>194</td>\n",
       "      <td>...</td>\n",
       "      <td>260</td>\n",
       "      <td>254</td>\n",
       "      <td>251</td>\n",
       "      <td>247</td>\n",
       "      <td>240</td>\n",
       "      <td>235</td>\n",
       "      <td>233</td>\n",
       "      <td>234</td>\n",
       "      <td>235</td>\n",
       "      <td>236</td>\n",
       "    </tr>\n",
       "  </tbody>\n",
       "</table>\n",
       "<p>196 rows × 28 columns</p>\n",
       "</div>"
      ],
      "text/plain": [
       "                  country  1989  1990  1991  1992  1993  1994  1995  1996  \\\n",
       "0             Afghanistan   220   233   250   270   289   308   317   324   \n",
       "1                  Angola   125   128   132   138   146   151   152   155   \n",
       "2                 Albania  95.2  99.1   102   106   112   118   125   133   \n",
       "3                 Andorra  4.34   4.7  5.01  5.35  5.59  5.53  5.53  5.59   \n",
       "4    United Arab Emirates  7.21  7.72   8.3  8.91   9.6  10.4  11.1  11.8   \n",
       "..                    ...   ...   ...   ...   ...   ...   ...   ...   ...   \n",
       "191                 Samoa  1.76   1.8  1.85  1.89  1.93  1.96  1.98     2   \n",
       "192                 Yemen   142   149   156   163   171   179   186   193   \n",
       "193          South Africa  1160  1170  1200  1210  1230  1240  1310  1420   \n",
       "194                Zambia  50.6  53.2  55.8  58.2    61  63.7  66.1  68.2   \n",
       "195              Zimbabwe   230   224   211   201   192   184   188   189   \n",
       "\n",
       "     1997  ...  2006  2007  2008  2009  2010  2011  2012  2013  2014  2015  \n",
       "0     330  ...   468   489   511   535   559   586   617   648   679   712  \n",
       "1     166  ...   233   244   255   266   279   294   310   327   345   364  \n",
       "2     140  ...   169   170   172   174   176   179   183   186   190   193  \n",
       "3    5.67  ...  7.51  7.84  8.19  8.41  8.58  8.74  8.88  9.02  9.16   9.2  \n",
       "4    12.5  ...  23.2  26.9    31  35.9  39.1  42.1  45.3  48.8    53  57.7  \n",
       "..    ...  ...   ...   ...   ...   ...   ...   ...   ...   ...   ...   ...  \n",
       "191  2.01  ...  2.39  2.44   2.5  2.57  2.63  2.69  2.74   2.8  2.86  2.92  \n",
       "192   198  ...   279   292   305   320   331   344   359   375   389   403  \n",
       "193  1480  ...  1710  1730  1770  1800  1850  1900  1950  2020  2100  2170  \n",
       "194  70.3  ...  86.2  89.7  93.3  96.7   101   106   111   116   122   129  \n",
       "195   194  ...   260   254   251   247   240   235   233   234   235   236  \n",
       "\n",
       "[196 rows x 28 columns]"
      ]
     },
     "execution_count": 14,
     "metadata": {},
     "output_type": "execute_result"
    }
   ],
   "source": [
    "female_lungs = pd.read_csv('data/lung_cancer_number_of_female_deaths.csv')\n",
    "female_lungs"
   ]
  },
  {
   "cell_type": "code",
   "execution_count": 15,
   "id": "2d608274",
   "metadata": {
    "scrolled": true
   },
   "outputs": [],
   "source": [
    "males_lungs = pd.read_csv('data/lung_cancer_number_of_male_deaths.csv')\n",
    "males_cs = males_lungs.set_index(\"country\")"
   ]
  },
  {
   "cell_type": "code",
   "execution_count": 16,
   "id": "53e1d20c",
   "metadata": {},
   "outputs": [],
   "source": [
    "def horizontal_merge(df1, df2):\n",
    "    return df1.merge(df2, left_on = ['country','Year'], right_on = ['Country Name', 'Year'], \\\n",
    "                     suffixes=['_life', '_pop'])"
   ]
  },
  {
   "cell_type": "code",
   "execution_count": 17,
   "id": "6cd77a1e",
   "metadata": {},
   "outputs": [],
   "source": [
    "def _indicator_melt(df,indicator):\n",
    "    return pd.melt(df, id_vars=[df.columns[0]], \\\n",
    "        value_vars = df.columns[1:], var_name='year', value_name= indicator)"
   ]
  },
  {
   "cell_type": "code",
   "execution_count": 18,
   "id": "6d1d14e9",
   "metadata": {},
   "outputs": [],
   "source": [
    "def vertical_merge(df1, df2):\n",
    "    return pd.concat([df1, df2], ignore_index=True)"
   ]
  },
  {
   "cell_type": "code",
   "execution_count": 19,
   "id": "f773b79f",
   "metadata": {},
   "outputs": [],
   "source": [
    "def _converter(x):\n",
    "    if type(x) == str:\n",
    "        if x[-1] == 'K' or x[-1] == 'k':\n",
    "            return float(x[:-1])*(10**3)\n",
    "        elif x[-1] == 'M' or x[-1] == 'm':\n",
    "            return float(x[:-1])*(10**6)\n",
    "        elif x[-1] == 'B' or x[-1] == 'm':\n",
    "            return float(x[:-1])*(10**9)\n",
    "        else:\n",
    "            return float(x)\n",
    "    else:\n",
    "        return x"
   ]
  },
  {
   "cell_type": "code",
   "execution_count": 20,
   "id": "dc541575",
   "metadata": {
    "scrolled": false
   },
   "outputs": [
    {
     "data": {
      "text/html": [
       "<div>\n",
       "<style scoped>\n",
       "    .dataframe tbody tr th:only-of-type {\n",
       "        vertical-align: middle;\n",
       "    }\n",
       "\n",
       "    .dataframe tbody tr th {\n",
       "        vertical-align: top;\n",
       "    }\n",
       "\n",
       "    .dataframe thead th {\n",
       "        text-align: right;\n",
       "    }\n",
       "</style>\n",
       "<table border=\"1\" class=\"dataframe\">\n",
       "  <thead>\n",
       "    <tr style=\"text-align: right;\">\n",
       "      <th></th>\n",
       "      <th>country</th>\n",
       "      <th>year</th>\n",
       "      <th>deaths</th>\n",
       "    </tr>\n",
       "  </thead>\n",
       "  <tbody>\n",
       "    <tr>\n",
       "      <th>0</th>\n",
       "      <td>Afghanistan</td>\n",
       "      <td>1989</td>\n",
       "      <td>577.00</td>\n",
       "    </tr>\n",
       "    <tr>\n",
       "      <th>1</th>\n",
       "      <td>Angola</td>\n",
       "      <td>1989</td>\n",
       "      <td>268.00</td>\n",
       "    </tr>\n",
       "    <tr>\n",
       "      <th>2</th>\n",
       "      <td>Albania</td>\n",
       "      <td>1989</td>\n",
       "      <td>471.00</td>\n",
       "    </tr>\n",
       "    <tr>\n",
       "      <th>3</th>\n",
       "      <td>Andorra</td>\n",
       "      <td>1989</td>\n",
       "      <td>13.70</td>\n",
       "    </tr>\n",
       "    <tr>\n",
       "      <th>4</th>\n",
       "      <td>United Arab Emirates</td>\n",
       "      <td>1989</td>\n",
       "      <td>35.70</td>\n",
       "    </tr>\n",
       "    <tr>\n",
       "      <th>...</th>\n",
       "      <td>...</td>\n",
       "      <td>...</td>\n",
       "      <td>...</td>\n",
       "    </tr>\n",
       "    <tr>\n",
       "      <th>5287</th>\n",
       "      <td>Samoa</td>\n",
       "      <td>2015</td>\n",
       "      <td>6.18</td>\n",
       "    </tr>\n",
       "    <tr>\n",
       "      <th>5288</th>\n",
       "      <td>Yemen</td>\n",
       "      <td>2015</td>\n",
       "      <td>1090.00</td>\n",
       "    </tr>\n",
       "    <tr>\n",
       "      <th>5289</th>\n",
       "      <td>South Africa</td>\n",
       "      <td>2015</td>\n",
       "      <td>4830.00</td>\n",
       "    </tr>\n",
       "    <tr>\n",
       "      <th>5290</th>\n",
       "      <td>Zambia</td>\n",
       "      <td>2015</td>\n",
       "      <td>277.00</td>\n",
       "    </tr>\n",
       "    <tr>\n",
       "      <th>5291</th>\n",
       "      <td>Zimbabwe</td>\n",
       "      <td>2015</td>\n",
       "      <td>517.00</td>\n",
       "    </tr>\n",
       "  </tbody>\n",
       "</table>\n",
       "<p>5240 rows × 3 columns</p>\n",
       "</div>"
      ],
      "text/plain": [
       "                   country  year   deaths\n",
       "0              Afghanistan  1989   577.00\n",
       "1                   Angola  1989   268.00\n",
       "2                  Albania  1989   471.00\n",
       "3                  Andorra  1989    13.70\n",
       "4     United Arab Emirates  1989    35.70\n",
       "...                    ...   ...      ...\n",
       "5287                 Samoa  2015     6.18\n",
       "5288                 Yemen  2015  1090.00\n",
       "5289          South Africa  2015  4830.00\n",
       "5290                Zambia  2015   277.00\n",
       "5291              Zimbabwe  2015   517.00\n",
       "\n",
       "[5240 rows x 3 columns]"
      ]
     },
     "execution_count": 20,
     "metadata": {},
     "output_type": "execute_result"
    }
   ],
   "source": [
    "male_cs_melt = _indicator_melt(males_lungs, 'deaths')\n",
    "males_cs_melt = male_cs_melt.dropna()\n",
    "males_cs_melt = males_cs_melt.assign(deaths = males_cs_melt.get('deaths').apply(_converter))\n",
    "#.get(\"deaths\").apply(_converter)\n",
    "males_cs_melt\n",
    "#plot years\n",
    "#plot country by years"
   ]
  },
  {
   "cell_type": "markdown",
   "id": "39b19357",
   "metadata": {},
   "source": [
    "# Males, Lung Cancer Deaths"
   ]
  },
  {
   "cell_type": "code",
   "execution_count": 29,
   "id": "f1aeb6c4",
   "metadata": {},
   "outputs": [
    {
     "data": {
      "text/html": [
       "<div>\n",
       "<style scoped>\n",
       "    .dataframe tbody tr th:only-of-type {\n",
       "        vertical-align: middle;\n",
       "    }\n",
       "\n",
       "    .dataframe tbody tr th {\n",
       "        vertical-align: top;\n",
       "    }\n",
       "\n",
       "    .dataframe thead th {\n",
       "        text-align: right;\n",
       "    }\n",
       "</style>\n",
       "<table border=\"1\" class=\"dataframe\">\n",
       "  <thead>\n",
       "    <tr style=\"text-align: right;\">\n",
       "      <th></th>\n",
       "      <th>country</th>\n",
       "      <th>deaths</th>\n",
       "    </tr>\n",
       "  </thead>\n",
       "  <tbody>\n",
       "    <tr>\n",
       "      <th>0</th>\n",
       "      <td>China</td>\n",
       "      <td>301814.814815</td>\n",
       "    </tr>\n",
       "    <tr>\n",
       "      <th>1</th>\n",
       "      <td>United States</td>\n",
       "      <td>97729.629630</td>\n",
       "    </tr>\n",
       "    <tr>\n",
       "      <th>2</th>\n",
       "      <td>Russia</td>\n",
       "      <td>49762.962963</td>\n",
       "    </tr>\n",
       "    <tr>\n",
       "      <th>3</th>\n",
       "      <td>Japan</td>\n",
       "      <td>42366.666667</td>\n",
       "    </tr>\n",
       "    <tr>\n",
       "      <th>4</th>\n",
       "      <td>India</td>\n",
       "      <td>32470.370370</td>\n",
       "    </tr>\n",
       "    <tr>\n",
       "      <th>...</th>\n",
       "      <td>...</td>\n",
       "      <td>...</td>\n",
       "    </tr>\n",
       "    <tr>\n",
       "      <th>191</th>\n",
       "      <td>Samoa</td>\n",
       "      <td>5.585556</td>\n",
       "    </tr>\n",
       "    <tr>\n",
       "      <th>192</th>\n",
       "      <td>Kiribati</td>\n",
       "      <td>5.567778</td>\n",
       "    </tr>\n",
       "    <tr>\n",
       "      <th>193</th>\n",
       "      <td>American Samoa</td>\n",
       "      <td>4.968519</td>\n",
       "    </tr>\n",
       "    <tr>\n",
       "      <th>194</th>\n",
       "      <td>Antigua and Barbuda</td>\n",
       "      <td>3.860000</td>\n",
       "    </tr>\n",
       "    <tr>\n",
       "      <th>195</th>\n",
       "      <td>Marshall Islands</td>\n",
       "      <td>3.202593</td>\n",
       "    </tr>\n",
       "  </tbody>\n",
       "</table>\n",
       "<p>196 rows × 2 columns</p>\n",
       "</div>"
      ],
      "text/plain": [
       "                 country         deaths\n",
       "0                  China  301814.814815\n",
       "1          United States   97729.629630\n",
       "2                 Russia   49762.962963\n",
       "3                  Japan   42366.666667\n",
       "4                  India   32470.370370\n",
       "..                   ...            ...\n",
       "191                Samoa       5.585556\n",
       "192             Kiribati       5.567778\n",
       "193       American Samoa       4.968519\n",
       "194  Antigua and Barbuda       3.860000\n",
       "195     Marshall Islands       3.202593\n",
       "\n",
       "[196 rows x 2 columns]"
      ]
     },
     "execution_count": 29,
     "metadata": {},
     "output_type": "execute_result"
    }
   ],
   "source": [
    "average_by_country_males = males_cs_melt.groupby(\"country\").mean()\n",
    "max_avg_num_males = average_by_country_males.get([\"deaths\"]).sort_values(by= \"deaths\", ascending = False)\n",
    "max_avg_num_males = max_avg_num_males.reset_index()\n",
    "max_avg_num_males"
   ]
  },
  {
   "cell_type": "code",
   "execution_count": 66,
   "id": "0133b7db",
   "metadata": {},
   "outputs": [],
   "source": [
    "lst_males_sorted_countries = list(max_avg_num_males.set_index(\"country\").index.values)\n",
    "lst_males_sorted_values = list(max_avg_num_males.get(\"deaths\"))\n",
    "\n",
    "\n",
    "#country with the max avg deaths - males \n",
    "max_males_deaths_country = lst_males_sorted_countries[0]\n",
    "max_males_deaths = lst_males_sorted_values[0]\n",
    "\n",
    "#country with the mix avg deaths - males\n",
    "min_males_deaths_country = lst_males_sorted_countries[-1]\n",
    "min_males_deaths = lst_males_sorted_values[-1]\n",
    "\n",
    "#NEED TO COME BACK LATER AND DO STAT TEST TO SEE PVALUE AND COMPARE"
   ]
  },
  {
   "cell_type": "code",
   "execution_count": 71,
   "id": "50e79d29",
   "metadata": {},
   "outputs": [
    {
     "data": {
      "application/vnd.plotly.v1+json": {
       "config": {
        "plotlyServerURL": "https://plot.ly"
       },
       "data": [
        {
         "alignmentgroup": "True",
         "hovertemplate": "country=%{x}<br>deaths=%{y}<extra></extra>",
         "legendgroup": "",
         "marker": {
          "color": "#636efa",
          "pattern": {
           "shape": ""
          }
         },
         "name": "",
         "offsetgroup": "",
         "orientation": "v",
         "showlegend": false,
         "textposition": "auto",
         "type": "bar",
         "x": [
          "China",
          "United States",
          "Russia",
          "Japan",
          "India",
          "Germany",
          "Italy",
          "France",
          "United Kingdom",
          "Poland",
          "Vietnam",
          "Spain",
          "Ukraine",
          "Turkey",
          "Brazil",
          "Bangladesh",
          "South Korea",
          "Canada",
          "Thailand",
          "Pakistan",
          "Indonesia",
          "Argentina",
          "Netherlands",
          "North Korea",
          "Romania",
          "Myanmar",
          "Philippines",
          "Hungary",
          "Belgium",
          "Greece",
          "Taiwan",
          "Australia",
          "Mexico",
          "Czech Republic",
          "South Africa",
          "Serbia",
          "Serbia and Montenegro",
          "Belarus",
          "Kazakhstan",
          "Iran",
          "Cuba",
          "Portugal",
          "Bulgaria",
          "Morocco",
          "Austria",
          "Malaysia",
          "Colombia",
          "Switzerland",
          "Croatia",
          "Denmark",
          "Egypt",
          "Sweden",
          "Slovak Republic",
          "Venezuela",
          "Nigeria",
          "Bosnia and Herzegovina",
          "Finland",
          "Chile",
          "Tunisia",
          "Lithuania",
          "Ethiopia",
          "Algeria",
          "Norway",
          "Afghanistan",
          "Uzbekistan",
          "Uruguay",
          "Israel",
          "Peru",
          "Ireland",
          "Iraq",
          "Cambodia",
          "Congo, Dem. Rep.",
          "Azerbaijan",
          "Latvia",
          "New Zealand",
          "Georgia",
          "Armenia",
          "Sudan",
          "Moldova",
          "Sri Lanka",
          "Slovenia",
          "Singapore",
          "Yemen",
          "Nepal",
          "North Macedonia",
          "Albania",
          "Tanzania",
          "Estonia",
          "Cameroon",
          "Libya",
          "Lebanon",
          "Haiti",
          "Saudi Arabia",
          "Syria",
          "Ecuador",
          "Zimbabwe",
          "Puerto Rico",
          "Dominican Republic",
          "Kyrgyz Republic",
          "Cote d'Ivoire",
          "Ghana",
          "Lao",
          "Uganda",
          "Paraguay",
          "Bolivia",
          "Angola",
          "Jamaica",
          "Mozambique",
          "Senegal",
          "Papua New Guinea",
          "Mongolia",
          "Guinea",
          "Kenya",
          "Guatemala",
          "Montenegro",
          "Jordan",
          "Niger",
          "Turkmenistan",
          "Madagascar",
          "Chad",
          "Benin",
          "Panama",
          "Costa Rica",
          "Malawi",
          "Mali",
          "Palestine",
          "Tajikistan",
          "El Salvador",
          "Honduras",
          "Central African Republic",
          "Burkina Faso",
          "Luxembourg",
          "Cyprus",
          "Lesotho",
          "Togo",
          "Zambia",
          "Botswana",
          "United Arab Emirates",
          "Rwanda",
          "Burundi",
          "Malta",
          "Sierra Leone",
          "Congo, Rep.",
          "Somalia",
          "Nicaragua",
          "Trinidad and Tobago",
          "South Sudan",
          "Mauritius",
          "Eswatini",
          "Mauritania",
          "Kuwait",
          "Iceland",
          "Oman",
          "Gabon",
          "Eritrea",
          "Bahrain",
          "Liberia",
          "Guinea-Bissau",
          "French Polynesia",
          "Suriname",
          "Qatar",
          "Guam",
          "Namibia",
          "Solomon Islands",
          "Timor-Leste",
          "Cape Verde",
          "Brunei",
          "Bahamas",
          "Greenland",
          "Gambia",
          "Fiji",
          "Barbados",
          "Guyana",
          "Equatorial Guinea",
          "Andorra",
          "Belize",
          "Vanuatu",
          "Tonga",
          "Bermuda",
          "Bhutan",
          "Djibouti",
          "Maldives",
          "St. Lucia",
          "Micronesia, Fed. Sts.",
          "Seychelles",
          "Comoros",
          "Sao Tome and Principe",
          "Grenada",
          "Dominica",
          "Northern Mariana Islands",
          "St. Vincent and the Grenadines",
          "Samoa",
          "Kiribati",
          "American Samoa",
          "Antigua and Barbuda",
          "Marshall Islands"
         ],
         "xaxis": "x",
         "y": [
          301814.81481481483,
          97729.62962962964,
          49762.96296296296,
          42366.666666666664,
          32470.37037037037,
          31118.51851851852,
          27218.51851851852,
          23159.25925925926,
          22651.85185185185,
          17100,
          16522.222222222223,
          16444.444444444445,
          16325.925925925925,
          15000,
          13495.185185185184,
          10692.592592592593,
          10447.037037037036,
          10440.74074074074,
          9670.37037037037,
          7863.7037037037035,
          7798.518518518518,
          7323.333333333333,
          7312.962962962963,
          7191.481481481482,
          7042.222222222223,
          6863.7037037037035,
          6428.888888888889,
          5836.666666666667,
          5538.518518518518,
          5511.851851851852,
          5012.592592592592,
          4804.444444444444,
          4722.592592592592,
          4380.37037037037,
          4057.777777777778,
          4054.074074074074,
          3520,
          3512.962962962963,
          3422.222222222222,
          3117.4074074074074,
          2931.8518518518517,
          2895.185185185185,
          2812.5925925925926,
          2482.222222222222,
          2435.925925925926,
          2321.4814814814813,
          2287.777777777778,
          2253.3333333333335,
          2213.703703703704,
          2168.8888888888887,
          2140.740740740741,
          1926.2962962962963,
          1807.4074074074074,
          1758.5185185185185,
          1635.5555555555557,
          1597.037037037037,
          1518.888888888889,
          1512.2222222222222,
          1461.4814814814815,
          1275.1851851851852,
          1268.888888888889,
          1262.5925925925926,
          1239.6296296296296,
          1214.6296296296296,
          1208.5185185185185,
          1178.148148148148,
          1129.5925925925926,
          1087.9259259259259,
          1071.851851851852,
          1064.5925925925926,
          1007.3333333333334,
          926.4444444444445,
          925.6296296296297,
          915.2962962962963,
          899.6666666666666,
          893.1111111111111,
          883.0370370370371,
          867.5185185185185,
          831.9629629629629,
          815.7037037037037,
          796.3333333333334,
          658.1851851851852,
          655.5555555555555,
          652.5925925925926,
          651.2222222222222,
          636.4814814814815,
          617,
          584.2222222222222,
          569.8518518518518,
          530.8888888888889,
          511.037037037037,
          480.18518518518516,
          475.962962962963,
          471.8888888888889,
          446.18518518518516,
          438.48148148148147,
          430.85185185185185,
          420.74074074074076,
          402.77777777777777,
          392.22222222222223,
          387.48148148148147,
          375.77777777777777,
          370.85185185185185,
          370.18518518518516,
          361.18518518518516,
          343.44444444444446,
          325.77777777777777,
          315.9259259259259,
          313.962962962963,
          311.77777777777777,
          307.77777777777777,
          300,
          278.44444444444446,
          272.8888888888889,
          261.037037037037,
          238.88888888888889,
          223.11111111111111,
          200.5185185185185,
          199.55555555555554,
          197.44444444444446,
          195.7037037037037,
          192.11111111111111,
          187.25925925925927,
          179,
          174.66666666666666,
          174.56296296296296,
          172.88888888888889,
          171.40740740740742,
          170.87037037037038,
          168.37037037037038,
          167.8148148148148,
          166.74074074074073,
          164.88888888888889,
          159.44444444444446,
          153.02962962962962,
          147.22592592592594,
          131.62592592592594,
          117.73703703703704,
          111.22592592592592,
          110.97037037037036,
          110.51481481481481,
          109.62592592592593,
          105.26666666666667,
          103.40370370370371,
          101.07407407407408,
          98.16666666666667,
          93.4074074074074,
          93.08888888888889,
          71.65185185185184,
          64.85185185185185,
          60.32222222222222,
          59.8074074074074,
          51.088888888888896,
          50.77777777777778,
          48.52222222222222,
          47.729629629629635,
          47.65925925925926,
          46.92962962962962,
          35,
          32.65555555555556,
          31.537037037037038,
          31.514814814814812,
          31.44814814814815,
          31.29259259259259,
          31.196296296296296,
          26.544444444444448,
          26.01851851851852,
          25.303703703703704,
          24.925925925925927,
          23.87037037037037,
          23.77037037037037,
          21.44074074074074,
          21.38148148148148,
          19.822222222222223,
          18.874074074074073,
          16.06037037037037,
          15.94074074074074,
          14.696296296296296,
          14.018518518518519,
          13.69888888888889,
          12.973703703703704,
          12.962962962962964,
          9.695555555555554,
          8.521851851851851,
          8.520740740740742,
          7.843703703703704,
          7.7844444444444445,
          7.1503703703703705,
          6.936296296296296,
          6.45074074074074,
          5.847037037037037,
          5.585555555555556,
          5.567777777777779,
          4.968518518518518,
          3.86,
          3.2025925925925924
         ],
         "yaxis": "y"
        }
       ],
       "layout": {
        "barmode": "relative",
        "legend": {
         "tracegroupgap": 0
        },
        "margin": {
         "t": 60
        },
        "template": {
         "data": {
          "bar": [
           {
            "error_x": {
             "color": "#2a3f5f"
            },
            "error_y": {
             "color": "#2a3f5f"
            },
            "marker": {
             "line": {
              "color": "#E5ECF6",
              "width": 0.5
             },
             "pattern": {
              "fillmode": "overlay",
              "size": 10,
              "solidity": 0.2
             }
            },
            "type": "bar"
           }
          ],
          "barpolar": [
           {
            "marker": {
             "line": {
              "color": "#E5ECF6",
              "width": 0.5
             },
             "pattern": {
              "fillmode": "overlay",
              "size": 10,
              "solidity": 0.2
             }
            },
            "type": "barpolar"
           }
          ],
          "carpet": [
           {
            "aaxis": {
             "endlinecolor": "#2a3f5f",
             "gridcolor": "white",
             "linecolor": "white",
             "minorgridcolor": "white",
             "startlinecolor": "#2a3f5f"
            },
            "baxis": {
             "endlinecolor": "#2a3f5f",
             "gridcolor": "white",
             "linecolor": "white",
             "minorgridcolor": "white",
             "startlinecolor": "#2a3f5f"
            },
            "type": "carpet"
           }
          ],
          "choropleth": [
           {
            "colorbar": {
             "outlinewidth": 0,
             "ticks": ""
            },
            "type": "choropleth"
           }
          ],
          "contour": [
           {
            "colorbar": {
             "outlinewidth": 0,
             "ticks": ""
            },
            "colorscale": [
             [
              0,
              "#0d0887"
             ],
             [
              0.1111111111111111,
              "#46039f"
             ],
             [
              0.2222222222222222,
              "#7201a8"
             ],
             [
              0.3333333333333333,
              "#9c179e"
             ],
             [
              0.4444444444444444,
              "#bd3786"
             ],
             [
              0.5555555555555556,
              "#d8576b"
             ],
             [
              0.6666666666666666,
              "#ed7953"
             ],
             [
              0.7777777777777778,
              "#fb9f3a"
             ],
             [
              0.8888888888888888,
              "#fdca26"
             ],
             [
              1,
              "#f0f921"
             ]
            ],
            "type": "contour"
           }
          ],
          "contourcarpet": [
           {
            "colorbar": {
             "outlinewidth": 0,
             "ticks": ""
            },
            "type": "contourcarpet"
           }
          ],
          "heatmap": [
           {
            "colorbar": {
             "outlinewidth": 0,
             "ticks": ""
            },
            "colorscale": [
             [
              0,
              "#0d0887"
             ],
             [
              0.1111111111111111,
              "#46039f"
             ],
             [
              0.2222222222222222,
              "#7201a8"
             ],
             [
              0.3333333333333333,
              "#9c179e"
             ],
             [
              0.4444444444444444,
              "#bd3786"
             ],
             [
              0.5555555555555556,
              "#d8576b"
             ],
             [
              0.6666666666666666,
              "#ed7953"
             ],
             [
              0.7777777777777778,
              "#fb9f3a"
             ],
             [
              0.8888888888888888,
              "#fdca26"
             ],
             [
              1,
              "#f0f921"
             ]
            ],
            "type": "heatmap"
           }
          ],
          "heatmapgl": [
           {
            "colorbar": {
             "outlinewidth": 0,
             "ticks": ""
            },
            "colorscale": [
             [
              0,
              "#0d0887"
             ],
             [
              0.1111111111111111,
              "#46039f"
             ],
             [
              0.2222222222222222,
              "#7201a8"
             ],
             [
              0.3333333333333333,
              "#9c179e"
             ],
             [
              0.4444444444444444,
              "#bd3786"
             ],
             [
              0.5555555555555556,
              "#d8576b"
             ],
             [
              0.6666666666666666,
              "#ed7953"
             ],
             [
              0.7777777777777778,
              "#fb9f3a"
             ],
             [
              0.8888888888888888,
              "#fdca26"
             ],
             [
              1,
              "#f0f921"
             ]
            ],
            "type": "heatmapgl"
           }
          ],
          "histogram": [
           {
            "marker": {
             "pattern": {
              "fillmode": "overlay",
              "size": 10,
              "solidity": 0.2
             }
            },
            "type": "histogram"
           }
          ],
          "histogram2d": [
           {
            "colorbar": {
             "outlinewidth": 0,
             "ticks": ""
            },
            "colorscale": [
             [
              0,
              "#0d0887"
             ],
             [
              0.1111111111111111,
              "#46039f"
             ],
             [
              0.2222222222222222,
              "#7201a8"
             ],
             [
              0.3333333333333333,
              "#9c179e"
             ],
             [
              0.4444444444444444,
              "#bd3786"
             ],
             [
              0.5555555555555556,
              "#d8576b"
             ],
             [
              0.6666666666666666,
              "#ed7953"
             ],
             [
              0.7777777777777778,
              "#fb9f3a"
             ],
             [
              0.8888888888888888,
              "#fdca26"
             ],
             [
              1,
              "#f0f921"
             ]
            ],
            "type": "histogram2d"
           }
          ],
          "histogram2dcontour": [
           {
            "colorbar": {
             "outlinewidth": 0,
             "ticks": ""
            },
            "colorscale": [
             [
              0,
              "#0d0887"
             ],
             [
              0.1111111111111111,
              "#46039f"
             ],
             [
              0.2222222222222222,
              "#7201a8"
             ],
             [
              0.3333333333333333,
              "#9c179e"
             ],
             [
              0.4444444444444444,
              "#bd3786"
             ],
             [
              0.5555555555555556,
              "#d8576b"
             ],
             [
              0.6666666666666666,
              "#ed7953"
             ],
             [
              0.7777777777777778,
              "#fb9f3a"
             ],
             [
              0.8888888888888888,
              "#fdca26"
             ],
             [
              1,
              "#f0f921"
             ]
            ],
            "type": "histogram2dcontour"
           }
          ],
          "mesh3d": [
           {
            "colorbar": {
             "outlinewidth": 0,
             "ticks": ""
            },
            "type": "mesh3d"
           }
          ],
          "parcoords": [
           {
            "line": {
             "colorbar": {
              "outlinewidth": 0,
              "ticks": ""
             }
            },
            "type": "parcoords"
           }
          ],
          "pie": [
           {
            "automargin": true,
            "type": "pie"
           }
          ],
          "scatter": [
           {
            "marker": {
             "colorbar": {
              "outlinewidth": 0,
              "ticks": ""
             }
            },
            "type": "scatter"
           }
          ],
          "scatter3d": [
           {
            "line": {
             "colorbar": {
              "outlinewidth": 0,
              "ticks": ""
             }
            },
            "marker": {
             "colorbar": {
              "outlinewidth": 0,
              "ticks": ""
             }
            },
            "type": "scatter3d"
           }
          ],
          "scattercarpet": [
           {
            "marker": {
             "colorbar": {
              "outlinewidth": 0,
              "ticks": ""
             }
            },
            "type": "scattercarpet"
           }
          ],
          "scattergeo": [
           {
            "marker": {
             "colorbar": {
              "outlinewidth": 0,
              "ticks": ""
             }
            },
            "type": "scattergeo"
           }
          ],
          "scattergl": [
           {
            "marker": {
             "colorbar": {
              "outlinewidth": 0,
              "ticks": ""
             }
            },
            "type": "scattergl"
           }
          ],
          "scattermapbox": [
           {
            "marker": {
             "colorbar": {
              "outlinewidth": 0,
              "ticks": ""
             }
            },
            "type": "scattermapbox"
           }
          ],
          "scatterpolar": [
           {
            "marker": {
             "colorbar": {
              "outlinewidth": 0,
              "ticks": ""
             }
            },
            "type": "scatterpolar"
           }
          ],
          "scatterpolargl": [
           {
            "marker": {
             "colorbar": {
              "outlinewidth": 0,
              "ticks": ""
             }
            },
            "type": "scatterpolargl"
           }
          ],
          "scatterternary": [
           {
            "marker": {
             "colorbar": {
              "outlinewidth": 0,
              "ticks": ""
             }
            },
            "type": "scatterternary"
           }
          ],
          "surface": [
           {
            "colorbar": {
             "outlinewidth": 0,
             "ticks": ""
            },
            "colorscale": [
             [
              0,
              "#0d0887"
             ],
             [
              0.1111111111111111,
              "#46039f"
             ],
             [
              0.2222222222222222,
              "#7201a8"
             ],
             [
              0.3333333333333333,
              "#9c179e"
             ],
             [
              0.4444444444444444,
              "#bd3786"
             ],
             [
              0.5555555555555556,
              "#d8576b"
             ],
             [
              0.6666666666666666,
              "#ed7953"
             ],
             [
              0.7777777777777778,
              "#fb9f3a"
             ],
             [
              0.8888888888888888,
              "#fdca26"
             ],
             [
              1,
              "#f0f921"
             ]
            ],
            "type": "surface"
           }
          ],
          "table": [
           {
            "cells": {
             "fill": {
              "color": "#EBF0F8"
             },
             "line": {
              "color": "white"
             }
            },
            "header": {
             "fill": {
              "color": "#C8D4E3"
             },
             "line": {
              "color": "white"
             }
            },
            "type": "table"
           }
          ]
         },
         "layout": {
          "annotationdefaults": {
           "arrowcolor": "#2a3f5f",
           "arrowhead": 0,
           "arrowwidth": 1
          },
          "autotypenumbers": "strict",
          "coloraxis": {
           "colorbar": {
            "outlinewidth": 0,
            "ticks": ""
           }
          },
          "colorscale": {
           "diverging": [
            [
             0,
             "#8e0152"
            ],
            [
             0.1,
             "#c51b7d"
            ],
            [
             0.2,
             "#de77ae"
            ],
            [
             0.3,
             "#f1b6da"
            ],
            [
             0.4,
             "#fde0ef"
            ],
            [
             0.5,
             "#f7f7f7"
            ],
            [
             0.6,
             "#e6f5d0"
            ],
            [
             0.7,
             "#b8e186"
            ],
            [
             0.8,
             "#7fbc41"
            ],
            [
             0.9,
             "#4d9221"
            ],
            [
             1,
             "#276419"
            ]
           ],
           "sequential": [
            [
             0,
             "#0d0887"
            ],
            [
             0.1111111111111111,
             "#46039f"
            ],
            [
             0.2222222222222222,
             "#7201a8"
            ],
            [
             0.3333333333333333,
             "#9c179e"
            ],
            [
             0.4444444444444444,
             "#bd3786"
            ],
            [
             0.5555555555555556,
             "#d8576b"
            ],
            [
             0.6666666666666666,
             "#ed7953"
            ],
            [
             0.7777777777777778,
             "#fb9f3a"
            ],
            [
             0.8888888888888888,
             "#fdca26"
            ],
            [
             1,
             "#f0f921"
            ]
           ],
           "sequentialminus": [
            [
             0,
             "#0d0887"
            ],
            [
             0.1111111111111111,
             "#46039f"
            ],
            [
             0.2222222222222222,
             "#7201a8"
            ],
            [
             0.3333333333333333,
             "#9c179e"
            ],
            [
             0.4444444444444444,
             "#bd3786"
            ],
            [
             0.5555555555555556,
             "#d8576b"
            ],
            [
             0.6666666666666666,
             "#ed7953"
            ],
            [
             0.7777777777777778,
             "#fb9f3a"
            ],
            [
             0.8888888888888888,
             "#fdca26"
            ],
            [
             1,
             "#f0f921"
            ]
           ]
          },
          "colorway": [
           "#636efa",
           "#EF553B",
           "#00cc96",
           "#ab63fa",
           "#FFA15A",
           "#19d3f3",
           "#FF6692",
           "#B6E880",
           "#FF97FF",
           "#FECB52"
          ],
          "font": {
           "color": "#2a3f5f"
          },
          "geo": {
           "bgcolor": "white",
           "lakecolor": "white",
           "landcolor": "#E5ECF6",
           "showlakes": true,
           "showland": true,
           "subunitcolor": "white"
          },
          "hoverlabel": {
           "align": "left"
          },
          "hovermode": "closest",
          "mapbox": {
           "style": "light"
          },
          "paper_bgcolor": "white",
          "plot_bgcolor": "#E5ECF6",
          "polar": {
           "angularaxis": {
            "gridcolor": "white",
            "linecolor": "white",
            "ticks": ""
           },
           "bgcolor": "#E5ECF6",
           "radialaxis": {
            "gridcolor": "white",
            "linecolor": "white",
            "ticks": ""
           }
          },
          "scene": {
           "xaxis": {
            "backgroundcolor": "#E5ECF6",
            "gridcolor": "white",
            "gridwidth": 2,
            "linecolor": "white",
            "showbackground": true,
            "ticks": "",
            "zerolinecolor": "white"
           },
           "yaxis": {
            "backgroundcolor": "#E5ECF6",
            "gridcolor": "white",
            "gridwidth": 2,
            "linecolor": "white",
            "showbackground": true,
            "ticks": "",
            "zerolinecolor": "white"
           },
           "zaxis": {
            "backgroundcolor": "#E5ECF6",
            "gridcolor": "white",
            "gridwidth": 2,
            "linecolor": "white",
            "showbackground": true,
            "ticks": "",
            "zerolinecolor": "white"
           }
          },
          "shapedefaults": {
           "line": {
            "color": "#2a3f5f"
           }
          },
          "ternary": {
           "aaxis": {
            "gridcolor": "white",
            "linecolor": "white",
            "ticks": ""
           },
           "baxis": {
            "gridcolor": "white",
            "linecolor": "white",
            "ticks": ""
           },
           "bgcolor": "#E5ECF6",
           "caxis": {
            "gridcolor": "white",
            "linecolor": "white",
            "ticks": ""
           }
          },
          "title": {
           "x": 0.05
          },
          "xaxis": {
           "automargin": true,
           "gridcolor": "white",
           "linecolor": "white",
           "ticks": "",
           "title": {
            "standoff": 15
           },
           "zerolinecolor": "white",
           "zerolinewidth": 2
          },
          "yaxis": {
           "automargin": true,
           "gridcolor": "white",
           "linecolor": "white",
           "ticks": "",
           "title": {
            "standoff": 15
           },
           "zerolinecolor": "white",
           "zerolinewidth": 2
          }
         }
        },
        "xaxis": {
         "anchor": "y",
         "domain": [
          0,
          1
         ],
         "title": {
          "text": "country"
         }
        },
        "yaxis": {
         "anchor": "x",
         "domain": [
          0,
          1
         ],
         "title": {
          "text": "deaths"
         }
        }
       }
      },
      "text/html": [
       "<div>                            <div id=\"ca86145c-a728-47f7-86d5-c7604940a4d3\" class=\"plotly-graph-div\" style=\"height:525px; width:100%;\"></div>            <script type=\"text/javascript\">                require([\"plotly\"], function(Plotly) {                    window.PLOTLYENV=window.PLOTLYENV || {};                                    if (document.getElementById(\"ca86145c-a728-47f7-86d5-c7604940a4d3\")) {                    Plotly.newPlot(                        \"ca86145c-a728-47f7-86d5-c7604940a4d3\",                        [{\"alignmentgroup\":\"True\",\"hovertemplate\":\"country=%{x}<br>deaths=%{y}<extra></extra>\",\"legendgroup\":\"\",\"marker\":{\"color\":\"#636efa\",\"pattern\":{\"shape\":\"\"}},\"name\":\"\",\"offsetgroup\":\"\",\"orientation\":\"v\",\"showlegend\":false,\"textposition\":\"auto\",\"x\":[\"China\",\"United States\",\"Russia\",\"Japan\",\"India\",\"Germany\",\"Italy\",\"France\",\"United Kingdom\",\"Poland\",\"Vietnam\",\"Spain\",\"Ukraine\",\"Turkey\",\"Brazil\",\"Bangladesh\",\"South Korea\",\"Canada\",\"Thailand\",\"Pakistan\",\"Indonesia\",\"Argentina\",\"Netherlands\",\"North Korea\",\"Romania\",\"Myanmar\",\"Philippines\",\"Hungary\",\"Belgium\",\"Greece\",\"Taiwan\",\"Australia\",\"Mexico\",\"Czech Republic\",\"South Africa\",\"Serbia\",\"Serbia and Montenegro\",\"Belarus\",\"Kazakhstan\",\"Iran\",\"Cuba\",\"Portugal\",\"Bulgaria\",\"Morocco\",\"Austria\",\"Malaysia\",\"Colombia\",\"Switzerland\",\"Croatia\",\"Denmark\",\"Egypt\",\"Sweden\",\"Slovak Republic\",\"Venezuela\",\"Nigeria\",\"Bosnia and Herzegovina\",\"Finland\",\"Chile\",\"Tunisia\",\"Lithuania\",\"Ethiopia\",\"Algeria\",\"Norway\",\"Afghanistan\",\"Uzbekistan\",\"Uruguay\",\"Israel\",\"Peru\",\"Ireland\",\"Iraq\",\"Cambodia\",\"Congo, Dem. Rep.\",\"Azerbaijan\",\"Latvia\",\"New Zealand\",\"Georgia\",\"Armenia\",\"Sudan\",\"Moldova\",\"Sri Lanka\",\"Slovenia\",\"Singapore\",\"Yemen\",\"Nepal\",\"North Macedonia\",\"Albania\",\"Tanzania\",\"Estonia\",\"Cameroon\",\"Libya\",\"Lebanon\",\"Haiti\",\"Saudi Arabia\",\"Syria\",\"Ecuador\",\"Zimbabwe\",\"Puerto Rico\",\"Dominican Republic\",\"Kyrgyz Republic\",\"Cote d'Ivoire\",\"Ghana\",\"Lao\",\"Uganda\",\"Paraguay\",\"Bolivia\",\"Angola\",\"Jamaica\",\"Mozambique\",\"Senegal\",\"Papua New Guinea\",\"Mongolia\",\"Guinea\",\"Kenya\",\"Guatemala\",\"Montenegro\",\"Jordan\",\"Niger\",\"Turkmenistan\",\"Madagascar\",\"Chad\",\"Benin\",\"Panama\",\"Costa Rica\",\"Malawi\",\"Mali\",\"Palestine\",\"Tajikistan\",\"El Salvador\",\"Honduras\",\"Central African Republic\",\"Burkina Faso\",\"Luxembourg\",\"Cyprus\",\"Lesotho\",\"Togo\",\"Zambia\",\"Botswana\",\"United Arab Emirates\",\"Rwanda\",\"Burundi\",\"Malta\",\"Sierra Leone\",\"Congo, Rep.\",\"Somalia\",\"Nicaragua\",\"Trinidad and Tobago\",\"South Sudan\",\"Mauritius\",\"Eswatini\",\"Mauritania\",\"Kuwait\",\"Iceland\",\"Oman\",\"Gabon\",\"Eritrea\",\"Bahrain\",\"Liberia\",\"Guinea-Bissau\",\"French Polynesia\",\"Suriname\",\"Qatar\",\"Guam\",\"Namibia\",\"Solomon Islands\",\"Timor-Leste\",\"Cape Verde\",\"Brunei\",\"Bahamas\",\"Greenland\",\"Gambia\",\"Fiji\",\"Barbados\",\"Guyana\",\"Equatorial Guinea\",\"Andorra\",\"Belize\",\"Vanuatu\",\"Tonga\",\"Bermuda\",\"Bhutan\",\"Djibouti\",\"Maldives\",\"St. Lucia\",\"Micronesia, Fed. Sts.\",\"Seychelles\",\"Comoros\",\"Sao Tome and Principe\",\"Grenada\",\"Dominica\",\"Northern Mariana Islands\",\"St. Vincent and the Grenadines\",\"Samoa\",\"Kiribati\",\"American Samoa\",\"Antigua and Barbuda\",\"Marshall Islands\"],\"xaxis\":\"x\",\"y\":[301814.81481481483,97729.62962962964,49762.96296296296,42366.666666666664,32470.37037037037,31118.51851851852,27218.51851851852,23159.25925925926,22651.85185185185,17100.0,16522.222222222223,16444.444444444445,16325.925925925925,15000.0,13495.185185185184,10692.592592592593,10447.037037037036,10440.74074074074,9670.37037037037,7863.7037037037035,7798.518518518518,7323.333333333333,7312.962962962963,7191.481481481482,7042.222222222223,6863.7037037037035,6428.888888888889,5836.666666666667,5538.518518518518,5511.851851851852,5012.592592592592,4804.444444444444,4722.592592592592,4380.37037037037,4057.777777777778,4054.074074074074,3520.0,3512.962962962963,3422.222222222222,3117.4074074074074,2931.8518518518517,2895.185185185185,2812.5925925925926,2482.222222222222,2435.925925925926,2321.4814814814813,2287.777777777778,2253.3333333333335,2213.703703703704,2168.8888888888887,2140.740740740741,1926.2962962962963,1807.4074074074074,1758.5185185185185,1635.5555555555557,1597.037037037037,1518.888888888889,1512.2222222222222,1461.4814814814815,1275.1851851851852,1268.888888888889,1262.5925925925926,1239.6296296296296,1214.6296296296296,1208.5185185185185,1178.148148148148,1129.5925925925926,1087.9259259259259,1071.851851851852,1064.5925925925926,1007.3333333333334,926.4444444444445,925.6296296296297,915.2962962962963,899.6666666666666,893.1111111111111,883.0370370370371,867.5185185185185,831.9629629629629,815.7037037037037,796.3333333333334,658.1851851851852,655.5555555555555,652.5925925925926,651.2222222222222,636.4814814814815,617.0,584.2222222222222,569.8518518518518,530.8888888888889,511.037037037037,480.18518518518516,475.962962962963,471.8888888888889,446.18518518518516,438.48148148148147,430.85185185185185,420.74074074074076,402.77777777777777,392.22222222222223,387.48148148148147,375.77777777777777,370.85185185185185,370.18518518518516,361.18518518518516,343.44444444444446,325.77777777777777,315.9259259259259,313.962962962963,311.77777777777777,307.77777777777777,300.0,278.44444444444446,272.8888888888889,261.037037037037,238.88888888888889,223.11111111111111,200.5185185185185,199.55555555555554,197.44444444444446,195.7037037037037,192.11111111111111,187.25925925925927,179.0,174.66666666666666,174.56296296296296,172.88888888888889,171.40740740740742,170.87037037037038,168.37037037037038,167.8148148148148,166.74074074074073,164.88888888888889,159.44444444444446,153.02962962962962,147.22592592592594,131.62592592592594,117.73703703703704,111.22592592592592,110.97037037037036,110.51481481481481,109.62592592592593,105.26666666666667,103.40370370370371,101.07407407407408,98.16666666666667,93.4074074074074,93.08888888888889,71.65185185185184,64.85185185185185,60.32222222222222,59.8074074074074,51.088888888888896,50.77777777777778,48.52222222222222,47.729629629629635,47.65925925925926,46.92962962962962,35.0,32.65555555555556,31.537037037037038,31.514814814814812,31.44814814814815,31.29259259259259,31.196296296296296,26.544444444444448,26.01851851851852,25.303703703703704,24.925925925925927,23.87037037037037,23.77037037037037,21.44074074074074,21.38148148148148,19.822222222222223,18.874074074074073,16.06037037037037,15.94074074074074,14.696296296296296,14.018518518518519,13.69888888888889,12.973703703703704,12.962962962962964,9.695555555555554,8.521851851851851,8.520740740740742,7.843703703703704,7.7844444444444445,7.1503703703703705,6.936296296296296,6.45074074074074,5.847037037037037,5.585555555555556,5.567777777777779,4.968518518518518,3.86,3.2025925925925924],\"yaxis\":\"y\",\"type\":\"bar\"}],                        {\"template\":{\"data\":{\"bar\":[{\"error_x\":{\"color\":\"#2a3f5f\"},\"error_y\":{\"color\":\"#2a3f5f\"},\"marker\":{\"line\":{\"color\":\"#E5ECF6\",\"width\":0.5},\"pattern\":{\"fillmode\":\"overlay\",\"size\":10,\"solidity\":0.2}},\"type\":\"bar\"}],\"barpolar\":[{\"marker\":{\"line\":{\"color\":\"#E5ECF6\",\"width\":0.5},\"pattern\":{\"fillmode\":\"overlay\",\"size\":10,\"solidity\":0.2}},\"type\":\"barpolar\"}],\"carpet\":[{\"aaxis\":{\"endlinecolor\":\"#2a3f5f\",\"gridcolor\":\"white\",\"linecolor\":\"white\",\"minorgridcolor\":\"white\",\"startlinecolor\":\"#2a3f5f\"},\"baxis\":{\"endlinecolor\":\"#2a3f5f\",\"gridcolor\":\"white\",\"linecolor\":\"white\",\"minorgridcolor\":\"white\",\"startlinecolor\":\"#2a3f5f\"},\"type\":\"carpet\"}],\"choropleth\":[{\"colorbar\":{\"outlinewidth\":0,\"ticks\":\"\"},\"type\":\"choropleth\"}],\"contour\":[{\"colorbar\":{\"outlinewidth\":0,\"ticks\":\"\"},\"colorscale\":[[0.0,\"#0d0887\"],[0.1111111111111111,\"#46039f\"],[0.2222222222222222,\"#7201a8\"],[0.3333333333333333,\"#9c179e\"],[0.4444444444444444,\"#bd3786\"],[0.5555555555555556,\"#d8576b\"],[0.6666666666666666,\"#ed7953\"],[0.7777777777777778,\"#fb9f3a\"],[0.8888888888888888,\"#fdca26\"],[1.0,\"#f0f921\"]],\"type\":\"contour\"}],\"contourcarpet\":[{\"colorbar\":{\"outlinewidth\":0,\"ticks\":\"\"},\"type\":\"contourcarpet\"}],\"heatmap\":[{\"colorbar\":{\"outlinewidth\":0,\"ticks\":\"\"},\"colorscale\":[[0.0,\"#0d0887\"],[0.1111111111111111,\"#46039f\"],[0.2222222222222222,\"#7201a8\"],[0.3333333333333333,\"#9c179e\"],[0.4444444444444444,\"#bd3786\"],[0.5555555555555556,\"#d8576b\"],[0.6666666666666666,\"#ed7953\"],[0.7777777777777778,\"#fb9f3a\"],[0.8888888888888888,\"#fdca26\"],[1.0,\"#f0f921\"]],\"type\":\"heatmap\"}],\"heatmapgl\":[{\"colorbar\":{\"outlinewidth\":0,\"ticks\":\"\"},\"colorscale\":[[0.0,\"#0d0887\"],[0.1111111111111111,\"#46039f\"],[0.2222222222222222,\"#7201a8\"],[0.3333333333333333,\"#9c179e\"],[0.4444444444444444,\"#bd3786\"],[0.5555555555555556,\"#d8576b\"],[0.6666666666666666,\"#ed7953\"],[0.7777777777777778,\"#fb9f3a\"],[0.8888888888888888,\"#fdca26\"],[1.0,\"#f0f921\"]],\"type\":\"heatmapgl\"}],\"histogram\":[{\"marker\":{\"pattern\":{\"fillmode\":\"overlay\",\"size\":10,\"solidity\":0.2}},\"type\":\"histogram\"}],\"histogram2d\":[{\"colorbar\":{\"outlinewidth\":0,\"ticks\":\"\"},\"colorscale\":[[0.0,\"#0d0887\"],[0.1111111111111111,\"#46039f\"],[0.2222222222222222,\"#7201a8\"],[0.3333333333333333,\"#9c179e\"],[0.4444444444444444,\"#bd3786\"],[0.5555555555555556,\"#d8576b\"],[0.6666666666666666,\"#ed7953\"],[0.7777777777777778,\"#fb9f3a\"],[0.8888888888888888,\"#fdca26\"],[1.0,\"#f0f921\"]],\"type\":\"histogram2d\"}],\"histogram2dcontour\":[{\"colorbar\":{\"outlinewidth\":0,\"ticks\":\"\"},\"colorscale\":[[0.0,\"#0d0887\"],[0.1111111111111111,\"#46039f\"],[0.2222222222222222,\"#7201a8\"],[0.3333333333333333,\"#9c179e\"],[0.4444444444444444,\"#bd3786\"],[0.5555555555555556,\"#d8576b\"],[0.6666666666666666,\"#ed7953\"],[0.7777777777777778,\"#fb9f3a\"],[0.8888888888888888,\"#fdca26\"],[1.0,\"#f0f921\"]],\"type\":\"histogram2dcontour\"}],\"mesh3d\":[{\"colorbar\":{\"outlinewidth\":0,\"ticks\":\"\"},\"type\":\"mesh3d\"}],\"parcoords\":[{\"line\":{\"colorbar\":{\"outlinewidth\":0,\"ticks\":\"\"}},\"type\":\"parcoords\"}],\"pie\":[{\"automargin\":true,\"type\":\"pie\"}],\"scatter\":[{\"marker\":{\"colorbar\":{\"outlinewidth\":0,\"ticks\":\"\"}},\"type\":\"scatter\"}],\"scatter3d\":[{\"line\":{\"colorbar\":{\"outlinewidth\":0,\"ticks\":\"\"}},\"marker\":{\"colorbar\":{\"outlinewidth\":0,\"ticks\":\"\"}},\"type\":\"scatter3d\"}],\"scattercarpet\":[{\"marker\":{\"colorbar\":{\"outlinewidth\":0,\"ticks\":\"\"}},\"type\":\"scattercarpet\"}],\"scattergeo\":[{\"marker\":{\"colorbar\":{\"outlinewidth\":0,\"ticks\":\"\"}},\"type\":\"scattergeo\"}],\"scattergl\":[{\"marker\":{\"colorbar\":{\"outlinewidth\":0,\"ticks\":\"\"}},\"type\":\"scattergl\"}],\"scattermapbox\":[{\"marker\":{\"colorbar\":{\"outlinewidth\":0,\"ticks\":\"\"}},\"type\":\"scattermapbox\"}],\"scatterpolar\":[{\"marker\":{\"colorbar\":{\"outlinewidth\":0,\"ticks\":\"\"}},\"type\":\"scatterpolar\"}],\"scatterpolargl\":[{\"marker\":{\"colorbar\":{\"outlinewidth\":0,\"ticks\":\"\"}},\"type\":\"scatterpolargl\"}],\"scatterternary\":[{\"marker\":{\"colorbar\":{\"outlinewidth\":0,\"ticks\":\"\"}},\"type\":\"scatterternary\"}],\"surface\":[{\"colorbar\":{\"outlinewidth\":0,\"ticks\":\"\"},\"colorscale\":[[0.0,\"#0d0887\"],[0.1111111111111111,\"#46039f\"],[0.2222222222222222,\"#7201a8\"],[0.3333333333333333,\"#9c179e\"],[0.4444444444444444,\"#bd3786\"],[0.5555555555555556,\"#d8576b\"],[0.6666666666666666,\"#ed7953\"],[0.7777777777777778,\"#fb9f3a\"],[0.8888888888888888,\"#fdca26\"],[1.0,\"#f0f921\"]],\"type\":\"surface\"}],\"table\":[{\"cells\":{\"fill\":{\"color\":\"#EBF0F8\"},\"line\":{\"color\":\"white\"}},\"header\":{\"fill\":{\"color\":\"#C8D4E3\"},\"line\":{\"color\":\"white\"}},\"type\":\"table\"}]},\"layout\":{\"annotationdefaults\":{\"arrowcolor\":\"#2a3f5f\",\"arrowhead\":0,\"arrowwidth\":1},\"autotypenumbers\":\"strict\",\"coloraxis\":{\"colorbar\":{\"outlinewidth\":0,\"ticks\":\"\"}},\"colorscale\":{\"diverging\":[[0,\"#8e0152\"],[0.1,\"#c51b7d\"],[0.2,\"#de77ae\"],[0.3,\"#f1b6da\"],[0.4,\"#fde0ef\"],[0.5,\"#f7f7f7\"],[0.6,\"#e6f5d0\"],[0.7,\"#b8e186\"],[0.8,\"#7fbc41\"],[0.9,\"#4d9221\"],[1,\"#276419\"]],\"sequential\":[[0.0,\"#0d0887\"],[0.1111111111111111,\"#46039f\"],[0.2222222222222222,\"#7201a8\"],[0.3333333333333333,\"#9c179e\"],[0.4444444444444444,\"#bd3786\"],[0.5555555555555556,\"#d8576b\"],[0.6666666666666666,\"#ed7953\"],[0.7777777777777778,\"#fb9f3a\"],[0.8888888888888888,\"#fdca26\"],[1.0,\"#f0f921\"]],\"sequentialminus\":[[0.0,\"#0d0887\"],[0.1111111111111111,\"#46039f\"],[0.2222222222222222,\"#7201a8\"],[0.3333333333333333,\"#9c179e\"],[0.4444444444444444,\"#bd3786\"],[0.5555555555555556,\"#d8576b\"],[0.6666666666666666,\"#ed7953\"],[0.7777777777777778,\"#fb9f3a\"],[0.8888888888888888,\"#fdca26\"],[1.0,\"#f0f921\"]]},\"colorway\":[\"#636efa\",\"#EF553B\",\"#00cc96\",\"#ab63fa\",\"#FFA15A\",\"#19d3f3\",\"#FF6692\",\"#B6E880\",\"#FF97FF\",\"#FECB52\"],\"font\":{\"color\":\"#2a3f5f\"},\"geo\":{\"bgcolor\":\"white\",\"lakecolor\":\"white\",\"landcolor\":\"#E5ECF6\",\"showlakes\":true,\"showland\":true,\"subunitcolor\":\"white\"},\"hoverlabel\":{\"align\":\"left\"},\"hovermode\":\"closest\",\"mapbox\":{\"style\":\"light\"},\"paper_bgcolor\":\"white\",\"plot_bgcolor\":\"#E5ECF6\",\"polar\":{\"angularaxis\":{\"gridcolor\":\"white\",\"linecolor\":\"white\",\"ticks\":\"\"},\"bgcolor\":\"#E5ECF6\",\"radialaxis\":{\"gridcolor\":\"white\",\"linecolor\":\"white\",\"ticks\":\"\"}},\"scene\":{\"xaxis\":{\"backgroundcolor\":\"#E5ECF6\",\"gridcolor\":\"white\",\"gridwidth\":2,\"linecolor\":\"white\",\"showbackground\":true,\"ticks\":\"\",\"zerolinecolor\":\"white\"},\"yaxis\":{\"backgroundcolor\":\"#E5ECF6\",\"gridcolor\":\"white\",\"gridwidth\":2,\"linecolor\":\"white\",\"showbackground\":true,\"ticks\":\"\",\"zerolinecolor\":\"white\"},\"zaxis\":{\"backgroundcolor\":\"#E5ECF6\",\"gridcolor\":\"white\",\"gridwidth\":2,\"linecolor\":\"white\",\"showbackground\":true,\"ticks\":\"\",\"zerolinecolor\":\"white\"}},\"shapedefaults\":{\"line\":{\"color\":\"#2a3f5f\"}},\"ternary\":{\"aaxis\":{\"gridcolor\":\"white\",\"linecolor\":\"white\",\"ticks\":\"\"},\"baxis\":{\"gridcolor\":\"white\",\"linecolor\":\"white\",\"ticks\":\"\"},\"bgcolor\":\"#E5ECF6\",\"caxis\":{\"gridcolor\":\"white\",\"linecolor\":\"white\",\"ticks\":\"\"}},\"title\":{\"x\":0.05},\"xaxis\":{\"automargin\":true,\"gridcolor\":\"white\",\"linecolor\":\"white\",\"ticks\":\"\",\"title\":{\"standoff\":15},\"zerolinecolor\":\"white\",\"zerolinewidth\":2},\"yaxis\":{\"automargin\":true,\"gridcolor\":\"white\",\"linecolor\":\"white\",\"ticks\":\"\",\"title\":{\"standoff\":15},\"zerolinecolor\":\"white\",\"zerolinewidth\":2}}},\"xaxis\":{\"anchor\":\"y\",\"domain\":[0.0,1.0],\"title\":{\"text\":\"country\"}},\"yaxis\":{\"anchor\":\"x\",\"domain\":[0.0,1.0],\"title\":{\"text\":\"deaths\"}},\"legend\":{\"tracegroupgap\":0},\"margin\":{\"t\":60},\"barmode\":\"relative\"},                        {\"responsive\": true}                    ).then(function(){\n",
       "                            \n",
       "var gd = document.getElementById('ca86145c-a728-47f7-86d5-c7604940a4d3');\n",
       "var x = new MutationObserver(function (mutations, observer) {{\n",
       "        var display = window.getComputedStyle(gd).display;\n",
       "        if (!display || display === 'none') {{\n",
       "            console.log([gd, 'removed!']);\n",
       "            Plotly.purge(gd);\n",
       "            observer.disconnect();\n",
       "        }}\n",
       "}});\n",
       "\n",
       "// Listen for the removal of the full notebook cells\n",
       "var notebookContainer = gd.closest('#notebook-container');\n",
       "if (notebookContainer) {{\n",
       "    x.observe(notebookContainer, {childList: true});\n",
       "}}\n",
       "\n",
       "// Listen for the clearing of the current output cell\n",
       "var outputEl = gd.closest('.output');\n",
       "if (outputEl) {{\n",
       "    x.observe(outputEl, {childList: true});\n",
       "}}\n",
       "\n",
       "                        })                };                });            </script>        </div>"
      ]
     },
     "metadata": {},
     "output_type": "display_data"
    }
   ],
   "source": [
    "df_males = max_avg_num_males\n",
    "fig = px.bar(df_males, x = \"country\", y = \"deaths\")\n",
    "fig.show()"
   ]
  },
  {
   "cell_type": "code",
   "execution_count": 76,
   "id": "f3dcda5f",
   "metadata": {},
   "outputs": [
    {
     "data": {
      "application/vnd.plotly.v1+json": {
       "config": {
        "plotlyServerURL": "https://plot.ly"
       },
       "data": [
        {
         "alignmentgroup": "True",
         "hovertemplate": "country=%{x}<br>deaths=%{y}<extra></extra>",
         "legendgroup": "",
         "marker": {
          "color": "#636efa",
          "pattern": {
           "shape": ""
          }
         },
         "name": "",
         "offsetgroup": "",
         "orientation": "v",
         "showlegend": false,
         "textposition": "auto",
         "type": "bar",
         "x": [
          "China",
          "United States",
          "Russia",
          "Japan",
          "India",
          "Germany",
          "Italy",
          "France",
          "United Kingdom",
          "Poland"
         ],
         "xaxis": "x",
         "y": [
          301814.81481481483,
          97729.62962962964,
          49762.96296296296,
          42366.666666666664,
          32470.37037037037,
          31118.51851851852,
          27218.51851851852,
          23159.25925925926,
          22651.85185185185,
          17100
         ],
         "yaxis": "y"
        }
       ],
       "layout": {
        "barmode": "relative",
        "legend": {
         "tracegroupgap": 0
        },
        "margin": {
         "t": 60
        },
        "template": {
         "data": {
          "bar": [
           {
            "error_x": {
             "color": "#2a3f5f"
            },
            "error_y": {
             "color": "#2a3f5f"
            },
            "marker": {
             "line": {
              "color": "#E5ECF6",
              "width": 0.5
             },
             "pattern": {
              "fillmode": "overlay",
              "size": 10,
              "solidity": 0.2
             }
            },
            "type": "bar"
           }
          ],
          "barpolar": [
           {
            "marker": {
             "line": {
              "color": "#E5ECF6",
              "width": 0.5
             },
             "pattern": {
              "fillmode": "overlay",
              "size": 10,
              "solidity": 0.2
             }
            },
            "type": "barpolar"
           }
          ],
          "carpet": [
           {
            "aaxis": {
             "endlinecolor": "#2a3f5f",
             "gridcolor": "white",
             "linecolor": "white",
             "minorgridcolor": "white",
             "startlinecolor": "#2a3f5f"
            },
            "baxis": {
             "endlinecolor": "#2a3f5f",
             "gridcolor": "white",
             "linecolor": "white",
             "minorgridcolor": "white",
             "startlinecolor": "#2a3f5f"
            },
            "type": "carpet"
           }
          ],
          "choropleth": [
           {
            "colorbar": {
             "outlinewidth": 0,
             "ticks": ""
            },
            "type": "choropleth"
           }
          ],
          "contour": [
           {
            "colorbar": {
             "outlinewidth": 0,
             "ticks": ""
            },
            "colorscale": [
             [
              0,
              "#0d0887"
             ],
             [
              0.1111111111111111,
              "#46039f"
             ],
             [
              0.2222222222222222,
              "#7201a8"
             ],
             [
              0.3333333333333333,
              "#9c179e"
             ],
             [
              0.4444444444444444,
              "#bd3786"
             ],
             [
              0.5555555555555556,
              "#d8576b"
             ],
             [
              0.6666666666666666,
              "#ed7953"
             ],
             [
              0.7777777777777778,
              "#fb9f3a"
             ],
             [
              0.8888888888888888,
              "#fdca26"
             ],
             [
              1,
              "#f0f921"
             ]
            ],
            "type": "contour"
           }
          ],
          "contourcarpet": [
           {
            "colorbar": {
             "outlinewidth": 0,
             "ticks": ""
            },
            "type": "contourcarpet"
           }
          ],
          "heatmap": [
           {
            "colorbar": {
             "outlinewidth": 0,
             "ticks": ""
            },
            "colorscale": [
             [
              0,
              "#0d0887"
             ],
             [
              0.1111111111111111,
              "#46039f"
             ],
             [
              0.2222222222222222,
              "#7201a8"
             ],
             [
              0.3333333333333333,
              "#9c179e"
             ],
             [
              0.4444444444444444,
              "#bd3786"
             ],
             [
              0.5555555555555556,
              "#d8576b"
             ],
             [
              0.6666666666666666,
              "#ed7953"
             ],
             [
              0.7777777777777778,
              "#fb9f3a"
             ],
             [
              0.8888888888888888,
              "#fdca26"
             ],
             [
              1,
              "#f0f921"
             ]
            ],
            "type": "heatmap"
           }
          ],
          "heatmapgl": [
           {
            "colorbar": {
             "outlinewidth": 0,
             "ticks": ""
            },
            "colorscale": [
             [
              0,
              "#0d0887"
             ],
             [
              0.1111111111111111,
              "#46039f"
             ],
             [
              0.2222222222222222,
              "#7201a8"
             ],
             [
              0.3333333333333333,
              "#9c179e"
             ],
             [
              0.4444444444444444,
              "#bd3786"
             ],
             [
              0.5555555555555556,
              "#d8576b"
             ],
             [
              0.6666666666666666,
              "#ed7953"
             ],
             [
              0.7777777777777778,
              "#fb9f3a"
             ],
             [
              0.8888888888888888,
              "#fdca26"
             ],
             [
              1,
              "#f0f921"
             ]
            ],
            "type": "heatmapgl"
           }
          ],
          "histogram": [
           {
            "marker": {
             "pattern": {
              "fillmode": "overlay",
              "size": 10,
              "solidity": 0.2
             }
            },
            "type": "histogram"
           }
          ],
          "histogram2d": [
           {
            "colorbar": {
             "outlinewidth": 0,
             "ticks": ""
            },
            "colorscale": [
             [
              0,
              "#0d0887"
             ],
             [
              0.1111111111111111,
              "#46039f"
             ],
             [
              0.2222222222222222,
              "#7201a8"
             ],
             [
              0.3333333333333333,
              "#9c179e"
             ],
             [
              0.4444444444444444,
              "#bd3786"
             ],
             [
              0.5555555555555556,
              "#d8576b"
             ],
             [
              0.6666666666666666,
              "#ed7953"
             ],
             [
              0.7777777777777778,
              "#fb9f3a"
             ],
             [
              0.8888888888888888,
              "#fdca26"
             ],
             [
              1,
              "#f0f921"
             ]
            ],
            "type": "histogram2d"
           }
          ],
          "histogram2dcontour": [
           {
            "colorbar": {
             "outlinewidth": 0,
             "ticks": ""
            },
            "colorscale": [
             [
              0,
              "#0d0887"
             ],
             [
              0.1111111111111111,
              "#46039f"
             ],
             [
              0.2222222222222222,
              "#7201a8"
             ],
             [
              0.3333333333333333,
              "#9c179e"
             ],
             [
              0.4444444444444444,
              "#bd3786"
             ],
             [
              0.5555555555555556,
              "#d8576b"
             ],
             [
              0.6666666666666666,
              "#ed7953"
             ],
             [
              0.7777777777777778,
              "#fb9f3a"
             ],
             [
              0.8888888888888888,
              "#fdca26"
             ],
             [
              1,
              "#f0f921"
             ]
            ],
            "type": "histogram2dcontour"
           }
          ],
          "mesh3d": [
           {
            "colorbar": {
             "outlinewidth": 0,
             "ticks": ""
            },
            "type": "mesh3d"
           }
          ],
          "parcoords": [
           {
            "line": {
             "colorbar": {
              "outlinewidth": 0,
              "ticks": ""
             }
            },
            "type": "parcoords"
           }
          ],
          "pie": [
           {
            "automargin": true,
            "type": "pie"
           }
          ],
          "scatter": [
           {
            "marker": {
             "colorbar": {
              "outlinewidth": 0,
              "ticks": ""
             }
            },
            "type": "scatter"
           }
          ],
          "scatter3d": [
           {
            "line": {
             "colorbar": {
              "outlinewidth": 0,
              "ticks": ""
             }
            },
            "marker": {
             "colorbar": {
              "outlinewidth": 0,
              "ticks": ""
             }
            },
            "type": "scatter3d"
           }
          ],
          "scattercarpet": [
           {
            "marker": {
             "colorbar": {
              "outlinewidth": 0,
              "ticks": ""
             }
            },
            "type": "scattercarpet"
           }
          ],
          "scattergeo": [
           {
            "marker": {
             "colorbar": {
              "outlinewidth": 0,
              "ticks": ""
             }
            },
            "type": "scattergeo"
           }
          ],
          "scattergl": [
           {
            "marker": {
             "colorbar": {
              "outlinewidth": 0,
              "ticks": ""
             }
            },
            "type": "scattergl"
           }
          ],
          "scattermapbox": [
           {
            "marker": {
             "colorbar": {
              "outlinewidth": 0,
              "ticks": ""
             }
            },
            "type": "scattermapbox"
           }
          ],
          "scatterpolar": [
           {
            "marker": {
             "colorbar": {
              "outlinewidth": 0,
              "ticks": ""
             }
            },
            "type": "scatterpolar"
           }
          ],
          "scatterpolargl": [
           {
            "marker": {
             "colorbar": {
              "outlinewidth": 0,
              "ticks": ""
             }
            },
            "type": "scatterpolargl"
           }
          ],
          "scatterternary": [
           {
            "marker": {
             "colorbar": {
              "outlinewidth": 0,
              "ticks": ""
             }
            },
            "type": "scatterternary"
           }
          ],
          "surface": [
           {
            "colorbar": {
             "outlinewidth": 0,
             "ticks": ""
            },
            "colorscale": [
             [
              0,
              "#0d0887"
             ],
             [
              0.1111111111111111,
              "#46039f"
             ],
             [
              0.2222222222222222,
              "#7201a8"
             ],
             [
              0.3333333333333333,
              "#9c179e"
             ],
             [
              0.4444444444444444,
              "#bd3786"
             ],
             [
              0.5555555555555556,
              "#d8576b"
             ],
             [
              0.6666666666666666,
              "#ed7953"
             ],
             [
              0.7777777777777778,
              "#fb9f3a"
             ],
             [
              0.8888888888888888,
              "#fdca26"
             ],
             [
              1,
              "#f0f921"
             ]
            ],
            "type": "surface"
           }
          ],
          "table": [
           {
            "cells": {
             "fill": {
              "color": "#EBF0F8"
             },
             "line": {
              "color": "white"
             }
            },
            "header": {
             "fill": {
              "color": "#C8D4E3"
             },
             "line": {
              "color": "white"
             }
            },
            "type": "table"
           }
          ]
         },
         "layout": {
          "annotationdefaults": {
           "arrowcolor": "#2a3f5f",
           "arrowhead": 0,
           "arrowwidth": 1
          },
          "autotypenumbers": "strict",
          "coloraxis": {
           "colorbar": {
            "outlinewidth": 0,
            "ticks": ""
           }
          },
          "colorscale": {
           "diverging": [
            [
             0,
             "#8e0152"
            ],
            [
             0.1,
             "#c51b7d"
            ],
            [
             0.2,
             "#de77ae"
            ],
            [
             0.3,
             "#f1b6da"
            ],
            [
             0.4,
             "#fde0ef"
            ],
            [
             0.5,
             "#f7f7f7"
            ],
            [
             0.6,
             "#e6f5d0"
            ],
            [
             0.7,
             "#b8e186"
            ],
            [
             0.8,
             "#7fbc41"
            ],
            [
             0.9,
             "#4d9221"
            ],
            [
             1,
             "#276419"
            ]
           ],
           "sequential": [
            [
             0,
             "#0d0887"
            ],
            [
             0.1111111111111111,
             "#46039f"
            ],
            [
             0.2222222222222222,
             "#7201a8"
            ],
            [
             0.3333333333333333,
             "#9c179e"
            ],
            [
             0.4444444444444444,
             "#bd3786"
            ],
            [
             0.5555555555555556,
             "#d8576b"
            ],
            [
             0.6666666666666666,
             "#ed7953"
            ],
            [
             0.7777777777777778,
             "#fb9f3a"
            ],
            [
             0.8888888888888888,
             "#fdca26"
            ],
            [
             1,
             "#f0f921"
            ]
           ],
           "sequentialminus": [
            [
             0,
             "#0d0887"
            ],
            [
             0.1111111111111111,
             "#46039f"
            ],
            [
             0.2222222222222222,
             "#7201a8"
            ],
            [
             0.3333333333333333,
             "#9c179e"
            ],
            [
             0.4444444444444444,
             "#bd3786"
            ],
            [
             0.5555555555555556,
             "#d8576b"
            ],
            [
             0.6666666666666666,
             "#ed7953"
            ],
            [
             0.7777777777777778,
             "#fb9f3a"
            ],
            [
             0.8888888888888888,
             "#fdca26"
            ],
            [
             1,
             "#f0f921"
            ]
           ]
          },
          "colorway": [
           "#636efa",
           "#EF553B",
           "#00cc96",
           "#ab63fa",
           "#FFA15A",
           "#19d3f3",
           "#FF6692",
           "#B6E880",
           "#FF97FF",
           "#FECB52"
          ],
          "font": {
           "color": "#2a3f5f"
          },
          "geo": {
           "bgcolor": "white",
           "lakecolor": "white",
           "landcolor": "#E5ECF6",
           "showlakes": true,
           "showland": true,
           "subunitcolor": "white"
          },
          "hoverlabel": {
           "align": "left"
          },
          "hovermode": "closest",
          "mapbox": {
           "style": "light"
          },
          "paper_bgcolor": "white",
          "plot_bgcolor": "#E5ECF6",
          "polar": {
           "angularaxis": {
            "gridcolor": "white",
            "linecolor": "white",
            "ticks": ""
           },
           "bgcolor": "#E5ECF6",
           "radialaxis": {
            "gridcolor": "white",
            "linecolor": "white",
            "ticks": ""
           }
          },
          "scene": {
           "xaxis": {
            "backgroundcolor": "#E5ECF6",
            "gridcolor": "white",
            "gridwidth": 2,
            "linecolor": "white",
            "showbackground": true,
            "ticks": "",
            "zerolinecolor": "white"
           },
           "yaxis": {
            "backgroundcolor": "#E5ECF6",
            "gridcolor": "white",
            "gridwidth": 2,
            "linecolor": "white",
            "showbackground": true,
            "ticks": "",
            "zerolinecolor": "white"
           },
           "zaxis": {
            "backgroundcolor": "#E5ECF6",
            "gridcolor": "white",
            "gridwidth": 2,
            "linecolor": "white",
            "showbackground": true,
            "ticks": "",
            "zerolinecolor": "white"
           }
          },
          "shapedefaults": {
           "line": {
            "color": "#2a3f5f"
           }
          },
          "ternary": {
           "aaxis": {
            "gridcolor": "white",
            "linecolor": "white",
            "ticks": ""
           },
           "baxis": {
            "gridcolor": "white",
            "linecolor": "white",
            "ticks": ""
           },
           "bgcolor": "#E5ECF6",
           "caxis": {
            "gridcolor": "white",
            "linecolor": "white",
            "ticks": ""
           }
          },
          "title": {
           "x": 0.05
          },
          "xaxis": {
           "automargin": true,
           "gridcolor": "white",
           "linecolor": "white",
           "ticks": "",
           "title": {
            "standoff": 15
           },
           "zerolinecolor": "white",
           "zerolinewidth": 2
          },
          "yaxis": {
           "automargin": true,
           "gridcolor": "white",
           "linecolor": "white",
           "ticks": "",
           "title": {
            "standoff": 15
           },
           "zerolinecolor": "white",
           "zerolinewidth": 2
          }
         }
        },
        "xaxis": {
         "anchor": "y",
         "domain": [
          0,
          1
         ],
         "title": {
          "text": "country"
         }
        },
        "yaxis": {
         "anchor": "x",
         "domain": [
          0,
          1
         ],
         "title": {
          "text": "deaths"
         }
        }
       }
      },
      "text/html": [
       "<div>                            <div id=\"80fe2a04-8022-4159-b150-31efb803d3bb\" class=\"plotly-graph-div\" style=\"height:525px; width:100%;\"></div>            <script type=\"text/javascript\">                require([\"plotly\"], function(Plotly) {                    window.PLOTLYENV=window.PLOTLYENV || {};                                    if (document.getElementById(\"80fe2a04-8022-4159-b150-31efb803d3bb\")) {                    Plotly.newPlot(                        \"80fe2a04-8022-4159-b150-31efb803d3bb\",                        [{\"alignmentgroup\":\"True\",\"hovertemplate\":\"country=%{x}<br>deaths=%{y}<extra></extra>\",\"legendgroup\":\"\",\"marker\":{\"color\":\"#636efa\",\"pattern\":{\"shape\":\"\"}},\"name\":\"\",\"offsetgroup\":\"\",\"orientation\":\"v\",\"showlegend\":false,\"textposition\":\"auto\",\"x\":[\"China\",\"United States\",\"Russia\",\"Japan\",\"India\",\"Germany\",\"Italy\",\"France\",\"United Kingdom\",\"Poland\"],\"xaxis\":\"x\",\"y\":[301814.81481481483,97729.62962962964,49762.96296296296,42366.666666666664,32470.37037037037,31118.51851851852,27218.51851851852,23159.25925925926,22651.85185185185,17100.0],\"yaxis\":\"y\",\"type\":\"bar\"}],                        {\"template\":{\"data\":{\"bar\":[{\"error_x\":{\"color\":\"#2a3f5f\"},\"error_y\":{\"color\":\"#2a3f5f\"},\"marker\":{\"line\":{\"color\":\"#E5ECF6\",\"width\":0.5},\"pattern\":{\"fillmode\":\"overlay\",\"size\":10,\"solidity\":0.2}},\"type\":\"bar\"}],\"barpolar\":[{\"marker\":{\"line\":{\"color\":\"#E5ECF6\",\"width\":0.5},\"pattern\":{\"fillmode\":\"overlay\",\"size\":10,\"solidity\":0.2}},\"type\":\"barpolar\"}],\"carpet\":[{\"aaxis\":{\"endlinecolor\":\"#2a3f5f\",\"gridcolor\":\"white\",\"linecolor\":\"white\",\"minorgridcolor\":\"white\",\"startlinecolor\":\"#2a3f5f\"},\"baxis\":{\"endlinecolor\":\"#2a3f5f\",\"gridcolor\":\"white\",\"linecolor\":\"white\",\"minorgridcolor\":\"white\",\"startlinecolor\":\"#2a3f5f\"},\"type\":\"carpet\"}],\"choropleth\":[{\"colorbar\":{\"outlinewidth\":0,\"ticks\":\"\"},\"type\":\"choropleth\"}],\"contour\":[{\"colorbar\":{\"outlinewidth\":0,\"ticks\":\"\"},\"colorscale\":[[0.0,\"#0d0887\"],[0.1111111111111111,\"#46039f\"],[0.2222222222222222,\"#7201a8\"],[0.3333333333333333,\"#9c179e\"],[0.4444444444444444,\"#bd3786\"],[0.5555555555555556,\"#d8576b\"],[0.6666666666666666,\"#ed7953\"],[0.7777777777777778,\"#fb9f3a\"],[0.8888888888888888,\"#fdca26\"],[1.0,\"#f0f921\"]],\"type\":\"contour\"}],\"contourcarpet\":[{\"colorbar\":{\"outlinewidth\":0,\"ticks\":\"\"},\"type\":\"contourcarpet\"}],\"heatmap\":[{\"colorbar\":{\"outlinewidth\":0,\"ticks\":\"\"},\"colorscale\":[[0.0,\"#0d0887\"],[0.1111111111111111,\"#46039f\"],[0.2222222222222222,\"#7201a8\"],[0.3333333333333333,\"#9c179e\"],[0.4444444444444444,\"#bd3786\"],[0.5555555555555556,\"#d8576b\"],[0.6666666666666666,\"#ed7953\"],[0.7777777777777778,\"#fb9f3a\"],[0.8888888888888888,\"#fdca26\"],[1.0,\"#f0f921\"]],\"type\":\"heatmap\"}],\"heatmapgl\":[{\"colorbar\":{\"outlinewidth\":0,\"ticks\":\"\"},\"colorscale\":[[0.0,\"#0d0887\"],[0.1111111111111111,\"#46039f\"],[0.2222222222222222,\"#7201a8\"],[0.3333333333333333,\"#9c179e\"],[0.4444444444444444,\"#bd3786\"],[0.5555555555555556,\"#d8576b\"],[0.6666666666666666,\"#ed7953\"],[0.7777777777777778,\"#fb9f3a\"],[0.8888888888888888,\"#fdca26\"],[1.0,\"#f0f921\"]],\"type\":\"heatmapgl\"}],\"histogram\":[{\"marker\":{\"pattern\":{\"fillmode\":\"overlay\",\"size\":10,\"solidity\":0.2}},\"type\":\"histogram\"}],\"histogram2d\":[{\"colorbar\":{\"outlinewidth\":0,\"ticks\":\"\"},\"colorscale\":[[0.0,\"#0d0887\"],[0.1111111111111111,\"#46039f\"],[0.2222222222222222,\"#7201a8\"],[0.3333333333333333,\"#9c179e\"],[0.4444444444444444,\"#bd3786\"],[0.5555555555555556,\"#d8576b\"],[0.6666666666666666,\"#ed7953\"],[0.7777777777777778,\"#fb9f3a\"],[0.8888888888888888,\"#fdca26\"],[1.0,\"#f0f921\"]],\"type\":\"histogram2d\"}],\"histogram2dcontour\":[{\"colorbar\":{\"outlinewidth\":0,\"ticks\":\"\"},\"colorscale\":[[0.0,\"#0d0887\"],[0.1111111111111111,\"#46039f\"],[0.2222222222222222,\"#7201a8\"],[0.3333333333333333,\"#9c179e\"],[0.4444444444444444,\"#bd3786\"],[0.5555555555555556,\"#d8576b\"],[0.6666666666666666,\"#ed7953\"],[0.7777777777777778,\"#fb9f3a\"],[0.8888888888888888,\"#fdca26\"],[1.0,\"#f0f921\"]],\"type\":\"histogram2dcontour\"}],\"mesh3d\":[{\"colorbar\":{\"outlinewidth\":0,\"ticks\":\"\"},\"type\":\"mesh3d\"}],\"parcoords\":[{\"line\":{\"colorbar\":{\"outlinewidth\":0,\"ticks\":\"\"}},\"type\":\"parcoords\"}],\"pie\":[{\"automargin\":true,\"type\":\"pie\"}],\"scatter\":[{\"marker\":{\"colorbar\":{\"outlinewidth\":0,\"ticks\":\"\"}},\"type\":\"scatter\"}],\"scatter3d\":[{\"line\":{\"colorbar\":{\"outlinewidth\":0,\"ticks\":\"\"}},\"marker\":{\"colorbar\":{\"outlinewidth\":0,\"ticks\":\"\"}},\"type\":\"scatter3d\"}],\"scattercarpet\":[{\"marker\":{\"colorbar\":{\"outlinewidth\":0,\"ticks\":\"\"}},\"type\":\"scattercarpet\"}],\"scattergeo\":[{\"marker\":{\"colorbar\":{\"outlinewidth\":0,\"ticks\":\"\"}},\"type\":\"scattergeo\"}],\"scattergl\":[{\"marker\":{\"colorbar\":{\"outlinewidth\":0,\"ticks\":\"\"}},\"type\":\"scattergl\"}],\"scattermapbox\":[{\"marker\":{\"colorbar\":{\"outlinewidth\":0,\"ticks\":\"\"}},\"type\":\"scattermapbox\"}],\"scatterpolar\":[{\"marker\":{\"colorbar\":{\"outlinewidth\":0,\"ticks\":\"\"}},\"type\":\"scatterpolar\"}],\"scatterpolargl\":[{\"marker\":{\"colorbar\":{\"outlinewidth\":0,\"ticks\":\"\"}},\"type\":\"scatterpolargl\"}],\"scatterternary\":[{\"marker\":{\"colorbar\":{\"outlinewidth\":0,\"ticks\":\"\"}},\"type\":\"scatterternary\"}],\"surface\":[{\"colorbar\":{\"outlinewidth\":0,\"ticks\":\"\"},\"colorscale\":[[0.0,\"#0d0887\"],[0.1111111111111111,\"#46039f\"],[0.2222222222222222,\"#7201a8\"],[0.3333333333333333,\"#9c179e\"],[0.4444444444444444,\"#bd3786\"],[0.5555555555555556,\"#d8576b\"],[0.6666666666666666,\"#ed7953\"],[0.7777777777777778,\"#fb9f3a\"],[0.8888888888888888,\"#fdca26\"],[1.0,\"#f0f921\"]],\"type\":\"surface\"}],\"table\":[{\"cells\":{\"fill\":{\"color\":\"#EBF0F8\"},\"line\":{\"color\":\"white\"}},\"header\":{\"fill\":{\"color\":\"#C8D4E3\"},\"line\":{\"color\":\"white\"}},\"type\":\"table\"}]},\"layout\":{\"annotationdefaults\":{\"arrowcolor\":\"#2a3f5f\",\"arrowhead\":0,\"arrowwidth\":1},\"autotypenumbers\":\"strict\",\"coloraxis\":{\"colorbar\":{\"outlinewidth\":0,\"ticks\":\"\"}},\"colorscale\":{\"diverging\":[[0,\"#8e0152\"],[0.1,\"#c51b7d\"],[0.2,\"#de77ae\"],[0.3,\"#f1b6da\"],[0.4,\"#fde0ef\"],[0.5,\"#f7f7f7\"],[0.6,\"#e6f5d0\"],[0.7,\"#b8e186\"],[0.8,\"#7fbc41\"],[0.9,\"#4d9221\"],[1,\"#276419\"]],\"sequential\":[[0.0,\"#0d0887\"],[0.1111111111111111,\"#46039f\"],[0.2222222222222222,\"#7201a8\"],[0.3333333333333333,\"#9c179e\"],[0.4444444444444444,\"#bd3786\"],[0.5555555555555556,\"#d8576b\"],[0.6666666666666666,\"#ed7953\"],[0.7777777777777778,\"#fb9f3a\"],[0.8888888888888888,\"#fdca26\"],[1.0,\"#f0f921\"]],\"sequentialminus\":[[0.0,\"#0d0887\"],[0.1111111111111111,\"#46039f\"],[0.2222222222222222,\"#7201a8\"],[0.3333333333333333,\"#9c179e\"],[0.4444444444444444,\"#bd3786\"],[0.5555555555555556,\"#d8576b\"],[0.6666666666666666,\"#ed7953\"],[0.7777777777777778,\"#fb9f3a\"],[0.8888888888888888,\"#fdca26\"],[1.0,\"#f0f921\"]]},\"colorway\":[\"#636efa\",\"#EF553B\",\"#00cc96\",\"#ab63fa\",\"#FFA15A\",\"#19d3f3\",\"#FF6692\",\"#B6E880\",\"#FF97FF\",\"#FECB52\"],\"font\":{\"color\":\"#2a3f5f\"},\"geo\":{\"bgcolor\":\"white\",\"lakecolor\":\"white\",\"landcolor\":\"#E5ECF6\",\"showlakes\":true,\"showland\":true,\"subunitcolor\":\"white\"},\"hoverlabel\":{\"align\":\"left\"},\"hovermode\":\"closest\",\"mapbox\":{\"style\":\"light\"},\"paper_bgcolor\":\"white\",\"plot_bgcolor\":\"#E5ECF6\",\"polar\":{\"angularaxis\":{\"gridcolor\":\"white\",\"linecolor\":\"white\",\"ticks\":\"\"},\"bgcolor\":\"#E5ECF6\",\"radialaxis\":{\"gridcolor\":\"white\",\"linecolor\":\"white\",\"ticks\":\"\"}},\"scene\":{\"xaxis\":{\"backgroundcolor\":\"#E5ECF6\",\"gridcolor\":\"white\",\"gridwidth\":2,\"linecolor\":\"white\",\"showbackground\":true,\"ticks\":\"\",\"zerolinecolor\":\"white\"},\"yaxis\":{\"backgroundcolor\":\"#E5ECF6\",\"gridcolor\":\"white\",\"gridwidth\":2,\"linecolor\":\"white\",\"showbackground\":true,\"ticks\":\"\",\"zerolinecolor\":\"white\"},\"zaxis\":{\"backgroundcolor\":\"#E5ECF6\",\"gridcolor\":\"white\",\"gridwidth\":2,\"linecolor\":\"white\",\"showbackground\":true,\"ticks\":\"\",\"zerolinecolor\":\"white\"}},\"shapedefaults\":{\"line\":{\"color\":\"#2a3f5f\"}},\"ternary\":{\"aaxis\":{\"gridcolor\":\"white\",\"linecolor\":\"white\",\"ticks\":\"\"},\"baxis\":{\"gridcolor\":\"white\",\"linecolor\":\"white\",\"ticks\":\"\"},\"bgcolor\":\"#E5ECF6\",\"caxis\":{\"gridcolor\":\"white\",\"linecolor\":\"white\",\"ticks\":\"\"}},\"title\":{\"x\":0.05},\"xaxis\":{\"automargin\":true,\"gridcolor\":\"white\",\"linecolor\":\"white\",\"ticks\":\"\",\"title\":{\"standoff\":15},\"zerolinecolor\":\"white\",\"zerolinewidth\":2},\"yaxis\":{\"automargin\":true,\"gridcolor\":\"white\",\"linecolor\":\"white\",\"ticks\":\"\",\"title\":{\"standoff\":15},\"zerolinecolor\":\"white\",\"zerolinewidth\":2}}},\"xaxis\":{\"anchor\":\"y\",\"domain\":[0.0,1.0],\"title\":{\"text\":\"country\"}},\"yaxis\":{\"anchor\":\"x\",\"domain\":[0.0,1.0],\"title\":{\"text\":\"deaths\"}},\"legend\":{\"tracegroupgap\":0},\"margin\":{\"t\":60},\"barmode\":\"relative\"},                        {\"responsive\": true}                    ).then(function(){\n",
       "                            \n",
       "var gd = document.getElementById('80fe2a04-8022-4159-b150-31efb803d3bb');\n",
       "var x = new MutationObserver(function (mutations, observer) {{\n",
       "        var display = window.getComputedStyle(gd).display;\n",
       "        if (!display || display === 'none') {{\n",
       "            console.log([gd, 'removed!']);\n",
       "            Plotly.purge(gd);\n",
       "            observer.disconnect();\n",
       "        }}\n",
       "}});\n",
       "\n",
       "// Listen for the removal of the full notebook cells\n",
       "var notebookContainer = gd.closest('#notebook-container');\n",
       "if (notebookContainer) {{\n",
       "    x.observe(notebookContainer, {childList: true});\n",
       "}}\n",
       "\n",
       "// Listen for the clearing of the current output cell\n",
       "var outputEl = gd.closest('.output');\n",
       "if (outputEl) {{\n",
       "    x.observe(outputEl, {childList: true});\n",
       "}}\n",
       "\n",
       "                        })                };                });            </script>        </div>"
      ]
     },
     "metadata": {},
     "output_type": "display_data"
    }
   ],
   "source": [
    "#top 10 countries with highest deaths lung cancer for males\n",
    "df_males = max_avg_num_males[:10]\n",
    "fig = px.bar(df_males, x = \"country\", y = \"deaths\")\n",
    "fig.show()"
   ]
  },
  {
   "cell_type": "markdown",
   "id": "2a381e4d",
   "metadata": {},
   "source": [
    "# Females, Lung Cancer"
   ]
  },
  {
   "cell_type": "code",
   "execution_count": 68,
   "id": "ed7b3b19",
   "metadata": {},
   "outputs": [
    {
     "data": {
      "text/html": [
       "<div>\n",
       "<style scoped>\n",
       "    .dataframe tbody tr th:only-of-type {\n",
       "        vertical-align: middle;\n",
       "    }\n",
       "\n",
       "    .dataframe tbody tr th {\n",
       "        vertical-align: top;\n",
       "    }\n",
       "\n",
       "    .dataframe thead th {\n",
       "        text-align: right;\n",
       "    }\n",
       "</style>\n",
       "<table border=\"1\" class=\"dataframe\">\n",
       "  <thead>\n",
       "    <tr style=\"text-align: right;\">\n",
       "      <th></th>\n",
       "      <th>country</th>\n",
       "      <th>year</th>\n",
       "      <th>deaths</th>\n",
       "    </tr>\n",
       "  </thead>\n",
       "  <tbody>\n",
       "    <tr>\n",
       "      <th>0</th>\n",
       "      <td>Afghanistan</td>\n",
       "      <td>1989</td>\n",
       "      <td>220.00</td>\n",
       "    </tr>\n",
       "    <tr>\n",
       "      <th>1</th>\n",
       "      <td>Angola</td>\n",
       "      <td>1989</td>\n",
       "      <td>125.00</td>\n",
       "    </tr>\n",
       "    <tr>\n",
       "      <th>2</th>\n",
       "      <td>Albania</td>\n",
       "      <td>1989</td>\n",
       "      <td>95.20</td>\n",
       "    </tr>\n",
       "    <tr>\n",
       "      <th>3</th>\n",
       "      <td>Andorra</td>\n",
       "      <td>1989</td>\n",
       "      <td>4.34</td>\n",
       "    </tr>\n",
       "    <tr>\n",
       "      <th>4</th>\n",
       "      <td>United Arab Emirates</td>\n",
       "      <td>1989</td>\n",
       "      <td>7.21</td>\n",
       "    </tr>\n",
       "    <tr>\n",
       "      <th>...</th>\n",
       "      <td>...</td>\n",
       "      <td>...</td>\n",
       "      <td>...</td>\n",
       "    </tr>\n",
       "    <tr>\n",
       "      <th>5287</th>\n",
       "      <td>Samoa</td>\n",
       "      <td>2015</td>\n",
       "      <td>2.92</td>\n",
       "    </tr>\n",
       "    <tr>\n",
       "      <th>5288</th>\n",
       "      <td>Yemen</td>\n",
       "      <td>2015</td>\n",
       "      <td>403.00</td>\n",
       "    </tr>\n",
       "    <tr>\n",
       "      <th>5289</th>\n",
       "      <td>South Africa</td>\n",
       "      <td>2015</td>\n",
       "      <td>2170.00</td>\n",
       "    </tr>\n",
       "    <tr>\n",
       "      <th>5290</th>\n",
       "      <td>Zambia</td>\n",
       "      <td>2015</td>\n",
       "      <td>129.00</td>\n",
       "    </tr>\n",
       "    <tr>\n",
       "      <th>5291</th>\n",
       "      <td>Zimbabwe</td>\n",
       "      <td>2015</td>\n",
       "      <td>236.00</td>\n",
       "    </tr>\n",
       "  </tbody>\n",
       "</table>\n",
       "<p>5240 rows × 3 columns</p>\n",
       "</div>"
      ],
      "text/plain": [
       "                   country  year   deaths\n",
       "0              Afghanistan  1989   220.00\n",
       "1                   Angola  1989   125.00\n",
       "2                  Albania  1989    95.20\n",
       "3                  Andorra  1989     4.34\n",
       "4     United Arab Emirates  1989     7.21\n",
       "...                    ...   ...      ...\n",
       "5287                 Samoa  2015     2.92\n",
       "5288                 Yemen  2015   403.00\n",
       "5289          South Africa  2015  2170.00\n",
       "5290                Zambia  2015   129.00\n",
       "5291              Zimbabwe  2015   236.00\n",
       "\n",
       "[5240 rows x 3 columns]"
      ]
     },
     "execution_count": 68,
     "metadata": {},
     "output_type": "execute_result"
    }
   ],
   "source": [
    "females_cs_melt = _indicator_melt(female_lungs, 'deaths')\n",
    "females_cs_melt = females_cs_melt.dropna()\n",
    "females_cs_melt = females_cs_melt.assign(deaths = females_cs_melt.get('deaths').apply(_converter))\n",
    "females_cs_melt\n"
   ]
  },
  {
   "cell_type": "code",
   "execution_count": 69,
   "id": "fc2579d5",
   "metadata": {},
   "outputs": [
    {
     "data": {
      "text/html": [
       "<div>\n",
       "<style scoped>\n",
       "    .dataframe tbody tr th:only-of-type {\n",
       "        vertical-align: middle;\n",
       "    }\n",
       "\n",
       "    .dataframe tbody tr th {\n",
       "        vertical-align: top;\n",
       "    }\n",
       "\n",
       "    .dataframe thead th {\n",
       "        text-align: right;\n",
       "    }\n",
       "</style>\n",
       "<table border=\"1\" class=\"dataframe\">\n",
       "  <thead>\n",
       "    <tr style=\"text-align: right;\">\n",
       "      <th></th>\n",
       "      <th>country</th>\n",
       "      <th>deaths</th>\n",
       "    </tr>\n",
       "  </thead>\n",
       "  <tbody>\n",
       "    <tr>\n",
       "      <th>0</th>\n",
       "      <td>China</td>\n",
       "      <td>127833.333333</td>\n",
       "    </tr>\n",
       "    <tr>\n",
       "      <th>1</th>\n",
       "      <td>United States</td>\n",
       "      <td>71996.296296</td>\n",
       "    </tr>\n",
       "    <tr>\n",
       "      <th>2</th>\n",
       "      <td>Japan</td>\n",
       "      <td>15744.444444</td>\n",
       "    </tr>\n",
       "    <tr>\n",
       "      <th>3</th>\n",
       "      <td>United Kingdom</td>\n",
       "      <td>15055.555556</td>\n",
       "    </tr>\n",
       "    <tr>\n",
       "      <th>4</th>\n",
       "      <td>Germany</td>\n",
       "      <td>11792.592593</td>\n",
       "    </tr>\n",
       "    <tr>\n",
       "      <th>...</th>\n",
       "      <td>...</td>\n",
       "      <td>...</td>\n",
       "    </tr>\n",
       "    <tr>\n",
       "      <th>191</th>\n",
       "      <td>American Samoa</td>\n",
       "      <td>2.088519</td>\n",
       "    </tr>\n",
       "    <tr>\n",
       "      <th>192</th>\n",
       "      <td>Maldives</td>\n",
       "      <td>2.067778</td>\n",
       "    </tr>\n",
       "    <tr>\n",
       "      <th>193</th>\n",
       "      <td>French Polynesia</td>\n",
       "      <td>2.000000</td>\n",
       "    </tr>\n",
       "    <tr>\n",
       "      <th>194</th>\n",
       "      <td>Antigua and Barbuda</td>\n",
       "      <td>1.906667</td>\n",
       "    </tr>\n",
       "    <tr>\n",
       "      <th>195</th>\n",
       "      <td>Marshall Islands</td>\n",
       "      <td>0.863704</td>\n",
       "    </tr>\n",
       "  </tbody>\n",
       "</table>\n",
       "<p>196 rows × 2 columns</p>\n",
       "</div>"
      ],
      "text/plain": [
       "                 country         deaths\n",
       "0                  China  127833.333333\n",
       "1          United States   71996.296296\n",
       "2                  Japan   15744.444444\n",
       "3         United Kingdom   15055.555556\n",
       "4                Germany   11792.592593\n",
       "..                   ...            ...\n",
       "191       American Samoa       2.088519\n",
       "192             Maldives       2.067778\n",
       "193     French Polynesia       2.000000\n",
       "194  Antigua and Barbuda       1.906667\n",
       "195     Marshall Islands       0.863704\n",
       "\n",
       "[196 rows x 2 columns]"
      ]
     },
     "execution_count": 69,
     "metadata": {},
     "output_type": "execute_result"
    }
   ],
   "source": [
    "average_by_country_females = females_cs_melt.groupby(\"country\").mean()\n",
    "max_avg_num_females = average_by_country_females.get([\"deaths\"]).sort_values(by= \"deaths\", ascending = False)\n",
    "max_avg_num_females = max_avg_num_females.reset_index()\n",
    "max_avg_num_females"
   ]
  },
  {
   "cell_type": "code",
   "execution_count": 70,
   "id": "e420887c",
   "metadata": {},
   "outputs": [],
   "source": [
    "lst_females_sorted_countries = list(max_avg_num_females.set_index(\"country\").index.values)\n",
    "lst_females_sorted_values = list(max_avg_num_females.get(\"deaths\"))\n",
    "\n",
    "\n",
    "#country with the max avg deaths - males \n",
    "max_females_deaths_country = lst_females_sorted_countries[0]\n",
    "max_females_deaths = lst_females_sorted_values[0]\n",
    "\n",
    "#country with the mix avg deaths - males\n",
    "min_females_deaths_country = lst_females_sorted_countries[-1]\n",
    "min_females_deaths = lst_females_sorted_values[-1]\n",
    "\n",
    "#NEED TO COME BACK LATER AND DO STAT TEST TO SEE PVALUE AND COMPARE"
   ]
  },
  {
   "cell_type": "code",
   "execution_count": 75,
   "id": "425ab9a7",
   "metadata": {},
   "outputs": [
    {
     "data": {
      "application/vnd.plotly.v1+json": {
       "config": {
        "plotlyServerURL": "https://plot.ly"
       },
       "data": [
        {
         "alignmentgroup": "True",
         "hovertemplate": "country=%{x}<br>deaths=%{y}<extra></extra>",
         "legendgroup": "",
         "marker": {
          "color": "#636efa",
          "pattern": {
           "shape": ""
          }
         },
         "name": "",
         "offsetgroup": "",
         "orientation": "v",
         "showlegend": false,
         "textposition": "auto",
         "type": "bar",
         "x": [
          "China",
          "United States",
          "Russia",
          "Japan",
          "India",
          "Germany",
          "Italy",
          "France",
          "United Kingdom",
          "Poland",
          "Vietnam",
          "Spain",
          "Ukraine",
          "Turkey",
          "Brazil",
          "Bangladesh",
          "South Korea",
          "Canada",
          "Thailand",
          "Pakistan",
          "Indonesia",
          "Argentina",
          "Netherlands",
          "North Korea",
          "Romania",
          "Myanmar",
          "Philippines",
          "Hungary",
          "Belgium",
          "Greece",
          "Taiwan",
          "Australia",
          "Mexico",
          "Czech Republic",
          "South Africa",
          "Serbia",
          "Serbia and Montenegro",
          "Belarus",
          "Kazakhstan",
          "Iran",
          "Cuba",
          "Portugal",
          "Bulgaria",
          "Morocco",
          "Austria",
          "Malaysia",
          "Colombia",
          "Switzerland",
          "Croatia",
          "Denmark",
          "Egypt",
          "Sweden",
          "Slovak Republic",
          "Venezuela",
          "Nigeria",
          "Bosnia and Herzegovina",
          "Finland",
          "Chile",
          "Tunisia",
          "Lithuania",
          "Ethiopia",
          "Algeria",
          "Norway",
          "Afghanistan",
          "Uzbekistan",
          "Uruguay",
          "Israel",
          "Peru",
          "Ireland",
          "Iraq",
          "Cambodia",
          "Congo, Dem. Rep.",
          "Azerbaijan",
          "Latvia",
          "New Zealand",
          "Georgia",
          "Armenia",
          "Sudan",
          "Moldova",
          "Sri Lanka",
          "Slovenia",
          "Singapore",
          "Yemen",
          "Nepal",
          "North Macedonia",
          "Albania",
          "Tanzania",
          "Estonia",
          "Cameroon",
          "Libya",
          "Lebanon",
          "Haiti",
          "Saudi Arabia",
          "Syria",
          "Ecuador",
          "Zimbabwe",
          "Puerto Rico",
          "Dominican Republic",
          "Kyrgyz Republic",
          "Cote d'Ivoire",
          "Ghana",
          "Lao",
          "Uganda",
          "Paraguay",
          "Bolivia",
          "Angola",
          "Jamaica",
          "Mozambique",
          "Senegal",
          "Papua New Guinea",
          "Mongolia",
          "Guinea",
          "Kenya",
          "Guatemala",
          "Montenegro",
          "Jordan",
          "Niger",
          "Turkmenistan",
          "Madagascar",
          "Chad",
          "Benin",
          "Panama",
          "Costa Rica",
          "Malawi",
          "Mali",
          "Palestine",
          "Tajikistan",
          "El Salvador",
          "Honduras",
          "Central African Republic",
          "Burkina Faso",
          "Luxembourg",
          "Cyprus",
          "Lesotho",
          "Togo",
          "Zambia",
          "Botswana",
          "United Arab Emirates",
          "Rwanda",
          "Burundi",
          "Malta",
          "Sierra Leone",
          "Congo, Rep.",
          "Somalia",
          "Nicaragua",
          "Trinidad and Tobago",
          "South Sudan",
          "Mauritius",
          "Eswatini",
          "Mauritania",
          "Kuwait",
          "Iceland",
          "Oman",
          "Gabon",
          "Eritrea",
          "Bahrain",
          "Liberia",
          "Guinea-Bissau",
          "French Polynesia",
          "Suriname",
          "Qatar",
          "Guam",
          "Namibia",
          "Solomon Islands",
          "Timor-Leste",
          "Cape Verde",
          "Brunei",
          "Bahamas",
          "Greenland",
          "Gambia",
          "Fiji",
          "Barbados",
          "Guyana",
          "Equatorial Guinea",
          "Andorra",
          "Belize",
          "Vanuatu",
          "Tonga",
          "Bermuda",
          "Bhutan",
          "Djibouti",
          "Maldives",
          "St. Lucia",
          "Micronesia, Fed. Sts.",
          "Seychelles",
          "Comoros",
          "Sao Tome and Principe",
          "Grenada",
          "Dominica",
          "Northern Mariana Islands",
          "St. Vincent and the Grenadines",
          "Samoa",
          "Kiribati",
          "American Samoa",
          "Antigua and Barbuda",
          "Marshall Islands"
         ],
         "xaxis": "x",
         "y": [
          301814.81481481483,
          97729.62962962964,
          49762.96296296296,
          42366.666666666664,
          32470.37037037037,
          31118.51851851852,
          27218.51851851852,
          23159.25925925926,
          22651.85185185185,
          17100,
          16522.222222222223,
          16444.444444444445,
          16325.925925925925,
          15000,
          13495.185185185184,
          10692.592592592593,
          10447.037037037036,
          10440.74074074074,
          9670.37037037037,
          7863.7037037037035,
          7798.518518518518,
          7323.333333333333,
          7312.962962962963,
          7191.481481481482,
          7042.222222222223,
          6863.7037037037035,
          6428.888888888889,
          5836.666666666667,
          5538.518518518518,
          5511.851851851852,
          5012.592592592592,
          4804.444444444444,
          4722.592592592592,
          4380.37037037037,
          4057.777777777778,
          4054.074074074074,
          3520,
          3512.962962962963,
          3422.222222222222,
          3117.4074074074074,
          2931.8518518518517,
          2895.185185185185,
          2812.5925925925926,
          2482.222222222222,
          2435.925925925926,
          2321.4814814814813,
          2287.777777777778,
          2253.3333333333335,
          2213.703703703704,
          2168.8888888888887,
          2140.740740740741,
          1926.2962962962963,
          1807.4074074074074,
          1758.5185185185185,
          1635.5555555555557,
          1597.037037037037,
          1518.888888888889,
          1512.2222222222222,
          1461.4814814814815,
          1275.1851851851852,
          1268.888888888889,
          1262.5925925925926,
          1239.6296296296296,
          1214.6296296296296,
          1208.5185185185185,
          1178.148148148148,
          1129.5925925925926,
          1087.9259259259259,
          1071.851851851852,
          1064.5925925925926,
          1007.3333333333334,
          926.4444444444445,
          925.6296296296297,
          915.2962962962963,
          899.6666666666666,
          893.1111111111111,
          883.0370370370371,
          867.5185185185185,
          831.9629629629629,
          815.7037037037037,
          796.3333333333334,
          658.1851851851852,
          655.5555555555555,
          652.5925925925926,
          651.2222222222222,
          636.4814814814815,
          617,
          584.2222222222222,
          569.8518518518518,
          530.8888888888889,
          511.037037037037,
          480.18518518518516,
          475.962962962963,
          471.8888888888889,
          446.18518518518516,
          438.48148148148147,
          430.85185185185185,
          420.74074074074076,
          402.77777777777777,
          392.22222222222223,
          387.48148148148147,
          375.77777777777777,
          370.85185185185185,
          370.18518518518516,
          361.18518518518516,
          343.44444444444446,
          325.77777777777777,
          315.9259259259259,
          313.962962962963,
          311.77777777777777,
          307.77777777777777,
          300,
          278.44444444444446,
          272.8888888888889,
          261.037037037037,
          238.88888888888889,
          223.11111111111111,
          200.5185185185185,
          199.55555555555554,
          197.44444444444446,
          195.7037037037037,
          192.11111111111111,
          187.25925925925927,
          179,
          174.66666666666666,
          174.56296296296296,
          172.88888888888889,
          171.40740740740742,
          170.87037037037038,
          168.37037037037038,
          167.8148148148148,
          166.74074074074073,
          164.88888888888889,
          159.44444444444446,
          153.02962962962962,
          147.22592592592594,
          131.62592592592594,
          117.73703703703704,
          111.22592592592592,
          110.97037037037036,
          110.51481481481481,
          109.62592592592593,
          105.26666666666667,
          103.40370370370371,
          101.07407407407408,
          98.16666666666667,
          93.4074074074074,
          93.08888888888889,
          71.65185185185184,
          64.85185185185185,
          60.32222222222222,
          59.8074074074074,
          51.088888888888896,
          50.77777777777778,
          48.52222222222222,
          47.729629629629635,
          47.65925925925926,
          46.92962962962962,
          35,
          32.65555555555556,
          31.537037037037038,
          31.514814814814812,
          31.44814814814815,
          31.29259259259259,
          31.196296296296296,
          26.544444444444448,
          26.01851851851852,
          25.303703703703704,
          24.925925925925927,
          23.87037037037037,
          23.77037037037037,
          21.44074074074074,
          21.38148148148148,
          19.822222222222223,
          18.874074074074073,
          16.06037037037037,
          15.94074074074074,
          14.696296296296296,
          14.018518518518519,
          13.69888888888889,
          12.973703703703704,
          12.962962962962964,
          9.695555555555554,
          8.521851851851851,
          8.520740740740742,
          7.843703703703704,
          7.7844444444444445,
          7.1503703703703705,
          6.936296296296296,
          6.45074074074074,
          5.847037037037037,
          5.585555555555556,
          5.567777777777779,
          4.968518518518518,
          3.86,
          3.2025925925925924
         ],
         "yaxis": "y"
        }
       ],
       "layout": {
        "barmode": "relative",
        "legend": {
         "tracegroupgap": 0
        },
        "margin": {
         "t": 60
        },
        "template": {
         "data": {
          "bar": [
           {
            "error_x": {
             "color": "#2a3f5f"
            },
            "error_y": {
             "color": "#2a3f5f"
            },
            "marker": {
             "line": {
              "color": "#E5ECF6",
              "width": 0.5
             },
             "pattern": {
              "fillmode": "overlay",
              "size": 10,
              "solidity": 0.2
             }
            },
            "type": "bar"
           }
          ],
          "barpolar": [
           {
            "marker": {
             "line": {
              "color": "#E5ECF6",
              "width": 0.5
             },
             "pattern": {
              "fillmode": "overlay",
              "size": 10,
              "solidity": 0.2
             }
            },
            "type": "barpolar"
           }
          ],
          "carpet": [
           {
            "aaxis": {
             "endlinecolor": "#2a3f5f",
             "gridcolor": "white",
             "linecolor": "white",
             "minorgridcolor": "white",
             "startlinecolor": "#2a3f5f"
            },
            "baxis": {
             "endlinecolor": "#2a3f5f",
             "gridcolor": "white",
             "linecolor": "white",
             "minorgridcolor": "white",
             "startlinecolor": "#2a3f5f"
            },
            "type": "carpet"
           }
          ],
          "choropleth": [
           {
            "colorbar": {
             "outlinewidth": 0,
             "ticks": ""
            },
            "type": "choropleth"
           }
          ],
          "contour": [
           {
            "colorbar": {
             "outlinewidth": 0,
             "ticks": ""
            },
            "colorscale": [
             [
              0,
              "#0d0887"
             ],
             [
              0.1111111111111111,
              "#46039f"
             ],
             [
              0.2222222222222222,
              "#7201a8"
             ],
             [
              0.3333333333333333,
              "#9c179e"
             ],
             [
              0.4444444444444444,
              "#bd3786"
             ],
             [
              0.5555555555555556,
              "#d8576b"
             ],
             [
              0.6666666666666666,
              "#ed7953"
             ],
             [
              0.7777777777777778,
              "#fb9f3a"
             ],
             [
              0.8888888888888888,
              "#fdca26"
             ],
             [
              1,
              "#f0f921"
             ]
            ],
            "type": "contour"
           }
          ],
          "contourcarpet": [
           {
            "colorbar": {
             "outlinewidth": 0,
             "ticks": ""
            },
            "type": "contourcarpet"
           }
          ],
          "heatmap": [
           {
            "colorbar": {
             "outlinewidth": 0,
             "ticks": ""
            },
            "colorscale": [
             [
              0,
              "#0d0887"
             ],
             [
              0.1111111111111111,
              "#46039f"
             ],
             [
              0.2222222222222222,
              "#7201a8"
             ],
             [
              0.3333333333333333,
              "#9c179e"
             ],
             [
              0.4444444444444444,
              "#bd3786"
             ],
             [
              0.5555555555555556,
              "#d8576b"
             ],
             [
              0.6666666666666666,
              "#ed7953"
             ],
             [
              0.7777777777777778,
              "#fb9f3a"
             ],
             [
              0.8888888888888888,
              "#fdca26"
             ],
             [
              1,
              "#f0f921"
             ]
            ],
            "type": "heatmap"
           }
          ],
          "heatmapgl": [
           {
            "colorbar": {
             "outlinewidth": 0,
             "ticks": ""
            },
            "colorscale": [
             [
              0,
              "#0d0887"
             ],
             [
              0.1111111111111111,
              "#46039f"
             ],
             [
              0.2222222222222222,
              "#7201a8"
             ],
             [
              0.3333333333333333,
              "#9c179e"
             ],
             [
              0.4444444444444444,
              "#bd3786"
             ],
             [
              0.5555555555555556,
              "#d8576b"
             ],
             [
              0.6666666666666666,
              "#ed7953"
             ],
             [
              0.7777777777777778,
              "#fb9f3a"
             ],
             [
              0.8888888888888888,
              "#fdca26"
             ],
             [
              1,
              "#f0f921"
             ]
            ],
            "type": "heatmapgl"
           }
          ],
          "histogram": [
           {
            "marker": {
             "pattern": {
              "fillmode": "overlay",
              "size": 10,
              "solidity": 0.2
             }
            },
            "type": "histogram"
           }
          ],
          "histogram2d": [
           {
            "colorbar": {
             "outlinewidth": 0,
             "ticks": ""
            },
            "colorscale": [
             [
              0,
              "#0d0887"
             ],
             [
              0.1111111111111111,
              "#46039f"
             ],
             [
              0.2222222222222222,
              "#7201a8"
             ],
             [
              0.3333333333333333,
              "#9c179e"
             ],
             [
              0.4444444444444444,
              "#bd3786"
             ],
             [
              0.5555555555555556,
              "#d8576b"
             ],
             [
              0.6666666666666666,
              "#ed7953"
             ],
             [
              0.7777777777777778,
              "#fb9f3a"
             ],
             [
              0.8888888888888888,
              "#fdca26"
             ],
             [
              1,
              "#f0f921"
             ]
            ],
            "type": "histogram2d"
           }
          ],
          "histogram2dcontour": [
           {
            "colorbar": {
             "outlinewidth": 0,
             "ticks": ""
            },
            "colorscale": [
             [
              0,
              "#0d0887"
             ],
             [
              0.1111111111111111,
              "#46039f"
             ],
             [
              0.2222222222222222,
              "#7201a8"
             ],
             [
              0.3333333333333333,
              "#9c179e"
             ],
             [
              0.4444444444444444,
              "#bd3786"
             ],
             [
              0.5555555555555556,
              "#d8576b"
             ],
             [
              0.6666666666666666,
              "#ed7953"
             ],
             [
              0.7777777777777778,
              "#fb9f3a"
             ],
             [
              0.8888888888888888,
              "#fdca26"
             ],
             [
              1,
              "#f0f921"
             ]
            ],
            "type": "histogram2dcontour"
           }
          ],
          "mesh3d": [
           {
            "colorbar": {
             "outlinewidth": 0,
             "ticks": ""
            },
            "type": "mesh3d"
           }
          ],
          "parcoords": [
           {
            "line": {
             "colorbar": {
              "outlinewidth": 0,
              "ticks": ""
             }
            },
            "type": "parcoords"
           }
          ],
          "pie": [
           {
            "automargin": true,
            "type": "pie"
           }
          ],
          "scatter": [
           {
            "marker": {
             "colorbar": {
              "outlinewidth": 0,
              "ticks": ""
             }
            },
            "type": "scatter"
           }
          ],
          "scatter3d": [
           {
            "line": {
             "colorbar": {
              "outlinewidth": 0,
              "ticks": ""
             }
            },
            "marker": {
             "colorbar": {
              "outlinewidth": 0,
              "ticks": ""
             }
            },
            "type": "scatter3d"
           }
          ],
          "scattercarpet": [
           {
            "marker": {
             "colorbar": {
              "outlinewidth": 0,
              "ticks": ""
             }
            },
            "type": "scattercarpet"
           }
          ],
          "scattergeo": [
           {
            "marker": {
             "colorbar": {
              "outlinewidth": 0,
              "ticks": ""
             }
            },
            "type": "scattergeo"
           }
          ],
          "scattergl": [
           {
            "marker": {
             "colorbar": {
              "outlinewidth": 0,
              "ticks": ""
             }
            },
            "type": "scattergl"
           }
          ],
          "scattermapbox": [
           {
            "marker": {
             "colorbar": {
              "outlinewidth": 0,
              "ticks": ""
             }
            },
            "type": "scattermapbox"
           }
          ],
          "scatterpolar": [
           {
            "marker": {
             "colorbar": {
              "outlinewidth": 0,
              "ticks": ""
             }
            },
            "type": "scatterpolar"
           }
          ],
          "scatterpolargl": [
           {
            "marker": {
             "colorbar": {
              "outlinewidth": 0,
              "ticks": ""
             }
            },
            "type": "scatterpolargl"
           }
          ],
          "scatterternary": [
           {
            "marker": {
             "colorbar": {
              "outlinewidth": 0,
              "ticks": ""
             }
            },
            "type": "scatterternary"
           }
          ],
          "surface": [
           {
            "colorbar": {
             "outlinewidth": 0,
             "ticks": ""
            },
            "colorscale": [
             [
              0,
              "#0d0887"
             ],
             [
              0.1111111111111111,
              "#46039f"
             ],
             [
              0.2222222222222222,
              "#7201a8"
             ],
             [
              0.3333333333333333,
              "#9c179e"
             ],
             [
              0.4444444444444444,
              "#bd3786"
             ],
             [
              0.5555555555555556,
              "#d8576b"
             ],
             [
              0.6666666666666666,
              "#ed7953"
             ],
             [
              0.7777777777777778,
              "#fb9f3a"
             ],
             [
              0.8888888888888888,
              "#fdca26"
             ],
             [
              1,
              "#f0f921"
             ]
            ],
            "type": "surface"
           }
          ],
          "table": [
           {
            "cells": {
             "fill": {
              "color": "#EBF0F8"
             },
             "line": {
              "color": "white"
             }
            },
            "header": {
             "fill": {
              "color": "#C8D4E3"
             },
             "line": {
              "color": "white"
             }
            },
            "type": "table"
           }
          ]
         },
         "layout": {
          "annotationdefaults": {
           "arrowcolor": "#2a3f5f",
           "arrowhead": 0,
           "arrowwidth": 1
          },
          "autotypenumbers": "strict",
          "coloraxis": {
           "colorbar": {
            "outlinewidth": 0,
            "ticks": ""
           }
          },
          "colorscale": {
           "diverging": [
            [
             0,
             "#8e0152"
            ],
            [
             0.1,
             "#c51b7d"
            ],
            [
             0.2,
             "#de77ae"
            ],
            [
             0.3,
             "#f1b6da"
            ],
            [
             0.4,
             "#fde0ef"
            ],
            [
             0.5,
             "#f7f7f7"
            ],
            [
             0.6,
             "#e6f5d0"
            ],
            [
             0.7,
             "#b8e186"
            ],
            [
             0.8,
             "#7fbc41"
            ],
            [
             0.9,
             "#4d9221"
            ],
            [
             1,
             "#276419"
            ]
           ],
           "sequential": [
            [
             0,
             "#0d0887"
            ],
            [
             0.1111111111111111,
             "#46039f"
            ],
            [
             0.2222222222222222,
             "#7201a8"
            ],
            [
             0.3333333333333333,
             "#9c179e"
            ],
            [
             0.4444444444444444,
             "#bd3786"
            ],
            [
             0.5555555555555556,
             "#d8576b"
            ],
            [
             0.6666666666666666,
             "#ed7953"
            ],
            [
             0.7777777777777778,
             "#fb9f3a"
            ],
            [
             0.8888888888888888,
             "#fdca26"
            ],
            [
             1,
             "#f0f921"
            ]
           ],
           "sequentialminus": [
            [
             0,
             "#0d0887"
            ],
            [
             0.1111111111111111,
             "#46039f"
            ],
            [
             0.2222222222222222,
             "#7201a8"
            ],
            [
             0.3333333333333333,
             "#9c179e"
            ],
            [
             0.4444444444444444,
             "#bd3786"
            ],
            [
             0.5555555555555556,
             "#d8576b"
            ],
            [
             0.6666666666666666,
             "#ed7953"
            ],
            [
             0.7777777777777778,
             "#fb9f3a"
            ],
            [
             0.8888888888888888,
             "#fdca26"
            ],
            [
             1,
             "#f0f921"
            ]
           ]
          },
          "colorway": [
           "#636efa",
           "#EF553B",
           "#00cc96",
           "#ab63fa",
           "#FFA15A",
           "#19d3f3",
           "#FF6692",
           "#B6E880",
           "#FF97FF",
           "#FECB52"
          ],
          "font": {
           "color": "#2a3f5f"
          },
          "geo": {
           "bgcolor": "white",
           "lakecolor": "white",
           "landcolor": "#E5ECF6",
           "showlakes": true,
           "showland": true,
           "subunitcolor": "white"
          },
          "hoverlabel": {
           "align": "left"
          },
          "hovermode": "closest",
          "mapbox": {
           "style": "light"
          },
          "paper_bgcolor": "white",
          "plot_bgcolor": "#E5ECF6",
          "polar": {
           "angularaxis": {
            "gridcolor": "white",
            "linecolor": "white",
            "ticks": ""
           },
           "bgcolor": "#E5ECF6",
           "radialaxis": {
            "gridcolor": "white",
            "linecolor": "white",
            "ticks": ""
           }
          },
          "scene": {
           "xaxis": {
            "backgroundcolor": "#E5ECF6",
            "gridcolor": "white",
            "gridwidth": 2,
            "linecolor": "white",
            "showbackground": true,
            "ticks": "",
            "zerolinecolor": "white"
           },
           "yaxis": {
            "backgroundcolor": "#E5ECF6",
            "gridcolor": "white",
            "gridwidth": 2,
            "linecolor": "white",
            "showbackground": true,
            "ticks": "",
            "zerolinecolor": "white"
           },
           "zaxis": {
            "backgroundcolor": "#E5ECF6",
            "gridcolor": "white",
            "gridwidth": 2,
            "linecolor": "white",
            "showbackground": true,
            "ticks": "",
            "zerolinecolor": "white"
           }
          },
          "shapedefaults": {
           "line": {
            "color": "#2a3f5f"
           }
          },
          "ternary": {
           "aaxis": {
            "gridcolor": "white",
            "linecolor": "white",
            "ticks": ""
           },
           "baxis": {
            "gridcolor": "white",
            "linecolor": "white",
            "ticks": ""
           },
           "bgcolor": "#E5ECF6",
           "caxis": {
            "gridcolor": "white",
            "linecolor": "white",
            "ticks": ""
           }
          },
          "title": {
           "x": 0.05
          },
          "xaxis": {
           "automargin": true,
           "gridcolor": "white",
           "linecolor": "white",
           "ticks": "",
           "title": {
            "standoff": 15
           },
           "zerolinecolor": "white",
           "zerolinewidth": 2
          },
          "yaxis": {
           "automargin": true,
           "gridcolor": "white",
           "linecolor": "white",
           "ticks": "",
           "title": {
            "standoff": 15
           },
           "zerolinecolor": "white",
           "zerolinewidth": 2
          }
         }
        },
        "xaxis": {
         "anchor": "y",
         "domain": [
          0,
          1
         ],
         "title": {
          "text": "country"
         }
        },
        "yaxis": {
         "anchor": "x",
         "domain": [
          0,
          1
         ],
         "title": {
          "text": "deaths"
         }
        }
       }
      },
      "text/html": [
       "<div>                            <div id=\"c1bbcf1c-e74c-4912-b409-2c16a2d10a81\" class=\"plotly-graph-div\" style=\"height:525px; width:100%;\"></div>            <script type=\"text/javascript\">                require([\"plotly\"], function(Plotly) {                    window.PLOTLYENV=window.PLOTLYENV || {};                                    if (document.getElementById(\"c1bbcf1c-e74c-4912-b409-2c16a2d10a81\")) {                    Plotly.newPlot(                        \"c1bbcf1c-e74c-4912-b409-2c16a2d10a81\",                        [{\"alignmentgroup\":\"True\",\"hovertemplate\":\"country=%{x}<br>deaths=%{y}<extra></extra>\",\"legendgroup\":\"\",\"marker\":{\"color\":\"#636efa\",\"pattern\":{\"shape\":\"\"}},\"name\":\"\",\"offsetgroup\":\"\",\"orientation\":\"v\",\"showlegend\":false,\"textposition\":\"auto\",\"x\":[\"China\",\"United States\",\"Russia\",\"Japan\",\"India\",\"Germany\",\"Italy\",\"France\",\"United Kingdom\",\"Poland\",\"Vietnam\",\"Spain\",\"Ukraine\",\"Turkey\",\"Brazil\",\"Bangladesh\",\"South Korea\",\"Canada\",\"Thailand\",\"Pakistan\",\"Indonesia\",\"Argentina\",\"Netherlands\",\"North Korea\",\"Romania\",\"Myanmar\",\"Philippines\",\"Hungary\",\"Belgium\",\"Greece\",\"Taiwan\",\"Australia\",\"Mexico\",\"Czech Republic\",\"South Africa\",\"Serbia\",\"Serbia and Montenegro\",\"Belarus\",\"Kazakhstan\",\"Iran\",\"Cuba\",\"Portugal\",\"Bulgaria\",\"Morocco\",\"Austria\",\"Malaysia\",\"Colombia\",\"Switzerland\",\"Croatia\",\"Denmark\",\"Egypt\",\"Sweden\",\"Slovak Republic\",\"Venezuela\",\"Nigeria\",\"Bosnia and Herzegovina\",\"Finland\",\"Chile\",\"Tunisia\",\"Lithuania\",\"Ethiopia\",\"Algeria\",\"Norway\",\"Afghanistan\",\"Uzbekistan\",\"Uruguay\",\"Israel\",\"Peru\",\"Ireland\",\"Iraq\",\"Cambodia\",\"Congo, Dem. Rep.\",\"Azerbaijan\",\"Latvia\",\"New Zealand\",\"Georgia\",\"Armenia\",\"Sudan\",\"Moldova\",\"Sri Lanka\",\"Slovenia\",\"Singapore\",\"Yemen\",\"Nepal\",\"North Macedonia\",\"Albania\",\"Tanzania\",\"Estonia\",\"Cameroon\",\"Libya\",\"Lebanon\",\"Haiti\",\"Saudi Arabia\",\"Syria\",\"Ecuador\",\"Zimbabwe\",\"Puerto Rico\",\"Dominican Republic\",\"Kyrgyz Republic\",\"Cote d'Ivoire\",\"Ghana\",\"Lao\",\"Uganda\",\"Paraguay\",\"Bolivia\",\"Angola\",\"Jamaica\",\"Mozambique\",\"Senegal\",\"Papua New Guinea\",\"Mongolia\",\"Guinea\",\"Kenya\",\"Guatemala\",\"Montenegro\",\"Jordan\",\"Niger\",\"Turkmenistan\",\"Madagascar\",\"Chad\",\"Benin\",\"Panama\",\"Costa Rica\",\"Malawi\",\"Mali\",\"Palestine\",\"Tajikistan\",\"El Salvador\",\"Honduras\",\"Central African Republic\",\"Burkina Faso\",\"Luxembourg\",\"Cyprus\",\"Lesotho\",\"Togo\",\"Zambia\",\"Botswana\",\"United Arab Emirates\",\"Rwanda\",\"Burundi\",\"Malta\",\"Sierra Leone\",\"Congo, Rep.\",\"Somalia\",\"Nicaragua\",\"Trinidad and Tobago\",\"South Sudan\",\"Mauritius\",\"Eswatini\",\"Mauritania\",\"Kuwait\",\"Iceland\",\"Oman\",\"Gabon\",\"Eritrea\",\"Bahrain\",\"Liberia\",\"Guinea-Bissau\",\"French Polynesia\",\"Suriname\",\"Qatar\",\"Guam\",\"Namibia\",\"Solomon Islands\",\"Timor-Leste\",\"Cape Verde\",\"Brunei\",\"Bahamas\",\"Greenland\",\"Gambia\",\"Fiji\",\"Barbados\",\"Guyana\",\"Equatorial Guinea\",\"Andorra\",\"Belize\",\"Vanuatu\",\"Tonga\",\"Bermuda\",\"Bhutan\",\"Djibouti\",\"Maldives\",\"St. Lucia\",\"Micronesia, Fed. Sts.\",\"Seychelles\",\"Comoros\",\"Sao Tome and Principe\",\"Grenada\",\"Dominica\",\"Northern Mariana Islands\",\"St. Vincent and the Grenadines\",\"Samoa\",\"Kiribati\",\"American Samoa\",\"Antigua and Barbuda\",\"Marshall Islands\"],\"xaxis\":\"x\",\"y\":[301814.81481481483,97729.62962962964,49762.96296296296,42366.666666666664,32470.37037037037,31118.51851851852,27218.51851851852,23159.25925925926,22651.85185185185,17100.0,16522.222222222223,16444.444444444445,16325.925925925925,15000.0,13495.185185185184,10692.592592592593,10447.037037037036,10440.74074074074,9670.37037037037,7863.7037037037035,7798.518518518518,7323.333333333333,7312.962962962963,7191.481481481482,7042.222222222223,6863.7037037037035,6428.888888888889,5836.666666666667,5538.518518518518,5511.851851851852,5012.592592592592,4804.444444444444,4722.592592592592,4380.37037037037,4057.777777777778,4054.074074074074,3520.0,3512.962962962963,3422.222222222222,3117.4074074074074,2931.8518518518517,2895.185185185185,2812.5925925925926,2482.222222222222,2435.925925925926,2321.4814814814813,2287.777777777778,2253.3333333333335,2213.703703703704,2168.8888888888887,2140.740740740741,1926.2962962962963,1807.4074074074074,1758.5185185185185,1635.5555555555557,1597.037037037037,1518.888888888889,1512.2222222222222,1461.4814814814815,1275.1851851851852,1268.888888888889,1262.5925925925926,1239.6296296296296,1214.6296296296296,1208.5185185185185,1178.148148148148,1129.5925925925926,1087.9259259259259,1071.851851851852,1064.5925925925926,1007.3333333333334,926.4444444444445,925.6296296296297,915.2962962962963,899.6666666666666,893.1111111111111,883.0370370370371,867.5185185185185,831.9629629629629,815.7037037037037,796.3333333333334,658.1851851851852,655.5555555555555,652.5925925925926,651.2222222222222,636.4814814814815,617.0,584.2222222222222,569.8518518518518,530.8888888888889,511.037037037037,480.18518518518516,475.962962962963,471.8888888888889,446.18518518518516,438.48148148148147,430.85185185185185,420.74074074074076,402.77777777777777,392.22222222222223,387.48148148148147,375.77777777777777,370.85185185185185,370.18518518518516,361.18518518518516,343.44444444444446,325.77777777777777,315.9259259259259,313.962962962963,311.77777777777777,307.77777777777777,300.0,278.44444444444446,272.8888888888889,261.037037037037,238.88888888888889,223.11111111111111,200.5185185185185,199.55555555555554,197.44444444444446,195.7037037037037,192.11111111111111,187.25925925925927,179.0,174.66666666666666,174.56296296296296,172.88888888888889,171.40740740740742,170.87037037037038,168.37037037037038,167.8148148148148,166.74074074074073,164.88888888888889,159.44444444444446,153.02962962962962,147.22592592592594,131.62592592592594,117.73703703703704,111.22592592592592,110.97037037037036,110.51481481481481,109.62592592592593,105.26666666666667,103.40370370370371,101.07407407407408,98.16666666666667,93.4074074074074,93.08888888888889,71.65185185185184,64.85185185185185,60.32222222222222,59.8074074074074,51.088888888888896,50.77777777777778,48.52222222222222,47.729629629629635,47.65925925925926,46.92962962962962,35.0,32.65555555555556,31.537037037037038,31.514814814814812,31.44814814814815,31.29259259259259,31.196296296296296,26.544444444444448,26.01851851851852,25.303703703703704,24.925925925925927,23.87037037037037,23.77037037037037,21.44074074074074,21.38148148148148,19.822222222222223,18.874074074074073,16.06037037037037,15.94074074074074,14.696296296296296,14.018518518518519,13.69888888888889,12.973703703703704,12.962962962962964,9.695555555555554,8.521851851851851,8.520740740740742,7.843703703703704,7.7844444444444445,7.1503703703703705,6.936296296296296,6.45074074074074,5.847037037037037,5.585555555555556,5.567777777777779,4.968518518518518,3.86,3.2025925925925924],\"yaxis\":\"y\",\"type\":\"bar\"}],                        {\"template\":{\"data\":{\"bar\":[{\"error_x\":{\"color\":\"#2a3f5f\"},\"error_y\":{\"color\":\"#2a3f5f\"},\"marker\":{\"line\":{\"color\":\"#E5ECF6\",\"width\":0.5},\"pattern\":{\"fillmode\":\"overlay\",\"size\":10,\"solidity\":0.2}},\"type\":\"bar\"}],\"barpolar\":[{\"marker\":{\"line\":{\"color\":\"#E5ECF6\",\"width\":0.5},\"pattern\":{\"fillmode\":\"overlay\",\"size\":10,\"solidity\":0.2}},\"type\":\"barpolar\"}],\"carpet\":[{\"aaxis\":{\"endlinecolor\":\"#2a3f5f\",\"gridcolor\":\"white\",\"linecolor\":\"white\",\"minorgridcolor\":\"white\",\"startlinecolor\":\"#2a3f5f\"},\"baxis\":{\"endlinecolor\":\"#2a3f5f\",\"gridcolor\":\"white\",\"linecolor\":\"white\",\"minorgridcolor\":\"white\",\"startlinecolor\":\"#2a3f5f\"},\"type\":\"carpet\"}],\"choropleth\":[{\"colorbar\":{\"outlinewidth\":0,\"ticks\":\"\"},\"type\":\"choropleth\"}],\"contour\":[{\"colorbar\":{\"outlinewidth\":0,\"ticks\":\"\"},\"colorscale\":[[0.0,\"#0d0887\"],[0.1111111111111111,\"#46039f\"],[0.2222222222222222,\"#7201a8\"],[0.3333333333333333,\"#9c179e\"],[0.4444444444444444,\"#bd3786\"],[0.5555555555555556,\"#d8576b\"],[0.6666666666666666,\"#ed7953\"],[0.7777777777777778,\"#fb9f3a\"],[0.8888888888888888,\"#fdca26\"],[1.0,\"#f0f921\"]],\"type\":\"contour\"}],\"contourcarpet\":[{\"colorbar\":{\"outlinewidth\":0,\"ticks\":\"\"},\"type\":\"contourcarpet\"}],\"heatmap\":[{\"colorbar\":{\"outlinewidth\":0,\"ticks\":\"\"},\"colorscale\":[[0.0,\"#0d0887\"],[0.1111111111111111,\"#46039f\"],[0.2222222222222222,\"#7201a8\"],[0.3333333333333333,\"#9c179e\"],[0.4444444444444444,\"#bd3786\"],[0.5555555555555556,\"#d8576b\"],[0.6666666666666666,\"#ed7953\"],[0.7777777777777778,\"#fb9f3a\"],[0.8888888888888888,\"#fdca26\"],[1.0,\"#f0f921\"]],\"type\":\"heatmap\"}],\"heatmapgl\":[{\"colorbar\":{\"outlinewidth\":0,\"ticks\":\"\"},\"colorscale\":[[0.0,\"#0d0887\"],[0.1111111111111111,\"#46039f\"],[0.2222222222222222,\"#7201a8\"],[0.3333333333333333,\"#9c179e\"],[0.4444444444444444,\"#bd3786\"],[0.5555555555555556,\"#d8576b\"],[0.6666666666666666,\"#ed7953\"],[0.7777777777777778,\"#fb9f3a\"],[0.8888888888888888,\"#fdca26\"],[1.0,\"#f0f921\"]],\"type\":\"heatmapgl\"}],\"histogram\":[{\"marker\":{\"pattern\":{\"fillmode\":\"overlay\",\"size\":10,\"solidity\":0.2}},\"type\":\"histogram\"}],\"histogram2d\":[{\"colorbar\":{\"outlinewidth\":0,\"ticks\":\"\"},\"colorscale\":[[0.0,\"#0d0887\"],[0.1111111111111111,\"#46039f\"],[0.2222222222222222,\"#7201a8\"],[0.3333333333333333,\"#9c179e\"],[0.4444444444444444,\"#bd3786\"],[0.5555555555555556,\"#d8576b\"],[0.6666666666666666,\"#ed7953\"],[0.7777777777777778,\"#fb9f3a\"],[0.8888888888888888,\"#fdca26\"],[1.0,\"#f0f921\"]],\"type\":\"histogram2d\"}],\"histogram2dcontour\":[{\"colorbar\":{\"outlinewidth\":0,\"ticks\":\"\"},\"colorscale\":[[0.0,\"#0d0887\"],[0.1111111111111111,\"#46039f\"],[0.2222222222222222,\"#7201a8\"],[0.3333333333333333,\"#9c179e\"],[0.4444444444444444,\"#bd3786\"],[0.5555555555555556,\"#d8576b\"],[0.6666666666666666,\"#ed7953\"],[0.7777777777777778,\"#fb9f3a\"],[0.8888888888888888,\"#fdca26\"],[1.0,\"#f0f921\"]],\"type\":\"histogram2dcontour\"}],\"mesh3d\":[{\"colorbar\":{\"outlinewidth\":0,\"ticks\":\"\"},\"type\":\"mesh3d\"}],\"parcoords\":[{\"line\":{\"colorbar\":{\"outlinewidth\":0,\"ticks\":\"\"}},\"type\":\"parcoords\"}],\"pie\":[{\"automargin\":true,\"type\":\"pie\"}],\"scatter\":[{\"marker\":{\"colorbar\":{\"outlinewidth\":0,\"ticks\":\"\"}},\"type\":\"scatter\"}],\"scatter3d\":[{\"line\":{\"colorbar\":{\"outlinewidth\":0,\"ticks\":\"\"}},\"marker\":{\"colorbar\":{\"outlinewidth\":0,\"ticks\":\"\"}},\"type\":\"scatter3d\"}],\"scattercarpet\":[{\"marker\":{\"colorbar\":{\"outlinewidth\":0,\"ticks\":\"\"}},\"type\":\"scattercarpet\"}],\"scattergeo\":[{\"marker\":{\"colorbar\":{\"outlinewidth\":0,\"ticks\":\"\"}},\"type\":\"scattergeo\"}],\"scattergl\":[{\"marker\":{\"colorbar\":{\"outlinewidth\":0,\"ticks\":\"\"}},\"type\":\"scattergl\"}],\"scattermapbox\":[{\"marker\":{\"colorbar\":{\"outlinewidth\":0,\"ticks\":\"\"}},\"type\":\"scattermapbox\"}],\"scatterpolar\":[{\"marker\":{\"colorbar\":{\"outlinewidth\":0,\"ticks\":\"\"}},\"type\":\"scatterpolar\"}],\"scatterpolargl\":[{\"marker\":{\"colorbar\":{\"outlinewidth\":0,\"ticks\":\"\"}},\"type\":\"scatterpolargl\"}],\"scatterternary\":[{\"marker\":{\"colorbar\":{\"outlinewidth\":0,\"ticks\":\"\"}},\"type\":\"scatterternary\"}],\"surface\":[{\"colorbar\":{\"outlinewidth\":0,\"ticks\":\"\"},\"colorscale\":[[0.0,\"#0d0887\"],[0.1111111111111111,\"#46039f\"],[0.2222222222222222,\"#7201a8\"],[0.3333333333333333,\"#9c179e\"],[0.4444444444444444,\"#bd3786\"],[0.5555555555555556,\"#d8576b\"],[0.6666666666666666,\"#ed7953\"],[0.7777777777777778,\"#fb9f3a\"],[0.8888888888888888,\"#fdca26\"],[1.0,\"#f0f921\"]],\"type\":\"surface\"}],\"table\":[{\"cells\":{\"fill\":{\"color\":\"#EBF0F8\"},\"line\":{\"color\":\"white\"}},\"header\":{\"fill\":{\"color\":\"#C8D4E3\"},\"line\":{\"color\":\"white\"}},\"type\":\"table\"}]},\"layout\":{\"annotationdefaults\":{\"arrowcolor\":\"#2a3f5f\",\"arrowhead\":0,\"arrowwidth\":1},\"autotypenumbers\":\"strict\",\"coloraxis\":{\"colorbar\":{\"outlinewidth\":0,\"ticks\":\"\"}},\"colorscale\":{\"diverging\":[[0,\"#8e0152\"],[0.1,\"#c51b7d\"],[0.2,\"#de77ae\"],[0.3,\"#f1b6da\"],[0.4,\"#fde0ef\"],[0.5,\"#f7f7f7\"],[0.6,\"#e6f5d0\"],[0.7,\"#b8e186\"],[0.8,\"#7fbc41\"],[0.9,\"#4d9221\"],[1,\"#276419\"]],\"sequential\":[[0.0,\"#0d0887\"],[0.1111111111111111,\"#46039f\"],[0.2222222222222222,\"#7201a8\"],[0.3333333333333333,\"#9c179e\"],[0.4444444444444444,\"#bd3786\"],[0.5555555555555556,\"#d8576b\"],[0.6666666666666666,\"#ed7953\"],[0.7777777777777778,\"#fb9f3a\"],[0.8888888888888888,\"#fdca26\"],[1.0,\"#f0f921\"]],\"sequentialminus\":[[0.0,\"#0d0887\"],[0.1111111111111111,\"#46039f\"],[0.2222222222222222,\"#7201a8\"],[0.3333333333333333,\"#9c179e\"],[0.4444444444444444,\"#bd3786\"],[0.5555555555555556,\"#d8576b\"],[0.6666666666666666,\"#ed7953\"],[0.7777777777777778,\"#fb9f3a\"],[0.8888888888888888,\"#fdca26\"],[1.0,\"#f0f921\"]]},\"colorway\":[\"#636efa\",\"#EF553B\",\"#00cc96\",\"#ab63fa\",\"#FFA15A\",\"#19d3f3\",\"#FF6692\",\"#B6E880\",\"#FF97FF\",\"#FECB52\"],\"font\":{\"color\":\"#2a3f5f\"},\"geo\":{\"bgcolor\":\"white\",\"lakecolor\":\"white\",\"landcolor\":\"#E5ECF6\",\"showlakes\":true,\"showland\":true,\"subunitcolor\":\"white\"},\"hoverlabel\":{\"align\":\"left\"},\"hovermode\":\"closest\",\"mapbox\":{\"style\":\"light\"},\"paper_bgcolor\":\"white\",\"plot_bgcolor\":\"#E5ECF6\",\"polar\":{\"angularaxis\":{\"gridcolor\":\"white\",\"linecolor\":\"white\",\"ticks\":\"\"},\"bgcolor\":\"#E5ECF6\",\"radialaxis\":{\"gridcolor\":\"white\",\"linecolor\":\"white\",\"ticks\":\"\"}},\"scene\":{\"xaxis\":{\"backgroundcolor\":\"#E5ECF6\",\"gridcolor\":\"white\",\"gridwidth\":2,\"linecolor\":\"white\",\"showbackground\":true,\"ticks\":\"\",\"zerolinecolor\":\"white\"},\"yaxis\":{\"backgroundcolor\":\"#E5ECF6\",\"gridcolor\":\"white\",\"gridwidth\":2,\"linecolor\":\"white\",\"showbackground\":true,\"ticks\":\"\",\"zerolinecolor\":\"white\"},\"zaxis\":{\"backgroundcolor\":\"#E5ECF6\",\"gridcolor\":\"white\",\"gridwidth\":2,\"linecolor\":\"white\",\"showbackground\":true,\"ticks\":\"\",\"zerolinecolor\":\"white\"}},\"shapedefaults\":{\"line\":{\"color\":\"#2a3f5f\"}},\"ternary\":{\"aaxis\":{\"gridcolor\":\"white\",\"linecolor\":\"white\",\"ticks\":\"\"},\"baxis\":{\"gridcolor\":\"white\",\"linecolor\":\"white\",\"ticks\":\"\"},\"bgcolor\":\"#E5ECF6\",\"caxis\":{\"gridcolor\":\"white\",\"linecolor\":\"white\",\"ticks\":\"\"}},\"title\":{\"x\":0.05},\"xaxis\":{\"automargin\":true,\"gridcolor\":\"white\",\"linecolor\":\"white\",\"ticks\":\"\",\"title\":{\"standoff\":15},\"zerolinecolor\":\"white\",\"zerolinewidth\":2},\"yaxis\":{\"automargin\":true,\"gridcolor\":\"white\",\"linecolor\":\"white\",\"ticks\":\"\",\"title\":{\"standoff\":15},\"zerolinecolor\":\"white\",\"zerolinewidth\":2}}},\"xaxis\":{\"anchor\":\"y\",\"domain\":[0.0,1.0],\"title\":{\"text\":\"country\"}},\"yaxis\":{\"anchor\":\"x\",\"domain\":[0.0,1.0],\"title\":{\"text\":\"deaths\"}},\"legend\":{\"tracegroupgap\":0},\"margin\":{\"t\":60},\"barmode\":\"relative\"},                        {\"responsive\": true}                    ).then(function(){\n",
       "                            \n",
       "var gd = document.getElementById('c1bbcf1c-e74c-4912-b409-2c16a2d10a81');\n",
       "var x = new MutationObserver(function (mutations, observer) {{\n",
       "        var display = window.getComputedStyle(gd).display;\n",
       "        if (!display || display === 'none') {{\n",
       "            console.log([gd, 'removed!']);\n",
       "            Plotly.purge(gd);\n",
       "            observer.disconnect();\n",
       "        }}\n",
       "}});\n",
       "\n",
       "// Listen for the removal of the full notebook cells\n",
       "var notebookContainer = gd.closest('#notebook-container');\n",
       "if (notebookContainer) {{\n",
       "    x.observe(notebookContainer, {childList: true});\n",
       "}}\n",
       "\n",
       "// Listen for the clearing of the current output cell\n",
       "var outputEl = gd.closest('.output');\n",
       "if (outputEl) {{\n",
       "    x.observe(outputEl, {childList: true});\n",
       "}}\n",
       "\n",
       "                        })                };                });            </script>        </div>"
      ]
     },
     "metadata": {},
     "output_type": "display_data"
    }
   ],
   "source": [
    "df_females = max_avg_num_males\n",
    "fig = px.bar(df_females, x = \"country\", y = \"deaths\")\n",
    "fig.show()"
   ]
  },
  {
   "cell_type": "code",
   "execution_count": 78,
   "id": "611f3ee7",
   "metadata": {},
   "outputs": [
    {
     "data": {
      "application/vnd.plotly.v1+json": {
       "config": {
        "plotlyServerURL": "https://plot.ly"
       },
       "data": [
        {
         "alignmentgroup": "True",
         "hovertemplate": "country=%{x}<br>deaths=%{y}<extra></extra>",
         "legendgroup": "",
         "marker": {
          "color": "#636efa",
          "pattern": {
           "shape": ""
          }
         },
         "name": "",
         "offsetgroup": "",
         "orientation": "v",
         "showlegend": false,
         "textposition": "auto",
         "type": "bar",
         "x": [
          "China",
          "United States",
          "Japan",
          "United Kingdom",
          "Germany",
          "India",
          "Vietnam",
          "Russia",
          "Brazil",
          "Italy"
         ],
         "xaxis": "x",
         "y": [
          127833.33333333333,
          71996.29629629629,
          15744.444444444445,
          15055.555555555555,
          11792.592592592593,
          11420.37037037037,
          10692.962962962964,
          9593.333333333334,
          7805.555555555556,
          7582.592592592592
         ],
         "yaxis": "y"
        }
       ],
       "layout": {
        "barmode": "relative",
        "legend": {
         "tracegroupgap": 0
        },
        "margin": {
         "t": 60
        },
        "template": {
         "data": {
          "bar": [
           {
            "error_x": {
             "color": "#2a3f5f"
            },
            "error_y": {
             "color": "#2a3f5f"
            },
            "marker": {
             "line": {
              "color": "#E5ECF6",
              "width": 0.5
             },
             "pattern": {
              "fillmode": "overlay",
              "size": 10,
              "solidity": 0.2
             }
            },
            "type": "bar"
           }
          ],
          "barpolar": [
           {
            "marker": {
             "line": {
              "color": "#E5ECF6",
              "width": 0.5
             },
             "pattern": {
              "fillmode": "overlay",
              "size": 10,
              "solidity": 0.2
             }
            },
            "type": "barpolar"
           }
          ],
          "carpet": [
           {
            "aaxis": {
             "endlinecolor": "#2a3f5f",
             "gridcolor": "white",
             "linecolor": "white",
             "minorgridcolor": "white",
             "startlinecolor": "#2a3f5f"
            },
            "baxis": {
             "endlinecolor": "#2a3f5f",
             "gridcolor": "white",
             "linecolor": "white",
             "minorgridcolor": "white",
             "startlinecolor": "#2a3f5f"
            },
            "type": "carpet"
           }
          ],
          "choropleth": [
           {
            "colorbar": {
             "outlinewidth": 0,
             "ticks": ""
            },
            "type": "choropleth"
           }
          ],
          "contour": [
           {
            "colorbar": {
             "outlinewidth": 0,
             "ticks": ""
            },
            "colorscale": [
             [
              0,
              "#0d0887"
             ],
             [
              0.1111111111111111,
              "#46039f"
             ],
             [
              0.2222222222222222,
              "#7201a8"
             ],
             [
              0.3333333333333333,
              "#9c179e"
             ],
             [
              0.4444444444444444,
              "#bd3786"
             ],
             [
              0.5555555555555556,
              "#d8576b"
             ],
             [
              0.6666666666666666,
              "#ed7953"
             ],
             [
              0.7777777777777778,
              "#fb9f3a"
             ],
             [
              0.8888888888888888,
              "#fdca26"
             ],
             [
              1,
              "#f0f921"
             ]
            ],
            "type": "contour"
           }
          ],
          "contourcarpet": [
           {
            "colorbar": {
             "outlinewidth": 0,
             "ticks": ""
            },
            "type": "contourcarpet"
           }
          ],
          "heatmap": [
           {
            "colorbar": {
             "outlinewidth": 0,
             "ticks": ""
            },
            "colorscale": [
             [
              0,
              "#0d0887"
             ],
             [
              0.1111111111111111,
              "#46039f"
             ],
             [
              0.2222222222222222,
              "#7201a8"
             ],
             [
              0.3333333333333333,
              "#9c179e"
             ],
             [
              0.4444444444444444,
              "#bd3786"
             ],
             [
              0.5555555555555556,
              "#d8576b"
             ],
             [
              0.6666666666666666,
              "#ed7953"
             ],
             [
              0.7777777777777778,
              "#fb9f3a"
             ],
             [
              0.8888888888888888,
              "#fdca26"
             ],
             [
              1,
              "#f0f921"
             ]
            ],
            "type": "heatmap"
           }
          ],
          "heatmapgl": [
           {
            "colorbar": {
             "outlinewidth": 0,
             "ticks": ""
            },
            "colorscale": [
             [
              0,
              "#0d0887"
             ],
             [
              0.1111111111111111,
              "#46039f"
             ],
             [
              0.2222222222222222,
              "#7201a8"
             ],
             [
              0.3333333333333333,
              "#9c179e"
             ],
             [
              0.4444444444444444,
              "#bd3786"
             ],
             [
              0.5555555555555556,
              "#d8576b"
             ],
             [
              0.6666666666666666,
              "#ed7953"
             ],
             [
              0.7777777777777778,
              "#fb9f3a"
             ],
             [
              0.8888888888888888,
              "#fdca26"
             ],
             [
              1,
              "#f0f921"
             ]
            ],
            "type": "heatmapgl"
           }
          ],
          "histogram": [
           {
            "marker": {
             "pattern": {
              "fillmode": "overlay",
              "size": 10,
              "solidity": 0.2
             }
            },
            "type": "histogram"
           }
          ],
          "histogram2d": [
           {
            "colorbar": {
             "outlinewidth": 0,
             "ticks": ""
            },
            "colorscale": [
             [
              0,
              "#0d0887"
             ],
             [
              0.1111111111111111,
              "#46039f"
             ],
             [
              0.2222222222222222,
              "#7201a8"
             ],
             [
              0.3333333333333333,
              "#9c179e"
             ],
             [
              0.4444444444444444,
              "#bd3786"
             ],
             [
              0.5555555555555556,
              "#d8576b"
             ],
             [
              0.6666666666666666,
              "#ed7953"
             ],
             [
              0.7777777777777778,
              "#fb9f3a"
             ],
             [
              0.8888888888888888,
              "#fdca26"
             ],
             [
              1,
              "#f0f921"
             ]
            ],
            "type": "histogram2d"
           }
          ],
          "histogram2dcontour": [
           {
            "colorbar": {
             "outlinewidth": 0,
             "ticks": ""
            },
            "colorscale": [
             [
              0,
              "#0d0887"
             ],
             [
              0.1111111111111111,
              "#46039f"
             ],
             [
              0.2222222222222222,
              "#7201a8"
             ],
             [
              0.3333333333333333,
              "#9c179e"
             ],
             [
              0.4444444444444444,
              "#bd3786"
             ],
             [
              0.5555555555555556,
              "#d8576b"
             ],
             [
              0.6666666666666666,
              "#ed7953"
             ],
             [
              0.7777777777777778,
              "#fb9f3a"
             ],
             [
              0.8888888888888888,
              "#fdca26"
             ],
             [
              1,
              "#f0f921"
             ]
            ],
            "type": "histogram2dcontour"
           }
          ],
          "mesh3d": [
           {
            "colorbar": {
             "outlinewidth": 0,
             "ticks": ""
            },
            "type": "mesh3d"
           }
          ],
          "parcoords": [
           {
            "line": {
             "colorbar": {
              "outlinewidth": 0,
              "ticks": ""
             }
            },
            "type": "parcoords"
           }
          ],
          "pie": [
           {
            "automargin": true,
            "type": "pie"
           }
          ],
          "scatter": [
           {
            "marker": {
             "colorbar": {
              "outlinewidth": 0,
              "ticks": ""
             }
            },
            "type": "scatter"
           }
          ],
          "scatter3d": [
           {
            "line": {
             "colorbar": {
              "outlinewidth": 0,
              "ticks": ""
             }
            },
            "marker": {
             "colorbar": {
              "outlinewidth": 0,
              "ticks": ""
             }
            },
            "type": "scatter3d"
           }
          ],
          "scattercarpet": [
           {
            "marker": {
             "colorbar": {
              "outlinewidth": 0,
              "ticks": ""
             }
            },
            "type": "scattercarpet"
           }
          ],
          "scattergeo": [
           {
            "marker": {
             "colorbar": {
              "outlinewidth": 0,
              "ticks": ""
             }
            },
            "type": "scattergeo"
           }
          ],
          "scattergl": [
           {
            "marker": {
             "colorbar": {
              "outlinewidth": 0,
              "ticks": ""
             }
            },
            "type": "scattergl"
           }
          ],
          "scattermapbox": [
           {
            "marker": {
             "colorbar": {
              "outlinewidth": 0,
              "ticks": ""
             }
            },
            "type": "scattermapbox"
           }
          ],
          "scatterpolar": [
           {
            "marker": {
             "colorbar": {
              "outlinewidth": 0,
              "ticks": ""
             }
            },
            "type": "scatterpolar"
           }
          ],
          "scatterpolargl": [
           {
            "marker": {
             "colorbar": {
              "outlinewidth": 0,
              "ticks": ""
             }
            },
            "type": "scatterpolargl"
           }
          ],
          "scatterternary": [
           {
            "marker": {
             "colorbar": {
              "outlinewidth": 0,
              "ticks": ""
             }
            },
            "type": "scatterternary"
           }
          ],
          "surface": [
           {
            "colorbar": {
             "outlinewidth": 0,
             "ticks": ""
            },
            "colorscale": [
             [
              0,
              "#0d0887"
             ],
             [
              0.1111111111111111,
              "#46039f"
             ],
             [
              0.2222222222222222,
              "#7201a8"
             ],
             [
              0.3333333333333333,
              "#9c179e"
             ],
             [
              0.4444444444444444,
              "#bd3786"
             ],
             [
              0.5555555555555556,
              "#d8576b"
             ],
             [
              0.6666666666666666,
              "#ed7953"
             ],
             [
              0.7777777777777778,
              "#fb9f3a"
             ],
             [
              0.8888888888888888,
              "#fdca26"
             ],
             [
              1,
              "#f0f921"
             ]
            ],
            "type": "surface"
           }
          ],
          "table": [
           {
            "cells": {
             "fill": {
              "color": "#EBF0F8"
             },
             "line": {
              "color": "white"
             }
            },
            "header": {
             "fill": {
              "color": "#C8D4E3"
             },
             "line": {
              "color": "white"
             }
            },
            "type": "table"
           }
          ]
         },
         "layout": {
          "annotationdefaults": {
           "arrowcolor": "#2a3f5f",
           "arrowhead": 0,
           "arrowwidth": 1
          },
          "autotypenumbers": "strict",
          "coloraxis": {
           "colorbar": {
            "outlinewidth": 0,
            "ticks": ""
           }
          },
          "colorscale": {
           "diverging": [
            [
             0,
             "#8e0152"
            ],
            [
             0.1,
             "#c51b7d"
            ],
            [
             0.2,
             "#de77ae"
            ],
            [
             0.3,
             "#f1b6da"
            ],
            [
             0.4,
             "#fde0ef"
            ],
            [
             0.5,
             "#f7f7f7"
            ],
            [
             0.6,
             "#e6f5d0"
            ],
            [
             0.7,
             "#b8e186"
            ],
            [
             0.8,
             "#7fbc41"
            ],
            [
             0.9,
             "#4d9221"
            ],
            [
             1,
             "#276419"
            ]
           ],
           "sequential": [
            [
             0,
             "#0d0887"
            ],
            [
             0.1111111111111111,
             "#46039f"
            ],
            [
             0.2222222222222222,
             "#7201a8"
            ],
            [
             0.3333333333333333,
             "#9c179e"
            ],
            [
             0.4444444444444444,
             "#bd3786"
            ],
            [
             0.5555555555555556,
             "#d8576b"
            ],
            [
             0.6666666666666666,
             "#ed7953"
            ],
            [
             0.7777777777777778,
             "#fb9f3a"
            ],
            [
             0.8888888888888888,
             "#fdca26"
            ],
            [
             1,
             "#f0f921"
            ]
           ],
           "sequentialminus": [
            [
             0,
             "#0d0887"
            ],
            [
             0.1111111111111111,
             "#46039f"
            ],
            [
             0.2222222222222222,
             "#7201a8"
            ],
            [
             0.3333333333333333,
             "#9c179e"
            ],
            [
             0.4444444444444444,
             "#bd3786"
            ],
            [
             0.5555555555555556,
             "#d8576b"
            ],
            [
             0.6666666666666666,
             "#ed7953"
            ],
            [
             0.7777777777777778,
             "#fb9f3a"
            ],
            [
             0.8888888888888888,
             "#fdca26"
            ],
            [
             1,
             "#f0f921"
            ]
           ]
          },
          "colorway": [
           "#636efa",
           "#EF553B",
           "#00cc96",
           "#ab63fa",
           "#FFA15A",
           "#19d3f3",
           "#FF6692",
           "#B6E880",
           "#FF97FF",
           "#FECB52"
          ],
          "font": {
           "color": "#2a3f5f"
          },
          "geo": {
           "bgcolor": "white",
           "lakecolor": "white",
           "landcolor": "#E5ECF6",
           "showlakes": true,
           "showland": true,
           "subunitcolor": "white"
          },
          "hoverlabel": {
           "align": "left"
          },
          "hovermode": "closest",
          "mapbox": {
           "style": "light"
          },
          "paper_bgcolor": "white",
          "plot_bgcolor": "#E5ECF6",
          "polar": {
           "angularaxis": {
            "gridcolor": "white",
            "linecolor": "white",
            "ticks": ""
           },
           "bgcolor": "#E5ECF6",
           "radialaxis": {
            "gridcolor": "white",
            "linecolor": "white",
            "ticks": ""
           }
          },
          "scene": {
           "xaxis": {
            "backgroundcolor": "#E5ECF6",
            "gridcolor": "white",
            "gridwidth": 2,
            "linecolor": "white",
            "showbackground": true,
            "ticks": "",
            "zerolinecolor": "white"
           },
           "yaxis": {
            "backgroundcolor": "#E5ECF6",
            "gridcolor": "white",
            "gridwidth": 2,
            "linecolor": "white",
            "showbackground": true,
            "ticks": "",
            "zerolinecolor": "white"
           },
           "zaxis": {
            "backgroundcolor": "#E5ECF6",
            "gridcolor": "white",
            "gridwidth": 2,
            "linecolor": "white",
            "showbackground": true,
            "ticks": "",
            "zerolinecolor": "white"
           }
          },
          "shapedefaults": {
           "line": {
            "color": "#2a3f5f"
           }
          },
          "ternary": {
           "aaxis": {
            "gridcolor": "white",
            "linecolor": "white",
            "ticks": ""
           },
           "baxis": {
            "gridcolor": "white",
            "linecolor": "white",
            "ticks": ""
           },
           "bgcolor": "#E5ECF6",
           "caxis": {
            "gridcolor": "white",
            "linecolor": "white",
            "ticks": ""
           }
          },
          "title": {
           "x": 0.05
          },
          "xaxis": {
           "automargin": true,
           "gridcolor": "white",
           "linecolor": "white",
           "ticks": "",
           "title": {
            "standoff": 15
           },
           "zerolinecolor": "white",
           "zerolinewidth": 2
          },
          "yaxis": {
           "automargin": true,
           "gridcolor": "white",
           "linecolor": "white",
           "ticks": "",
           "title": {
            "standoff": 15
           },
           "zerolinecolor": "white",
           "zerolinewidth": 2
          }
         }
        },
        "xaxis": {
         "anchor": "y",
         "domain": [
          0,
          1
         ],
         "title": {
          "text": "country"
         }
        },
        "yaxis": {
         "anchor": "x",
         "domain": [
          0,
          1
         ],
         "title": {
          "text": "deaths"
         }
        }
       }
      },
      "text/html": [
       "<div>                            <div id=\"340cc852-84a1-4b00-a790-e8caa141e7a5\" class=\"plotly-graph-div\" style=\"height:525px; width:100%;\"></div>            <script type=\"text/javascript\">                require([\"plotly\"], function(Plotly) {                    window.PLOTLYENV=window.PLOTLYENV || {};                                    if (document.getElementById(\"340cc852-84a1-4b00-a790-e8caa141e7a5\")) {                    Plotly.newPlot(                        \"340cc852-84a1-4b00-a790-e8caa141e7a5\",                        [{\"alignmentgroup\":\"True\",\"hovertemplate\":\"country=%{x}<br>deaths=%{y}<extra></extra>\",\"legendgroup\":\"\",\"marker\":{\"color\":\"#636efa\",\"pattern\":{\"shape\":\"\"}},\"name\":\"\",\"offsetgroup\":\"\",\"orientation\":\"v\",\"showlegend\":false,\"textposition\":\"auto\",\"x\":[\"China\",\"United States\",\"Japan\",\"United Kingdom\",\"Germany\",\"India\",\"Vietnam\",\"Russia\",\"Brazil\",\"Italy\"],\"xaxis\":\"x\",\"y\":[127833.33333333333,71996.29629629629,15744.444444444445,15055.555555555555,11792.592592592593,11420.37037037037,10692.962962962964,9593.333333333334,7805.555555555556,7582.592592592592],\"yaxis\":\"y\",\"type\":\"bar\"}],                        {\"template\":{\"data\":{\"bar\":[{\"error_x\":{\"color\":\"#2a3f5f\"},\"error_y\":{\"color\":\"#2a3f5f\"},\"marker\":{\"line\":{\"color\":\"#E5ECF6\",\"width\":0.5},\"pattern\":{\"fillmode\":\"overlay\",\"size\":10,\"solidity\":0.2}},\"type\":\"bar\"}],\"barpolar\":[{\"marker\":{\"line\":{\"color\":\"#E5ECF6\",\"width\":0.5},\"pattern\":{\"fillmode\":\"overlay\",\"size\":10,\"solidity\":0.2}},\"type\":\"barpolar\"}],\"carpet\":[{\"aaxis\":{\"endlinecolor\":\"#2a3f5f\",\"gridcolor\":\"white\",\"linecolor\":\"white\",\"minorgridcolor\":\"white\",\"startlinecolor\":\"#2a3f5f\"},\"baxis\":{\"endlinecolor\":\"#2a3f5f\",\"gridcolor\":\"white\",\"linecolor\":\"white\",\"minorgridcolor\":\"white\",\"startlinecolor\":\"#2a3f5f\"},\"type\":\"carpet\"}],\"choropleth\":[{\"colorbar\":{\"outlinewidth\":0,\"ticks\":\"\"},\"type\":\"choropleth\"}],\"contour\":[{\"colorbar\":{\"outlinewidth\":0,\"ticks\":\"\"},\"colorscale\":[[0.0,\"#0d0887\"],[0.1111111111111111,\"#46039f\"],[0.2222222222222222,\"#7201a8\"],[0.3333333333333333,\"#9c179e\"],[0.4444444444444444,\"#bd3786\"],[0.5555555555555556,\"#d8576b\"],[0.6666666666666666,\"#ed7953\"],[0.7777777777777778,\"#fb9f3a\"],[0.8888888888888888,\"#fdca26\"],[1.0,\"#f0f921\"]],\"type\":\"contour\"}],\"contourcarpet\":[{\"colorbar\":{\"outlinewidth\":0,\"ticks\":\"\"},\"type\":\"contourcarpet\"}],\"heatmap\":[{\"colorbar\":{\"outlinewidth\":0,\"ticks\":\"\"},\"colorscale\":[[0.0,\"#0d0887\"],[0.1111111111111111,\"#46039f\"],[0.2222222222222222,\"#7201a8\"],[0.3333333333333333,\"#9c179e\"],[0.4444444444444444,\"#bd3786\"],[0.5555555555555556,\"#d8576b\"],[0.6666666666666666,\"#ed7953\"],[0.7777777777777778,\"#fb9f3a\"],[0.8888888888888888,\"#fdca26\"],[1.0,\"#f0f921\"]],\"type\":\"heatmap\"}],\"heatmapgl\":[{\"colorbar\":{\"outlinewidth\":0,\"ticks\":\"\"},\"colorscale\":[[0.0,\"#0d0887\"],[0.1111111111111111,\"#46039f\"],[0.2222222222222222,\"#7201a8\"],[0.3333333333333333,\"#9c179e\"],[0.4444444444444444,\"#bd3786\"],[0.5555555555555556,\"#d8576b\"],[0.6666666666666666,\"#ed7953\"],[0.7777777777777778,\"#fb9f3a\"],[0.8888888888888888,\"#fdca26\"],[1.0,\"#f0f921\"]],\"type\":\"heatmapgl\"}],\"histogram\":[{\"marker\":{\"pattern\":{\"fillmode\":\"overlay\",\"size\":10,\"solidity\":0.2}},\"type\":\"histogram\"}],\"histogram2d\":[{\"colorbar\":{\"outlinewidth\":0,\"ticks\":\"\"},\"colorscale\":[[0.0,\"#0d0887\"],[0.1111111111111111,\"#46039f\"],[0.2222222222222222,\"#7201a8\"],[0.3333333333333333,\"#9c179e\"],[0.4444444444444444,\"#bd3786\"],[0.5555555555555556,\"#d8576b\"],[0.6666666666666666,\"#ed7953\"],[0.7777777777777778,\"#fb9f3a\"],[0.8888888888888888,\"#fdca26\"],[1.0,\"#f0f921\"]],\"type\":\"histogram2d\"}],\"histogram2dcontour\":[{\"colorbar\":{\"outlinewidth\":0,\"ticks\":\"\"},\"colorscale\":[[0.0,\"#0d0887\"],[0.1111111111111111,\"#46039f\"],[0.2222222222222222,\"#7201a8\"],[0.3333333333333333,\"#9c179e\"],[0.4444444444444444,\"#bd3786\"],[0.5555555555555556,\"#d8576b\"],[0.6666666666666666,\"#ed7953\"],[0.7777777777777778,\"#fb9f3a\"],[0.8888888888888888,\"#fdca26\"],[1.0,\"#f0f921\"]],\"type\":\"histogram2dcontour\"}],\"mesh3d\":[{\"colorbar\":{\"outlinewidth\":0,\"ticks\":\"\"},\"type\":\"mesh3d\"}],\"parcoords\":[{\"line\":{\"colorbar\":{\"outlinewidth\":0,\"ticks\":\"\"}},\"type\":\"parcoords\"}],\"pie\":[{\"automargin\":true,\"type\":\"pie\"}],\"scatter\":[{\"marker\":{\"colorbar\":{\"outlinewidth\":0,\"ticks\":\"\"}},\"type\":\"scatter\"}],\"scatter3d\":[{\"line\":{\"colorbar\":{\"outlinewidth\":0,\"ticks\":\"\"}},\"marker\":{\"colorbar\":{\"outlinewidth\":0,\"ticks\":\"\"}},\"type\":\"scatter3d\"}],\"scattercarpet\":[{\"marker\":{\"colorbar\":{\"outlinewidth\":0,\"ticks\":\"\"}},\"type\":\"scattercarpet\"}],\"scattergeo\":[{\"marker\":{\"colorbar\":{\"outlinewidth\":0,\"ticks\":\"\"}},\"type\":\"scattergeo\"}],\"scattergl\":[{\"marker\":{\"colorbar\":{\"outlinewidth\":0,\"ticks\":\"\"}},\"type\":\"scattergl\"}],\"scattermapbox\":[{\"marker\":{\"colorbar\":{\"outlinewidth\":0,\"ticks\":\"\"}},\"type\":\"scattermapbox\"}],\"scatterpolar\":[{\"marker\":{\"colorbar\":{\"outlinewidth\":0,\"ticks\":\"\"}},\"type\":\"scatterpolar\"}],\"scatterpolargl\":[{\"marker\":{\"colorbar\":{\"outlinewidth\":0,\"ticks\":\"\"}},\"type\":\"scatterpolargl\"}],\"scatterternary\":[{\"marker\":{\"colorbar\":{\"outlinewidth\":0,\"ticks\":\"\"}},\"type\":\"scatterternary\"}],\"surface\":[{\"colorbar\":{\"outlinewidth\":0,\"ticks\":\"\"},\"colorscale\":[[0.0,\"#0d0887\"],[0.1111111111111111,\"#46039f\"],[0.2222222222222222,\"#7201a8\"],[0.3333333333333333,\"#9c179e\"],[0.4444444444444444,\"#bd3786\"],[0.5555555555555556,\"#d8576b\"],[0.6666666666666666,\"#ed7953\"],[0.7777777777777778,\"#fb9f3a\"],[0.8888888888888888,\"#fdca26\"],[1.0,\"#f0f921\"]],\"type\":\"surface\"}],\"table\":[{\"cells\":{\"fill\":{\"color\":\"#EBF0F8\"},\"line\":{\"color\":\"white\"}},\"header\":{\"fill\":{\"color\":\"#C8D4E3\"},\"line\":{\"color\":\"white\"}},\"type\":\"table\"}]},\"layout\":{\"annotationdefaults\":{\"arrowcolor\":\"#2a3f5f\",\"arrowhead\":0,\"arrowwidth\":1},\"autotypenumbers\":\"strict\",\"coloraxis\":{\"colorbar\":{\"outlinewidth\":0,\"ticks\":\"\"}},\"colorscale\":{\"diverging\":[[0,\"#8e0152\"],[0.1,\"#c51b7d\"],[0.2,\"#de77ae\"],[0.3,\"#f1b6da\"],[0.4,\"#fde0ef\"],[0.5,\"#f7f7f7\"],[0.6,\"#e6f5d0\"],[0.7,\"#b8e186\"],[0.8,\"#7fbc41\"],[0.9,\"#4d9221\"],[1,\"#276419\"]],\"sequential\":[[0.0,\"#0d0887\"],[0.1111111111111111,\"#46039f\"],[0.2222222222222222,\"#7201a8\"],[0.3333333333333333,\"#9c179e\"],[0.4444444444444444,\"#bd3786\"],[0.5555555555555556,\"#d8576b\"],[0.6666666666666666,\"#ed7953\"],[0.7777777777777778,\"#fb9f3a\"],[0.8888888888888888,\"#fdca26\"],[1.0,\"#f0f921\"]],\"sequentialminus\":[[0.0,\"#0d0887\"],[0.1111111111111111,\"#46039f\"],[0.2222222222222222,\"#7201a8\"],[0.3333333333333333,\"#9c179e\"],[0.4444444444444444,\"#bd3786\"],[0.5555555555555556,\"#d8576b\"],[0.6666666666666666,\"#ed7953\"],[0.7777777777777778,\"#fb9f3a\"],[0.8888888888888888,\"#fdca26\"],[1.0,\"#f0f921\"]]},\"colorway\":[\"#636efa\",\"#EF553B\",\"#00cc96\",\"#ab63fa\",\"#FFA15A\",\"#19d3f3\",\"#FF6692\",\"#B6E880\",\"#FF97FF\",\"#FECB52\"],\"font\":{\"color\":\"#2a3f5f\"},\"geo\":{\"bgcolor\":\"white\",\"lakecolor\":\"white\",\"landcolor\":\"#E5ECF6\",\"showlakes\":true,\"showland\":true,\"subunitcolor\":\"white\"},\"hoverlabel\":{\"align\":\"left\"},\"hovermode\":\"closest\",\"mapbox\":{\"style\":\"light\"},\"paper_bgcolor\":\"white\",\"plot_bgcolor\":\"#E5ECF6\",\"polar\":{\"angularaxis\":{\"gridcolor\":\"white\",\"linecolor\":\"white\",\"ticks\":\"\"},\"bgcolor\":\"#E5ECF6\",\"radialaxis\":{\"gridcolor\":\"white\",\"linecolor\":\"white\",\"ticks\":\"\"}},\"scene\":{\"xaxis\":{\"backgroundcolor\":\"#E5ECF6\",\"gridcolor\":\"white\",\"gridwidth\":2,\"linecolor\":\"white\",\"showbackground\":true,\"ticks\":\"\",\"zerolinecolor\":\"white\"},\"yaxis\":{\"backgroundcolor\":\"#E5ECF6\",\"gridcolor\":\"white\",\"gridwidth\":2,\"linecolor\":\"white\",\"showbackground\":true,\"ticks\":\"\",\"zerolinecolor\":\"white\"},\"zaxis\":{\"backgroundcolor\":\"#E5ECF6\",\"gridcolor\":\"white\",\"gridwidth\":2,\"linecolor\":\"white\",\"showbackground\":true,\"ticks\":\"\",\"zerolinecolor\":\"white\"}},\"shapedefaults\":{\"line\":{\"color\":\"#2a3f5f\"}},\"ternary\":{\"aaxis\":{\"gridcolor\":\"white\",\"linecolor\":\"white\",\"ticks\":\"\"},\"baxis\":{\"gridcolor\":\"white\",\"linecolor\":\"white\",\"ticks\":\"\"},\"bgcolor\":\"#E5ECF6\",\"caxis\":{\"gridcolor\":\"white\",\"linecolor\":\"white\",\"ticks\":\"\"}},\"title\":{\"x\":0.05},\"xaxis\":{\"automargin\":true,\"gridcolor\":\"white\",\"linecolor\":\"white\",\"ticks\":\"\",\"title\":{\"standoff\":15},\"zerolinecolor\":\"white\",\"zerolinewidth\":2},\"yaxis\":{\"automargin\":true,\"gridcolor\":\"white\",\"linecolor\":\"white\",\"ticks\":\"\",\"title\":{\"standoff\":15},\"zerolinecolor\":\"white\",\"zerolinewidth\":2}}},\"xaxis\":{\"anchor\":\"y\",\"domain\":[0.0,1.0],\"title\":{\"text\":\"country\"}},\"yaxis\":{\"anchor\":\"x\",\"domain\":[0.0,1.0],\"title\":{\"text\":\"deaths\"}},\"legend\":{\"tracegroupgap\":0},\"margin\":{\"t\":60},\"barmode\":\"relative\"},                        {\"responsive\": true}                    ).then(function(){\n",
       "                            \n",
       "var gd = document.getElementById('340cc852-84a1-4b00-a790-e8caa141e7a5');\n",
       "var x = new MutationObserver(function (mutations, observer) {{\n",
       "        var display = window.getComputedStyle(gd).display;\n",
       "        if (!display || display === 'none') {{\n",
       "            console.log([gd, 'removed!']);\n",
       "            Plotly.purge(gd);\n",
       "            observer.disconnect();\n",
       "        }}\n",
       "}});\n",
       "\n",
       "// Listen for the removal of the full notebook cells\n",
       "var notebookContainer = gd.closest('#notebook-container');\n",
       "if (notebookContainer) {{\n",
       "    x.observe(notebookContainer, {childList: true});\n",
       "}}\n",
       "\n",
       "// Listen for the clearing of the current output cell\n",
       "var outputEl = gd.closest('.output');\n",
       "if (outputEl) {{\n",
       "    x.observe(outputEl, {childList: true});\n",
       "}}\n",
       "\n",
       "                        })                };                });            </script>        </div>"
      ]
     },
     "metadata": {},
     "output_type": "display_data"
    }
   ],
   "source": [
    "#top 10 countries with highest deaths lung cancer for females\n",
    "df_females = max_avg_num_females[:10]\n",
    "fig = px.bar(df_females, x = \"country\", y = \"deaths\")\n",
    "fig.show()"
   ]
  },
  {
   "cell_type": "code",
   "execution_count": null,
   "id": "4bf5d6a1",
   "metadata": {},
   "outputs": [],
   "source": []
  },
  {
   "cell_type": "code",
   "execution_count": null,
   "id": "8bceb6e5",
   "metadata": {},
   "outputs": [],
   "source": []
  },
  {
   "cell_type": "code",
   "execution_count": null,
   "id": "748e3ced",
   "metadata": {},
   "outputs": [],
   "source": []
  },
  {
   "cell_type": "code",
   "execution_count": null,
   "id": "5edb203f",
   "metadata": {},
   "outputs": [],
   "source": []
  },
  {
   "cell_type": "code",
   "execution_count": null,
   "id": "7f14840b",
   "metadata": {},
   "outputs": [],
   "source": []
  },
  {
   "cell_type": "code",
   "execution_count": null,
   "id": "4923999b",
   "metadata": {},
   "outputs": [],
   "source": []
  },
  {
   "cell_type": "code",
   "execution_count": null,
   "id": "61ebbb68",
   "metadata": {},
   "outputs": [],
   "source": []
  },
  {
   "cell_type": "code",
   "execution_count": null,
   "id": "dff9b463",
   "metadata": {},
   "outputs": [],
   "source": []
  },
  {
   "cell_type": "code",
   "execution_count": null,
   "id": "dc3f3f27",
   "metadata": {},
   "outputs": [],
   "source": []
  },
  {
   "cell_type": "code",
   "execution_count": null,
   "id": "b436e9ac",
   "metadata": {},
   "outputs": [],
   "source": []
  },
  {
   "cell_type": "code",
   "execution_count": null,
   "id": "7142c2b2",
   "metadata": {},
   "outputs": [],
   "source": []
  },
  {
   "cell_type": "code",
   "execution_count": 56,
   "id": "a2d498fd",
   "metadata": {},
   "outputs": [
    {
     "data": {
      "text/plain": [
       "['220',\n",
       " '125',\n",
       " '95.2',\n",
       " '4.34',\n",
       " '7.21',\n",
       " '1620',\n",
       " '136',\n",
       " '1.19',\n",
       " '1.5',\n",
       " '1610',\n",
       " '802',\n",
       " '184',\n",
       " '43.4',\n",
       " '1000',\n",
       " '57',\n",
       " '83.5',\n",
       " '2350',\n",
       " '498',\n",
       " '12.8',\n",
       " '6.27',\n",
       " '268',\n",
       " '515',\n",
       " '2.61',\n",
       " '6.48',\n",
       " '166',\n",
       " '4080',\n",
       " '8.15',\n",
       " '9.5',\n",
       " '4.81',\n",
       " '25.9',\n",
       " '43.6',\n",
       " '4680',\n",
       " '560',\n",
       " '526',\n",
       " '84.1k',\n",
       " '76.1',\n",
       " '203',\n",
       " '377',\n",
       " '55.5',\n",
       " '849',\n",
       " '3.05',\n",
       " '7.16',\n",
       " '54.3',\n",
       " '888',\n",
       " '25',\n",
       " '946',\n",
       " '7670',\n",
       " '2.43',\n",
       " '2.2',\n",
       " '1190',\n",
       " '137',\n",
       " '196',\n",
       " '136',\n",
       " '541',\n",
       " '16.7',\n",
       " '1690',\n",
       " '119',\n",
       " '355',\n",
       " '413',\n",
       " '8.62',\n",
       " '3170',\n",
       " '2.4',\n",
       " '25.8',\n",
       " '13k',\n",
       " '222',\n",
       " '91.5',\n",
       " '59.7',\n",
       " '6.01',\n",
       " '14',\n",
       " '6.45',\n",
       " '883',\n",
       " '2.98',\n",
       " '14.2',\n",
       " '114',\n",
       " '5.78',\n",
       " '8.86',\n",
       " '72.5',\n",
       " '398',\n",
       " '213',\n",
       " '1460',\n",
       " '1540',\n",
       " '6380',\n",
       " '495',\n",
       " '695',\n",
       " '233',\n",
       " '38',\n",
       " '333',\n",
       " '5430',\n",
       " '67.6',\n",
       " '32.1',\n",
       " '10.2k',\n",
       " '915',\n",
       " '121',\n",
       " '121',\n",
       " '222',\n",
       " '1.39',\n",
       " '1630',\n",
       " '18.8',\n",
       " '122',\n",
       " '84',\n",
       " '15.6',\n",
       " '38.5',\n",
       " '3.9',\n",
       " '200',\n",
       " '24.1',\n",
       " '208',\n",
       " '38.3',\n",
       " '194',\n",
       " '164',\n",
       " '222',\n",
       " '63.6',\n",
       " '1.31',\n",
       " '1650',\n",
       " '0.53',\n",
       " '80.1',\n",
       " '86.6',\n",
       " '14.4',\n",
       " '1320',\n",
       " '63.5',\n",
       " '91.1',\n",
       " '1.21',\n",
       " '98.1',\n",
       " '28.5',\n",
       " '21.4',\n",
       " '54.9',\n",
       " '616',\n",
       " '12.4',\n",
       " '62.5',\n",
       " '691',\n",
       " '31',\n",
       " '1390',\n",
       " '441',\n",
       " '271',\n",
       " '436',\n",
       " '9.57',\n",
       " '806',\n",
       " '46.4',\n",
       " '537',\n",
       " '1270',\n",
       " '76.8',\n",
       " '3530',\n",
       " '172',\n",
       " '3880',\n",
       " '524',\n",
       " '70.3',\n",
       " '20.2',\n",
       " '2.69',\n",
       " '1130',\n",
       " '10.1k',\n",
       " '39.8',\n",
       " '125',\n",
       " '260',\n",
       " '70.1',\n",
       " '228',\n",
       " '5.67',\n",
       " '29.2',\n",
       " '78.4',\n",
       " '44.9',\n",
       " '705',\n",
       " '32.9',\n",
       " '1.9',\n",
       " '10.3',\n",
       " '289',\n",
       " '154',\n",
       " '968',\n",
       " '16',\n",
       " '1.71',\n",
       " '105',\n",
       " '57.6',\n",
       " '47.2',\n",
       " '3810',\n",
       " '107',\n",
       " '57.1',\n",
       " '9.86',\n",
       " '4.15',\n",
       " '23.1',\n",
       " '77.4',\n",
       " '1720',\n",
       " '1070',\n",
       " '179',\n",
       " '111',\n",
       " '4210',\n",
       " '196',\n",
       " '54.7k',\n",
       " '444',\n",
       " '2.58',\n",
       " '566',\n",
       " '6010',\n",
       " '3.06',\n",
       " '1.76',\n",
       " '142',\n",
       " '1160',\n",
       " '50.6',\n",
       " '230',\n",
       " '233',\n",
       " '128',\n",
       " '99.1',\n",
       " '4.7',\n",
       " '7.72',\n",
       " '1670',\n",
       " '134',\n",
       " '1.24',\n",
       " '1.56',\n",
       " '1670',\n",
       " '815',\n",
       " '181',\n",
       " '44.1',\n",
       " '1030',\n",
       " '58.3',\n",
       " '84.7',\n",
       " '2400',\n",
       " '511',\n",
       " '12.9',\n",
       " '6.41',\n",
       " '272',\n",
       " '539',\n",
       " '2.78',\n",
       " '6.9',\n",
       " '171',\n",
       " '4230',\n",
       " '8.52',\n",
       " '9.83',\n",
       " '4.85',\n",
       " '26.7',\n",
       " '44.6',\n",
       " '4930',\n",
       " '590',\n",
       " '534',\n",
       " '85.8k',\n",
       " '79.7',\n",
       " '206',\n",
       " '387',\n",
       " '57',\n",
       " '901',\n",
       " '3.13',\n",
       " '7.24',\n",
       " '55.4',\n",
       " '912',\n",
       " '25.9',\n",
       " '982',\n",
       " '7980',\n",
       " '2.51',\n",
       " '2.33',\n",
       " '1240',\n",
       " '145',\n",
       " '202',\n",
       " '142',\n",
       " '554',\n",
       " '17',\n",
       " '1730',\n",
       " '124',\n",
       " '364',\n",
       " '415',\n",
       " '8.78',\n",
       " '3280',\n",
       " '2.51',\n",
       " '26.5',\n",
       " '13.2k',\n",
       " '219',\n",
       " '95.4',\n",
       " '63.1',\n",
       " '6.18',\n",
       " '14.2',\n",
       " '6.53',\n",
       " '910',\n",
       " '3.04',\n",
       " '14.6',\n",
       " '121',\n",
       " '6.02',\n",
       " '9.45',\n",
       " '75.8',\n",
       " '402',\n",
       " '216',\n",
       " '1540',\n",
       " '1600',\n",
       " '6570',\n",
       " '505',\n",
       " '734',\n",
       " '240',\n",
       " '40.4',\n",
       " '348',\n",
       " '5580',\n",
       " '69.8',\n",
       " '33.7',\n",
       " '10.7k',\n",
       " '910',\n",
       " '126',\n",
       " '121',\n",
       " '233',\n",
       " '1.43',\n",
       " '1790',\n",
       " '17.5',\n",
       " '126',\n",
       " '85.6',\n",
       " '14.9',\n",
       " '40',\n",
       " '4.09',\n",
       " '207',\n",
       " '24.6',\n",
       " '215',\n",
       " '39.2',\n",
       " '191',\n",
       " '172',\n",
       " '226',\n",
       " '65.1',\n",
       " '1.35',\n",
       " '1690',\n",
       " '0.56',\n",
       " '80.2',\n",
       " '84.8',\n",
       " '14.7',\n",
       " '1350',\n",
       " '64.5',\n",
       " '95.6',\n",
       " '1.28',\n",
       " '101',\n",
       " '29.1',\n",
       " '21.9',\n",
       " '57',\n",
       " '623',\n",
       " '12.7',\n",
       " '64.6',\n",
       " '693',\n",
       " '32',\n",
       " '1470',\n",
       " '463',\n",
       " '277',\n",
       " '456',\n",
       " '9.86',\n",
       " '855',\n",
       " '48.2',\n",
       " '570',\n",
       " '1340',\n",
       " '80.3',\n",
       " '3720',\n",
       " '178',\n",
       " '4030',\n",
       " '539',\n",
       " '73.5',\n",
       " '20.9',\n",
       " '2.83',\n",
       " '1150',\n",
       " '10.1k',\n",
       " '39.8',\n",
       " '130',\n",
       " '269',\n",
       " '71.8',\n",
       " '231',\n",
       " '5.93',\n",
       " '29.1',\n",
       " '80.9',\n",
       " '44.9',\n",
       " '730',\n",
       " '32.8',\n",
       " '1.96',\n",
       " '10.8',\n",
       " '294',\n",
       " '161',\n",
       " '994',\n",
       " '16.2',\n",
       " '1.76',\n",
       " '109',\n",
       " '57.6',\n",
       " '48.2',\n",
       " '4000',\n",
       " '98.8',\n",
       " '57.2',\n",
       " '10.5',\n",
       " '4.44',\n",
       " '24.8',\n",
       " '80.6',\n",
       " '1790',\n",
       " '1160',\n",
       " '186',\n",
       " '119',\n",
       " '4310',\n",
       " '206',\n",
       " '56.6k',\n",
       " '443',\n",
       " '2.68',\n",
       " '591',\n",
       " '6210',\n",
       " '3.22',\n",
       " '1.8',\n",
       " '149',\n",
       " '1170',\n",
       " '53.2',\n",
       " '224',\n",
       " '250',\n",
       " '132',\n",
       " '102',\n",
       " '5.01',\n",
       " '8.3',\n",
       " '1720',\n",
       " '142',\n",
       " '1.29',\n",
       " '1.6',\n",
       " '1740',\n",
       " '826',\n",
       " '178',\n",
       " '44.8',\n",
       " '1060',\n",
       " '60',\n",
       " '86.8',\n",
       " '2500',\n",
       " '512',\n",
       " '13.1',\n",
       " '6.57',\n",
       " '271',\n",
       " '553',\n",
       " '2.97',\n",
       " '7.21',\n",
       " '177',\n",
       " '4450',\n",
       " '8.79',\n",
       " '10.2',\n",
       " '4.85',\n",
       " '27.6',\n",
       " '45.2',\n",
       " '5190',\n",
       " '629',\n",
       " '549',\n",
       " '87.8k',\n",
       " '83.3',\n",
       " '209',\n",
       " '395',\n",
       " '58.8',\n",
       " '942',\n",
       " '3.23',\n",
       " '7.38',\n",
       " '57.4',\n",
       " '937',\n",
       " '26.8',\n",
       " '1010',\n",
       " '8240',\n",
       " '2.57',\n",
       " '2.42',\n",
       " '1290',\n",
       " '154',\n",
       " '201',\n",
       " '150',\n",
       " '570',\n",
       " '17.1',\n",
       " '1750',\n",
       " '123',\n",
       " '374',\n",
       " '421',\n",
       " '8.93',\n",
       " '3370',\n",
       " '2.61',\n",
       " '27.1',\n",
       " '13.4k',\n",
       " '206',\n",
       " '99.8',\n",
       " '67',\n",
       " '6.36',\n",
       " '14.5',\n",
       " '6.64',\n",
       " '939',\n",
       " '3.08',\n",
       " '14.8',\n",
       " '129',\n",
       " '6.29',\n",
       " '9.77',\n",
       " '79.5',\n",
       " '409',\n",
       " '218',\n",
       " '1620',\n",
       " '1660',\n",
       " '6800',\n",
       " '525',\n",
       " '770',\n",
       " '247',\n",
       " '42.5',\n",
       " '369',\n",
       " '5730',\n",
       " '71.3',\n",
       " '35.4',\n",
       " '11.2k',\n",
       " '909',\n",
       " '133',\n",
       " '121',\n",
       " '246',\n",
       " '1.46',\n",
       " '1970',\n",
       " '16.6',\n",
       " '131',\n",
       " '88.2',\n",
       " '14.2',\n",
       " '41.7',\n",
       " '4.29',\n",
       " '215',\n",
       " '25.3',\n",
       " '209',\n",
       " '40',\n",
       " '190',\n",
       " '180',\n",
       " '205',\n",
       " '67',\n",
       " '1.39',\n",
       " '1750',\n",
       " '0.58',\n",
       " '80.9',\n",
       " '83.4',\n",
       " '15.4',\n",
       " '1380',\n",
       " '65.5',\n",
       " '100',\n",
       " '1.35',\n",
       " '104',\n",
       " '29.7',\n",
       " '21.8',\n",
       " '58.7',\n",
       " '631',\n",
       " '13.1',\n",
       " '67.3',\n",
       " '697',\n",
       " '33.1',\n",
       " '1580',\n",
       " '484',\n",
       " '283',\n",
       " '471',\n",
       " '10.1',\n",
       " '912',\n",
       " '50.2',\n",
       " '610',\n",
       " '1410',\n",
       " '84',\n",
       " '3800',\n",
       " '184',\n",
       " '4170',\n",
       " '548',\n",
       " '76.5',\n",
       " '21.8',\n",
       " '2.95',\n",
       " '1180',\n",
       " '10.4k',\n",
       " '38.3',\n",
       " '136',\n",
       " '280',\n",
       " '73.6',\n",
       " '237',\n",
       " '6.23',\n",
       " '28.7',\n",
       " '83.3',\n",
       " '44.7',\n",
       " '758',\n",
       " '33.1',\n",
       " '2.02',\n",
       " '11.4',\n",
       " '297',\n",
       " '166',\n",
       " '1010',\n",
       " '16.3',\n",
       " '1.81',\n",
       " '113',\n",
       " '59.3',\n",
       " '49',\n",
       " '4190',\n",
       " '90.2',\n",
       " '58.6',\n",
       " '11.1',\n",
       " '4.62',\n",
       " '25.7',\n",
       " '84.4',\n",
       " '1830',\n",
       " '1250',\n",
       " '193',\n",
       " '125',\n",
       " '4310',\n",
       " '208',\n",
       " '58.8k',\n",
       " '446',\n",
       " '2.8',\n",
       " '612',\n",
       " '6430',\n",
       " '3.38',\n",
       " '1.85',\n",
       " '156',\n",
       " '1200',\n",
       " '55.8',\n",
       " '211',\n",
       " '270',\n",
       " '138',\n",
       " '106',\n",
       " '5.35',\n",
       " '8.91',\n",
       " '1780',\n",
       " '138',\n",
       " '1.35',\n",
       " '1.58',\n",
       " '1800',\n",
       " '840',\n",
       " '176',\n",
       " '45.5',\n",
       " '1070',\n",
       " '61.6',\n",
       " '88.4',\n",
       " '2590',\n",
       " '515',\n",
       " '13.3',\n",
       " '6.71',\n",
       " '267',\n",
       " '570',\n",
       " '3.11',\n",
       " '7.25',\n",
       " '183',\n",
       " '4640',\n",
       " '8.56',\n",
       " '10.4',\n",
       " '4.83',\n",
       " '28.5',\n",
       " '47.2',\n",
       " '5490',\n",
       " '667',\n",
       " '581',\n",
       " '90.8k',\n",
       " '88.5',\n",
       " '212',\n",
       " '400',\n",
       " '61.3',\n",
       " '978',\n",
       " '3.33',\n",
       " '7.57',\n",
       " '59.6',\n",
       " '946',\n",
       " '27.6',\n",
       " '1040',\n",
       " '8560',\n",
       " '2.64',\n",
       " '2.38',\n",
       " '1360',\n",
       " '164',\n",
       " '202',\n",
       " '165',\n",
       " '591',\n",
       " '17.2',\n",
       " '1790',\n",
       " '128',\n",
       " '388',\n",
       " '426',\n",
       " '9.08',\n",
       " '3530',\n",
       " '2.72',\n",
       " '27.6',\n",
       " '13.6k',\n",
       " '190',\n",
       " '104',\n",
       " '71.2',\n",
       " '6.54',\n",
       " '14.8',\n",
       " '6.83',\n",
       " '960',\n",
       " '2.99',\n",
       " '15',\n",
       " '137',\n",
       " '6.54',\n",
       " '9.8',\n",
       " '82.8',\n",
       " '408',\n",
       " '222',\n",
       " '1700',\n",
       " '1740',\n",
       " '7010',\n",
       " '535',\n",
       " '809',\n",
       " '256',\n",
       " '44.1',\n",
       " '391',\n",
       " '5860',\n",
       " '72.9',\n",
       " '37.7',\n",
       " '11.6k',\n",
       " '910',\n",
       " '139',\n",
       " '120',\n",
       " '260',\n",
       " '1.5',\n",
       " '2180',\n",
       " '17.2',\n",
       " '137',\n",
       " '91.1',\n",
       " '13.6',\n",
       " '43.6',\n",
       " '4.14',\n",
       " '224',\n",
       " '26',\n",
       " '221',\n",
       " '40.8',\n",
       " '197',\n",
       " '189',\n",
       " '211',\n",
       " '69.5',\n",
       " '1.43',\n",
       " '1810',\n",
       " '0.6',\n",
       " '83.1',\n",
       " '81.4',\n",
       " '15.8',\n",
       " '1420',\n",
       " '66.4',\n",
       " '105',\n",
       " '1.43',\n",
       " '108',\n",
       " '30.3',\n",
       " '22.5',\n",
       " '60.3',\n",
       " '642',\n",
       " '13.4',\n",
       " '69.7',\n",
       " '701',\n",
       " '34.3',\n",
       " '1710',\n",
       " '512',\n",
       " '293',\n",
       " '483',\n",
       " '10.4',\n",
       " '970',\n",
       " '52.2',\n",
       " '652',\n",
       " '1470',\n",
       " '88',\n",
       " '3910',\n",
       " '188',\n",
       " '4300',\n",
       " '567',\n",
       " '79.7',\n",
       " '22.7',\n",
       " '3.09',\n",
       " '1240',\n",
       " '11.3k',\n",
       " '36.7',\n",
       " '143',\n",
       " '291',\n",
       " '74.8',\n",
       " '247',\n",
       " '6.55',\n",
       " '28.1',\n",
       " '87.6',\n",
       " '44.5',\n",
       " '785',\n",
       " '33.4',\n",
       " '2.09',\n",
       " '11.8',\n",
       " '298',\n",
       " '170',\n",
       " '1030',\n",
       " '16.2',\n",
       " '1.87',\n",
       " '118',\n",
       " '61',\n",
       " '49.7',\n",
       " '4350',\n",
       " '80.7',\n",
       " '60.1',\n",
       " '11.8',\n",
       " '4.77',\n",
       " '26.1',\n",
       " '88.6',\n",
       " '1910',\n",
       " '1350',\n",
       " '201',\n",
       " '132',\n",
       " '4320',\n",
       " '212',\n",
       " '61.1k',\n",
       " '444',\n",
       " '2.91',\n",
       " '621',\n",
       " '6680',\n",
       " '3.54',\n",
       " '1.89',\n",
       " '163',\n",
       " '1210',\n",
       " '58.2',\n",
       " '201',\n",
       " '289',\n",
       " '146',\n",
       " '112',\n",
       " '5.59',\n",
       " '9.6',\n",
       " '1840',\n",
       " '132',\n",
       " '1.4',\n",
       " '1.61',\n",
       " '1880',\n",
       " '855',\n",
       " '174',\n",
       " '46.2',\n",
       " '1090',\n",
       " '63.6',\n",
       " '90.2',\n",
       " '2680',\n",
       " '525',\n",
       " '13.6',\n",
       " '6.89',\n",
       " '265',\n",
       " '562',\n",
       " '3.29',\n",
       " '7.25',\n",
       " '190',\n",
       " '4890',\n",
       " '8.44',\n",
       " '10.7',\n",
       " '4.81',\n",
       " '29.6',\n",
       " '48.5',\n",
       " '5750',\n",
       " '704',\n",
       " '607',\n",
       " '93.6k',\n",
       " '93.1',\n",
       " '216',\n",
       " '406',\n",
       " '66.1',\n",
       " '1010',\n",
       " '3.43',\n",
       " '7.9',\n",
       " '60.6',\n",
       " '955',\n",
       " '29',\n",
       " '1080',\n",
       " '8950',\n",
       " '2.7',\n",
       " '2.4',\n",
       " '1430',\n",
       " '175',\n",
       " '203',\n",
       " '182',\n",
       " '611',\n",
       " '17.5',\n",
       " '1820',\n",
       " '130',\n",
       " '405',\n",
       " '431',\n",
       " '9.24',\n",
       " '3630',\n",
       " '2.83',\n",
       " '28.7',\n",
       " '13.7k',\n",
       " '170',\n",
       " '108',\n",
       " '75.8',\n",
       " '6.74',\n",
       " '15.1',\n",
       " '7.04',\n",
       " '985',\n",
       " '2.97',\n",
       " '15.2',\n",
       " '141',\n",
       " '6.84',\n",
       " '10.2',\n",
       " '86.3',\n",
       " '418',\n",
       " '225',\n",
       " '1770',\n",
       " '1800',\n",
       " '7250',\n",
       " '553',\n",
       " '848',\n",
       " '265',\n",
       " '46.6',\n",
       " '409',\n",
       " '5990',\n",
       " '75',\n",
       " '39.9',\n",
       " '12.1k',\n",
       " '915',\n",
       " '147',\n",
       " '121',\n",
       " '275',\n",
       " '1.54',\n",
       " '2430',\n",
       " '15.2',\n",
       " '142',\n",
       " '93.3',\n",
       " '13.3',\n",
       " '45.5',\n",
       " '4.14',\n",
       " '234',\n",
       " '26.9',\n",
       " '224',\n",
       " '41.9',\n",
       " '201',\n",
       " '199',\n",
       " '219',\n",
       " '71.4',\n",
       " '1.48',\n",
       " '1880',\n",
       " '0.63',\n",
       " '86.4',\n",
       " '80.1',\n",
       " '15.9',\n",
       " '1450',\n",
       " '67.5',\n",
       " '109',\n",
       " '1.51',\n",
       " '112',\n",
       " '31.1',\n",
       " '23.3',\n",
       " '62.2',\n",
       " '659',\n",
       " '13.7',\n",
       " '72.5',\n",
       " '704',\n",
       " '36.1',\n",
       " '1800',\n",
       " '537',\n",
       " '301',\n",
       " '503',\n",
       " '10.6',\n",
       " '1030',\n",
       " '54.4',\n",
       " '694',\n",
       " '1520',\n",
       " '92.3',\n",
       " '4060',\n",
       " '198',\n",
       " '4440',\n",
       " '575',\n",
       " '82.9',\n",
       " '23.7',\n",
       " '3.23',\n",
       " '1280',\n",
       " '11.7k',\n",
       " '35.4',\n",
       " '150',\n",
       " '303',\n",
       " '77.3',\n",
       " '255',\n",
       " '6.91',\n",
       " '27.5',\n",
       " '91.8',\n",
       " '44.5',\n",
       " '816',\n",
       " '33.9',\n",
       " '2.16',\n",
       " '12.2',\n",
       " '299',\n",
       " '174',\n",
       " '1050',\n",
       " '16.1',\n",
       " '1.93',\n",
       " '124',\n",
       " '61.4',\n",
       " '50.7',\n",
       " '4530',\n",
       " '73.7',\n",
       " '59.9',\n",
       " '12.5',\n",
       " '4.94',\n",
       " '26.2',\n",
       " '92.5',\n",
       " '1970',\n",
       " '1450',\n",
       " '210',\n",
       " '141',\n",
       " '4290',\n",
       " '213',\n",
       " '63.3k',\n",
       " '439',\n",
       " '3.02',\n",
       " '660',\n",
       " '6930',\n",
       " '3.7',\n",
       " '1.93',\n",
       " '171',\n",
       " '1230',\n",
       " '61',\n",
       " '192',\n",
       " '308',\n",
       " '151',\n",
       " '118',\n",
       " '5.53',\n",
       " '10.4',\n",
       " '1910',\n",
       " '130',\n",
       " '1.46',\n",
       " '1.71',\n",
       " '1950',\n",
       " '868',\n",
       " '170',\n",
       " '46.9',\n",
       " '1110',\n",
       " '66',\n",
       " '92.1',\n",
       " '2820',\n",
       " '542',\n",
       " '14.1',\n",
       " '7.42',\n",
       " '265',\n",
       " '567',\n",
       " '3.48',\n",
       " '7.51',\n",
       " '197',\n",
       " '5170',\n",
       " '8.84',\n",
       " '11.1',\n",
       " '4.81',\n",
       " '30.8',\n",
       " ...]"
      ]
     },
     "execution_count": 56,
     "metadata": {},
     "output_type": "execute_result"
    }
   ],
   "source": [
    "female_cs_melt = _indicator_melt(female_lungs, 'deaths')\n",
    "\n",
    "deaths_uncleaned = list(female_cs_melt.get(\"deaths\").dropna())\n",
    "#deaths_uncleaned = [x for x in deaths_uncleaned if np.isnan(x) == False]\n",
    "\n",
    "\n",
    "# def fix_nums(lst):\n",
    "#     output = []\n",
    "#     for num in lst:\n",
    "#         if n.isnull(): \n",
    "#             if \"k\" in num:\n",
    "#                 death = num.strip(\"k\")\n",
    "#                 death = float(death) * 1000\n",
    "#             else: \n",
    "#                 death = float(num)\n",
    "#         output.append(num)\n",
    "#     return output\n",
    "\n",
    "# all(isinstance(x, str) for x in deaths_uncleaned)\n",
    "# fix_nums(deaths_uncleaned)\n",
    "deaths_uncleaned\n",
    "\n",
    "# female_cs_melt.assign(deaths = female_cs_melt.get('deaths').apply(float), year = female_cs_melt.get('year').apply(float))\n",
    "    \n",
    "# female_cs_melt"
   ]
  },
  {
   "cell_type": "code",
   "execution_count": 57,
   "id": "a1de5861",
   "metadata": {},
   "outputs": [
    {
     "data": {
      "text/plain": [
       "196"
      ]
     },
     "execution_count": 57,
     "metadata": {},
     "output_type": "execute_result"
    }
   ],
   "source": [
    "#number of countries in this list\n",
    "len(np.unique(female_cs_melt.get(\"country\")))"
   ]
  },
  {
   "cell_type": "code",
   "execution_count": 58,
   "id": "c21d019b",
   "metadata": {},
   "outputs": [
    {
     "data": {
      "text/plain": [
       "str"
      ]
     },
     "execution_count": 58,
     "metadata": {},
     "output_type": "execute_result"
    }
   ],
   "source": [
    "check = list(female_cs_melt.get(\"deaths\"))[0]\n",
    "type(check)"
   ]
  },
  {
   "cell_type": "code",
   "execution_count": 59,
   "id": "4ae18699",
   "metadata": {},
   "outputs": [
    {
     "name": "stderr",
     "output_type": "stream",
     "text": [
      "/Users/linabattikha/opt/anaconda3/lib/python3.9/site-packages/IPython/core/interactiveshell.py:3444: FutureWarning:\n",
      "\n",
      "Dropping invalid columns in DataFrameGroupBy.mean is deprecated. In a future version, a TypeError will be raised. Before calling .mean, select only columns which should be valid for the function.\n",
      "\n"
     ]
    },
    {
     "data": {
      "text/html": [
       "<div>\n",
       "<style scoped>\n",
       "    .dataframe tbody tr th:only-of-type {\n",
       "        vertical-align: middle;\n",
       "    }\n",
       "\n",
       "    .dataframe tbody tr th {\n",
       "        vertical-align: top;\n",
       "    }\n",
       "\n",
       "    .dataframe thead th {\n",
       "        text-align: right;\n",
       "    }\n",
       "</style>\n",
       "<table border=\"1\" class=\"dataframe\">\n",
       "  <thead>\n",
       "    <tr style=\"text-align: right;\">\n",
       "      <th></th>\n",
       "    </tr>\n",
       "    <tr>\n",
       "      <th>country</th>\n",
       "    </tr>\n",
       "  </thead>\n",
       "  <tbody>\n",
       "    <tr>\n",
       "      <th>Afghanistan</th>\n",
       "    </tr>\n",
       "    <tr>\n",
       "      <th>Albania</th>\n",
       "    </tr>\n",
       "    <tr>\n",
       "      <th>Algeria</th>\n",
       "    </tr>\n",
       "    <tr>\n",
       "      <th>American Samoa</th>\n",
       "    </tr>\n",
       "    <tr>\n",
       "      <th>Andorra</th>\n",
       "    </tr>\n",
       "    <tr>\n",
       "      <th>...</th>\n",
       "    </tr>\n",
       "    <tr>\n",
       "      <th>Venezuela</th>\n",
       "    </tr>\n",
       "    <tr>\n",
       "      <th>Vietnam</th>\n",
       "    </tr>\n",
       "    <tr>\n",
       "      <th>Yemen</th>\n",
       "    </tr>\n",
       "    <tr>\n",
       "      <th>Zambia</th>\n",
       "    </tr>\n",
       "    <tr>\n",
       "      <th>Zimbabwe</th>\n",
       "    </tr>\n",
       "  </tbody>\n",
       "</table>\n",
       "<p>196 rows × 0 columns</p>\n",
       "</div>"
      ],
      "text/plain": [
       "Empty DataFrame\n",
       "Columns: []\n",
       "Index: [Afghanistan, Albania, Algeria, American Samoa, Andorra, Angola, Antigua and Barbuda, Argentina, Armenia, Australia, Austria, Azerbaijan, Bahamas, Bahrain, Bangladesh, Barbados, Belarus, Belgium, Belize, Benin, Bermuda, Bhutan, Bolivia, Bosnia and Herzegovina, Botswana, Brazil, Brunei, Bulgaria, Burkina Faso, Burundi, Cambodia, Cameroon, Canada, Cape Verde, Central African Republic, Chad, Chile, China, Colombia, Comoros, Congo, Dem. Rep., Congo, Rep., Costa Rica, Cote d'Ivoire, Croatia, Cuba, Cyprus, Czech Republic, Denmark, Djibouti, Dominica, Dominican Republic, Ecuador, Egypt, El Salvador, Equatorial Guinea, Eritrea, Estonia, Eswatini, Ethiopia, Fiji, Finland, France, French Polynesia, Gabon, Gambia, Georgia, Germany, Ghana, Greece, Greenland, Grenada, Guam, Guatemala, Guinea, Guinea-Bissau, Guyana, Haiti, Honduras, Hungary, Iceland, India, Indonesia, Iran, Iraq, Ireland, Israel, Italy, Jamaica, Japan, Jordan, Kazakhstan, Kenya, Kiribati, Kuwait, Kyrgyz Republic, Lao, Latvia, Lebanon, Lesotho, ...]\n",
       "\n",
       "[196 rows x 0 columns]"
      ]
     },
     "execution_count": 59,
     "metadata": {},
     "output_type": "execute_result"
    }
   ],
   "source": [
    "female_cs_melt.get([\"country\", \"deaths\"]).groupby(\"country\").mean()\n",
    "#why is this not working...it should work"
   ]
  },
  {
   "cell_type": "code",
   "execution_count": 60,
   "id": "5242b91a",
   "metadata": {},
   "outputs": [
    {
     "data": {
      "text/plain": [
       "country\n",
       "Albania    1.746217e+79\n",
       "dtype: float64"
      ]
     },
     "execution_count": 60,
     "metadata": {},
     "output_type": "execute_result"
    }
   ],
   "source": [
    "test_Angola = males_cs.loc[\"Angola\":\"Angola\"]\n",
    "test_Angola.mean(axis=1)\n",
    "test_Albania = males_cs.loc[\"Albania\":\"Albania\"]\n",
    "test_Albania.mean(axis = 1)\n",
    "\n"
   ]
  },
  {
   "cell_type": "code",
   "execution_count": 61,
   "id": "1f1f7f92",
   "metadata": {},
   "outputs": [],
   "source": [
    "df_averages = pd.DataFrame()\n",
    "def averages(lst): \n",
    "    for arg in lst:\n",
    "        df_temp = males_cs.loc[arg:arg]\n",
    "        average = df_temp.mean(axis = 1)\n",
    "        df_averages.append({\"Country\":arg}, ignore_index=True)\n",
    "        df_averages.append({\"Country\":arg, \"Average\":average}, ignore_index=True)"
   ]
  },
  {
   "cell_type": "code",
   "execution_count": null,
   "id": "23b50c60",
   "metadata": {},
   "outputs": [],
   "source": [
    "#averages(males_cs.index)"
   ]
  },
  {
   "cell_type": "code",
   "execution_count": null,
   "id": "9f1f44f7",
   "metadata": {},
   "outputs": [],
   "source": [
    "#what to do -take average of each year for all the countries and plot that"
   ]
  },
  {
   "cell_type": "code",
   "execution_count": null,
   "id": "b3b4bbf9",
   "metadata": {},
   "outputs": [],
   "source": [
    "#how to reshape the dataframe pivot longer\n",
    "#https://mgimond.github.io/ES218/Week03b.html -- R\n",
    "#https://towardsdatascience.com/a-step-by-step-guide-to-pandas-pivot-tables-e0641d0c6c70\n",
    "#https://medium.datadriveninvestor.com/dataframe-converting-some-columns-to-rows-and-some-rows-to-columns-ffa77e206611"
   ]
  },
  {
   "cell_type": "code",
   "execution_count": null,
   "id": "19e3622b",
   "metadata": {},
   "outputs": [],
   "source": []
  }
 ],
 "metadata": {
  "kernelspec": {
   "display_name": "Python 3 (ipykernel)",
   "language": "python",
   "name": "python3"
  },
  "language_info": {
   "codemirror_mode": {
    "name": "ipython",
    "version": 3
   },
   "file_extension": ".py",
   "mimetype": "text/x-python",
   "name": "python",
   "nbconvert_exporter": "python",
   "pygments_lexer": "ipython3",
   "version": "3.9.7"
  }
 },
 "nbformat": 4,
 "nbformat_minor": 5
}
