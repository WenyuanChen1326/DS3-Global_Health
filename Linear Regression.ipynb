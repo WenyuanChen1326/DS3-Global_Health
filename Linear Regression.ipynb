{
 "cells": [
  {
   "cell_type": "code",
   "execution_count": 1,
   "metadata": {},
   "outputs": [],
   "source": [
    "from sklearn.linear_model import LinearRegression\n",
    "from sklearn.preprocessing import OneHotEncoder\n",
    "import pandas as pd\n",
    "import numpy as np"
   ]
  },
  {
   "cell_type": "code",
   "execution_count": 2,
   "metadata": {},
   "outputs": [],
   "source": [
    "country_gender_data = pd.read_csv(\"LifeExp_vs_Year.csv\").drop(['Unnamed: 0', 'Country Name'],axis = 1)\n",
    "bmi = pd.read_csv('females_males_just_BMI.csv').drop('Unnamed: 0',axis = 1)\n"
   ]
  },
  {
   "cell_type": "code",
   "execution_count": 3,
   "metadata": {},
   "outputs": [],
   "source": [
    "bmi_male = bmi[['country','year', 'BMI_male']].rename(columns = {'BMI_male': 'BMI'})\n",
    "bmi_male['Gender'] = 'Population, male'\n",
    "bmi_male\n",
    "bmi_female = bmi[['country','year', 'BMI_females']].rename(columns = {'BMI_females': 'BMI'})\n",
    "bmi_female['Gender'] = 'Population, female'\n",
    "bmi_female\n",
    "final_bmi = pd.concat([bmi_male, bmi_female], ignore_index=True)\n",
    "final_bmi = final_bmi.groupby(['country','Gender'])\\\n",
    "[['BMI']].mean().reset_index()"
   ]
  },
  {
   "cell_type": "code",
   "execution_count": 4,
   "metadata": {},
   "outputs": [],
   "source": [
    "country_gender_data = country_gender_data.rename(columns = {'Indicator Name': 'Gender'})"
   ]
  },
  {
   "cell_type": "code",
   "execution_count": 5,
   "metadata": {},
   "outputs": [],
   "source": [
    "country_gender_data = country_gender_data.groupby(['country','Gender'])\\\n",
    "[['LifeExpectancy']].mean().reset_index()"
   ]
  },
  {
   "cell_type": "code",
   "execution_count": 6,
   "metadata": {},
   "outputs": [],
   "source": [
    "temp = final_bmi.merge(country_gender_data, on = ['country', 'Gender'])"
   ]
  },
  {
   "cell_type": "code",
   "execution_count": 7,
   "metadata": {},
   "outputs": [
    {
     "data": {
      "text/html": [
       "<div>\n",
       "<style scoped>\n",
       "    .dataframe tbody tr th:only-of-type {\n",
       "        vertical-align: middle;\n",
       "    }\n",
       "\n",
       "    .dataframe tbody tr th {\n",
       "        vertical-align: top;\n",
       "    }\n",
       "\n",
       "    .dataframe thead th {\n",
       "        text-align: right;\n",
       "    }\n",
       "</style>\n",
       "<table border=\"1\" class=\"dataframe\">\n",
       "  <thead>\n",
       "    <tr style=\"text-align: right;\">\n",
       "      <th></th>\n",
       "      <th>country</th>\n",
       "      <th>Gender</th>\n",
       "      <th>BMI</th>\n",
       "      <th>LifeExpectancy</th>\n",
       "    </tr>\n",
       "  </thead>\n",
       "  <tbody>\n",
       "    <tr>\n",
       "      <th>0</th>\n",
       "      <td>Afghanistan</td>\n",
       "      <td>Population, female</td>\n",
       "      <td>20.668966</td>\n",
       "      <td>51.168852</td>\n",
       "    </tr>\n",
       "    <tr>\n",
       "      <th>1</th>\n",
       "      <td>Afghanistan</td>\n",
       "      <td>Population, male</td>\n",
       "      <td>21.013793</td>\n",
       "      <td>48.931148</td>\n",
       "    </tr>\n",
       "    <tr>\n",
       "      <th>2</th>\n",
       "      <td>Albania</td>\n",
       "      <td>Population, female</td>\n",
       "      <td>25.189655</td>\n",
       "      <td>74.334426</td>\n",
       "    </tr>\n",
       "    <tr>\n",
       "      <th>3</th>\n",
       "      <td>Albania</td>\n",
       "      <td>Population, male</td>\n",
       "      <td>25.510345</td>\n",
       "      <td>69.998361</td>\n",
       "    </tr>\n",
       "    <tr>\n",
       "      <th>4</th>\n",
       "      <td>Algeria</td>\n",
       "      <td>Population, female</td>\n",
       "      <td>25.003448</td>\n",
       "      <td>65.501639</td>\n",
       "    </tr>\n",
       "    <tr>\n",
       "      <th>...</th>\n",
       "      <td>...</td>\n",
       "      <td>...</td>\n",
       "      <td>...</td>\n",
       "      <td>...</td>\n",
       "    </tr>\n",
       "    <tr>\n",
       "      <th>335</th>\n",
       "      <td>Vietnam</td>\n",
       "      <td>Population, male</td>\n",
       "      <td>19.744828</td>\n",
       "      <td>64.721311</td>\n",
       "    </tr>\n",
       "    <tr>\n",
       "      <th>336</th>\n",
       "      <td>Zambia</td>\n",
       "      <td>Population, female</td>\n",
       "      <td>22.058621</td>\n",
       "      <td>53.418033</td>\n",
       "    </tr>\n",
       "    <tr>\n",
       "      <th>337</th>\n",
       "      <td>Zambia</td>\n",
       "      <td>Population, male</td>\n",
       "      <td>20.075862</td>\n",
       "      <td>49.803279</td>\n",
       "    </tr>\n",
       "    <tr>\n",
       "      <th>338</th>\n",
       "      <td>Zimbabwe</td>\n",
       "      <td>Population, female</td>\n",
       "      <td>24.868966</td>\n",
       "      <td>56.801639</td>\n",
       "    </tr>\n",
       "    <tr>\n",
       "      <th>339</th>\n",
       "      <td>Zimbabwe</td>\n",
       "      <td>Population, male</td>\n",
       "      <td>21.665517</td>\n",
       "      <td>52.832787</td>\n",
       "    </tr>\n",
       "  </tbody>\n",
       "</table>\n",
       "<p>340 rows × 4 columns</p>\n",
       "</div>"
      ],
      "text/plain": [
       "         country              Gender        BMI  LifeExpectancy\n",
       "0    Afghanistan  Population, female  20.668966       51.168852\n",
       "1    Afghanistan    Population, male  21.013793       48.931148\n",
       "2        Albania  Population, female  25.189655       74.334426\n",
       "3        Albania    Population, male  25.510345       69.998361\n",
       "4        Algeria  Population, female  25.003448       65.501639\n",
       "..           ...                 ...        ...             ...\n",
       "335      Vietnam    Population, male  19.744828       64.721311\n",
       "336       Zambia  Population, female  22.058621       53.418033\n",
       "337       Zambia    Population, male  20.075862       49.803279\n",
       "338     Zimbabwe  Population, female  24.868966       56.801639\n",
       "339     Zimbabwe    Population, male  21.665517       52.832787\n",
       "\n",
       "[340 rows x 4 columns]"
      ]
     },
     "execution_count": 7,
     "metadata": {},
     "output_type": "execute_result"
    }
   ],
   "source": [
    "temp"
   ]
  },
  {
   "cell_type": "code",
   "execution_count": 14,
   "metadata": {},
   "outputs": [],
   "source": [
    "# predction for life expectancy given its gender, its country, \n",
    "# its bmi, its income, its happnies score\n",
    "# the above factors include economic, physical and mental conditions, which should be comprehensive"
   ]
  },
  {
   "cell_type": "code",
   "execution_count": null,
   "metadata": {},
   "outputs": [],
   "source": []
  }
 ],
 "metadata": {
  "kernelspec": {
   "display_name": "Python 3",
   "language": "python",
   "name": "python3"
  },
  "language_info": {
   "codemirror_mode": {
    "name": "ipython",
    "version": 3
   },
   "file_extension": ".py",
   "mimetype": "text/x-python",
   "name": "python",
   "nbconvert_exporter": "python",
   "pygments_lexer": "ipython3",
   "version": "3.8.5"
  }
 },
 "nbformat": 4,
 "nbformat_minor": 4
}
